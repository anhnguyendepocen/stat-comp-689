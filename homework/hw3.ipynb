{
 "cells": [
  {
   "cell_type": "markdown",
   "metadata": {},
   "source": [
    "# Riley, Alex -- Homework 3"
   ]
  },
  {
   "cell_type": "code",
   "execution_count": 1,
   "metadata": {},
   "outputs": [],
   "source": [
    "import numpy as np\n",
    "%matplotlib inline\n",
    "import matplotlib.pyplot as plt\n",
    "from scipy.special import factorial\n",
    "from scipy.stats import poisson\n",
    "plt.style.use('seaborn-whitegrid')"
   ]
  },
  {
   "cell_type": "markdown",
   "metadata": {},
   "source": [
    "We are given the number of days a given number of deaths has occurred (see Table 13.2 on p 240 of Lange)."
   ]
  },
  {
   "cell_type": "code",
   "execution_count": 2,
   "metadata": {
    "collapsed": true
   },
   "outputs": [],
   "source": [
    "freq = np.array([162,267,271,185,111,61,27,8,3,1])\n",
    "num = np.arange(freq.size)"
   ]
  },
  {
   "cell_type": "markdown",
   "metadata": {},
   "source": [
    "## Problem 1\n",
    "\n",
    "The single parameter Poisson distribution has a likelihood function\n",
    "$$ f(x_1,...,x_9 | \\lambda) = \\prod_{i=0}^9 \\left[ \\frac{e^{-\\lambda}\\lambda^i}{i!} \\right]^{n_i}  $$\n",
    "\n",
    "The log-likelihood is\n",
    "$$ \\log f = -\\lambda\\sum n_i + \\log\\lambda\\sum in_i - \\log\\left( \\prod (i!)^{n_i} \\right) $$\n",
    "\n",
    "Computing the maximum likelihood,\n",
    "$$ \\frac{d\\log f}{d\\lambda} = -\\sum n_i + \\frac{\\sum in_i}{\\lambda} = 0 $$\n",
    "\n",
    "yields the MLE for $\\lambda$\n",
    "$$ \\hat{\\lambda} = \\frac{\\sum in_i}{\\sum n_i} $$\n",
    "\n",
    "This makes sense, since the mean for a Poisson distribution is $\\lambda$ and we derived the average of deaths weighted by days that number of deaths occur."
   ]
  },
  {
   "cell_type": "code",
   "execution_count": 3,
   "metadata": {},
   "outputs": [
    {
     "data": {
      "image/png": "[encoded data removed]",
      "text/plain": [
       "<matplotlib.figure.Figure at 0x107450ba8>"
      ]
     },
     "metadata": {},
     "output_type": "display_data"
    }
   ],
   "source": [
    "lambda_MLE = sum(num*freq)/sum(freq)\n",
    "freq_MLE = poisson.pmf(num,lambda_MLE)\n",
    "\n",
    "plt.plot(num, freq/np.sum(freq), 'o', color='black', label='Data')\n",
    "plt.plot(num, freq_MLE, '-o', color='blue', label='Fit')\n",
    "plt.xlabel(\"Number of Deaths\")\n",
    "plt.ylabel(\"Proportion\")\n",
    "plt.legend(loc='best');"
   ]
  },
  {
   "cell_type": "markdown",
   "metadata": {},
   "source": [
    "## Problem 2\n",
    "\n",
    "The likelihood function for the mixture of two Poissons model is\n",
    "$$ f(\\vec{\\theta} | \\alpha,\\mu_1,\\mu_2) = \\prod_{i=0}^9 \\left[ \\alpha \\frac{e^{-\\mu_1}\\mu_1^i}{i!} + (1-\\alpha)\\frac{e^{-\\mu_2}\\mu_2^i}{i!} \\right]^{n_i} \\equiv \\prod_{i=0}^9 g_i^{n_i} $$\n",
    "\n",
    "which means the log-likelihood is\n",
    "$$ \\log f = \\sum_{i=0}^9 n_i \\log g_i $$\n",
    "\n",
    "To perform gradient ascent, we need to compute the derivatives:\n",
    "$$ \\begin{align}\n",
    "\\frac{\\partial\\log f}{\\partial\\alpha} &= \\sum \\frac{n_i}{g_i} \\frac{\\partial g_i}{\\partial\\alpha} = \\sum \\frac{n_i}{g_i} \\left(\\frac{e^{-\\mu_1}\\mu_1^i - e^{-\\mu_2}\\mu_2^i}{i!}\\right) \\\\\n",
    "\\frac{\\partial\\log f}{\\partial\\mu_1} &= \\sum \\frac{n_i}{g_i} \\frac{\\partial g_i}{\\partial\\mu_1} = \\sum \\frac{n_i}{g_i}  \\frac{\\alpha e^{-\\mu_1}}{i!} \\left( -\\mu_1^{i} + i\\mu_1^{i-1} \\right) \\\\\n",
    "\\frac{\\partial\\log f}{\\partial\\mu_2} &= \\sum \\frac{n_i}{g_i} \\frac{\\partial g_i}{\\partial\\mu_2} = \\sum \\frac{n_i}{g_i}  \\frac{(1-\\alpha)e^{-\\mu_2}}{i!} \\left(-\\mu_2^{i} + i\\mu_2^{i-1} \\right)\n",
    "\\end{align} $$"
   ]
  },
  {
   "cell_type": "code",
   "execution_count": 4,
   "metadata": {},
   "outputs": [],
   "source": [
    "def loglike(num,freq,p):\n",
    "    a,mu1,mu2 = p\n",
    "    return np.sum(freq*np.log(a*poisson.pmf(num,mu1)+(1-a)*poisson.pmf(num,mu2)))\n",
    "\n",
    "def d_da(num,freq,p):\n",
    "    a,mu1,mu2 = p\n",
    "    return np.sum((freq*(poisson.pmf(num,mu1)-poisson.pmf(num,mu2)))/(a*poisson.pmf(num,mu1)+(1-a)*poisson.pmf(num,mu2)))\n",
    "\n",
    "def d_dmu1(num,freq,p):\n",
    "    a,mu1,mu2 = p\n",
    "    return np.sum((a*freq*(-poisson.pmf(num,mu1)+poisson.pmf(num-1,mu1)))/(a*poisson.pmf(num,mu1)+(1-a)*poisson.pmf(num,mu2)))\n",
    "\n",
    "def d_dmu2(num,freq,p):\n",
    "    a,mu1,mu2 = p\n",
    "    return np.sum(((1-a)*freq*(-poisson.pmf(num,mu2)+poisson.pmf(num-1,mu2)))/(a*poisson.pmf(num,mu1)+(1-a)*poisson.pmf(num,mu2)))\n",
    "\n",
    "def grad(num,freq,p):\n",
    "    return np.array([d_da(num,freq,p), d_dmu1(num,freq,p), d_dmu2(num,freq,p)])"
   ]
  },
  {
   "cell_type": "markdown",
   "metadata": {},
   "source": [
    "and the updated values of parameters are simply\n",
    "$$ \\alpha,\\mu_1,\\mu_2 \\leftarrow \\alpha + \\frac{\\partial\\log f}{\\partial\\alpha}, \\mu_1 + \\frac{\\partial\\log f}{\\partial\\mu_1}, \\mu_2 \\leftarrow \\mu_2 + \\frac{\\partial\\log f}{\\partial\\mu_2} $$\n",
    "\n",
    "We employ gradient ascent with step-halving, adding in the numerical tolerance of 0.0001 (since 4 decimal places is good enough for us)."
   ]
  },
  {
   "cell_type": "code",
   "execution_count": 5,
   "metadata": {},
   "outputs": [],
   "source": [
    "tol = 0.000001\n",
    "\n",
    "p = [0.5,1.5,2.5]\n",
    "while True:\n",
    "    step = 0.01\n",
    "    while loglike(num,freq,p+step*grad(num,freq,p)) < loglike(num,freq,p):\n",
    "        step = step/2\n",
    "    \n",
    "    p1 = p+step*grad(num,freq,p)\n",
    "    conv = p1 - p < tol\n",
    "    \n",
    "    if sum(conv)==3:\n",
    "        break\n",
    "    \n",
    "    p = p1"
   ]
  },
  {
   "cell_type": "code",
   "execution_count": 6,
   "metadata": {},
   "outputs": [
    {
     "data": {
      "image/png": "[encoded data removed]",
      "text/plain": [
       "<matplotlib.figure.Figure at 0x10798c828>"
      ]
     },
     "metadata": {},
     "output_type": "display_data"
    }
   ],
   "source": [
    "a,mu1,mu2 = p\n",
    "freq_fit = a*poisson.pmf(num, mu1)+(1-a)*poisson.pmf(num, mu2)\n",
    "\n",
    "plt.plot(num, freq/np.sum(freq), 'o', color='black', label='Data')\n",
    "plt.plot(num, freq_fit, '-o', color='blue', label='Fit')\n",
    "plt.xlabel(\"Number of Deaths\")\n",
    "plt.ylabel(\"Proportion\")\n",
    "plt.legend(loc='best');"
   ]
  },
  {
   "cell_type": "code",
   "execution_count": null,
   "metadata": {},
   "outputs": [],
   "source": []
  }
 ],
 "metadata": {
  "kernelspec": {
   "display_name": "Python 3",
   "language": "python",
   "name": "python3"
  },
  "language_info": {
   "codemirror_mode": {
    "name": "ipython",
    "version": 3
   },
   "file_extension": ".py",
   "mimetype": "text/x-python",
   "name": "python",
   "nbconvert_exporter": "python",
   "pygments_lexer": "ipython3",
   "version": "3.6.4"
  }
 },
 "nbformat": 4,
 "nbformat_minor": 2
}
