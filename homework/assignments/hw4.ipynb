{
 "cells": [
  {
   "cell_type": "markdown",
   "metadata": {},
   "source": [
    "# Last Name, First Name Homework 4"
   ]
  },
  {
   "cell_type": "markdown",
   "metadata": {},
   "source": [
    "In this homework you will compute the posterior distribution for an exponential likelihood with a gamma prior using:\n",
    "* Model Conjugacy\n",
    "* Numerical Integration\n",
    "* Metropolis Hastings Algorithm\n",
    "\n",
    "All of these methods should give the same answer (up to numerical approximation). In practice, one would use the conjugate model result to derive the posterior because this method is computationally fastest. However the  methods of numerical integration and Metropolis Hastings are more general in that they could be used on other, non-conjugate models. Metropolis Hastings is particularly useful because it can be used for problems where the parameter dimension is too high for direct numerical integration. "
   ]
  },
  {
   "cell_type": "markdown",
   "metadata": {},
   "source": [
    "## Problem 1\n",
    "\n",
    "Suppose we observe $X_1,\\ldots,X_n \\sim f(x|\\lambda)$ where $f(x|\\lambda)$ is an exponential distribution with rate parameter $\\lambda$. Specifically\n",
    "$$ f(x|\\lambda) = \\lambda e^{-\\lambda x}$$\n",
    "for $x \\geq 0$. We put a $Gamma(\\alpha,\\beta)$ prior $\\pi(\\lambda)$ on $\\lambda$. This prior has the form\n",
    "$$\\pi(\\lambda) = \\frac{\\beta^\\alpha}{\\Gamma(\\alpha)} \\lambda^{\\alpha-1} e^{-\\beta\\lambda}$$\n",
    "for $\\lambda > 0$. Recall that $\\alpha$ and $\\beta$ are fixed, known constants.\n",
    "\n",
    "1. Using a few lines of algebra determine that the posterior distribution is $Gamma(\\alpha' = n + \\alpha,\\beta' = \\sum x_i + \\beta)$.\n",
    "2. Plot the Gamma prior probability density with $\\alpha=3$, $\\beta=1/2$ and plot the posterior density assuming $n=10$ and `[0.16265459,0.64434542, 0.00794972, 1.01595712, 1.31977252,0.08782853, 0.10424722, 0.50344791, 0.29815325, 0.73709422]`.\n",
    "\n",
    "\n",
    "Note: In python, `np.random.exponential`, `np.random.gamma`, `scipy.stats.gamma`, `scipy.stats.expon` use the scale parameterization. We use the rate parameterization. rate = 1/scale. R uses the rate parameterization in `rexp`, `dexp`, etc. and has options for both rate and scale parameterization in `rgamma`, `dgamma`, etc. See [here](https://en.wikipedia.org/wiki/Exponential_distribution) and [here](https://en.wikipedia.org/wiki/Gamma_distribution) for some discussion of different parameterizations."
   ]
  },
  {
   "cell_type": "markdown",
   "metadata": {},
   "source": [
    "## Problem 2\n",
    "\n",
    "Recall that the posterior is proportional to the likelihood times the prior\n",
    "$$ \\pi(\\lambda|x) \\propto f(x|\\lambda)\\pi(\\lambda)$$\n",
    "Here $x=(x_1,\\ldots,x_n)$ and $f(x|\\lambda) = \\lambda^n e^{-\\lambda \\sum x_i}$ is the joint probability density function. Plot $f(x|\\lambda)\\pi(\\lambda)$ for the $Gamma(\\alpha=3,\\beta=1/2)$ prior and data from the previous part. Numerically integrate this function and use the result to normalize $f(x|\\lambda)\\pi(\\lambda)$. Verify that the result matches the posterior you found in Problem 1."
   ]
  },
  {
   "cell_type": "markdown",
   "metadata": {},
   "source": [
    "## Problem 3\n",
    "\n",
    "Write (or adapt code from class) a Metropolis Hastings algorithm to sample from the posterior. Draw a histogram of the samples and verify that they approximately match the posterior determined using conjugacy or numerical integration. Compute the posterior mean and make a 95% credible interval for $\\lambda$ (you can make this interval many ways, but the most popular method is to compute the 0.025 and .975 quantiles of the posterior samples). You can verify that you have the right answer by computing the interval from the conjugacy result in problem 1."
   ]
  }
 ],
 "metadata": {
  "kernelspec": {
   "display_name": "Python 3",
   "language": "python",
   "name": "python3"
  },
  "language_info": {
   "codemirror_mode": {
    "name": "ipython",
    "version": 3
   },
   "file_extension": ".py",
   "mimetype": "text/x-python",
   "name": "python",
   "nbconvert_exporter": "python",
   "pygments_lexer": "ipython3",
   "version": "3.5.2"
  }
 },
 "nbformat": 4,
 "nbformat_minor": 1
}
