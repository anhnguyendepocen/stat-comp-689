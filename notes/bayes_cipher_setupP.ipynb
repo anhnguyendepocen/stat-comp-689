{
 "cells": [
  {
   "cell_type": "markdown",
   "metadata": {},
   "source": [
    "# Set Up Cipher Example"
   ]
  },
  {
   "cell_type": "code",
   "execution_count": 9,
   "metadata": {
    "collapsed": true
   },
   "outputs": [],
   "source": [
    "import string\n",
    "import numpy as np\n",
    "from numpy import random"
   ]
  },
  {
   "cell_type": "code",
   "execution_count": 10,
   "metadata": {
    "collapsed": true
   },
   "outputs": [],
   "source": [
    "## true text\n",
    "text = \"Libor has already sprinted ahead of the rates indicated by central bank policies, an acceleration that has baffled economists and traders. That widening gap has alarmed those who watch it as a signal of stress in the financial system. Others have pinned it on a series of technical factors, such as rising short-term debt sales by the U.S. government and new corporate tax policies. Other markets that can be tapped for dollars including through the swaps market and liquidity lines maintained by global central banks arent yet showing a big dollar squeeze\""
   ]
  },
  {
   "cell_type": "code",
   "execution_count": 11,
   "metadata": {
    "collapsed": false
   },
   "outputs": [
    {
     "data": {
      "text/plain": [
       "'Libor has already sprinted ahead of the rates indicated by central bank policies, an acceleration that has baffled economists and traders. That widening gap has alarmed those who watch it as a signal of stress in the financial system. Others have pinned it on a series of technical factors, such as rising short-term debt sales by the U.S. government and new corporate tax policies. Other markets that can be tapped for dollars including through the swaps market and liquidity lines maintained by global central banks arent yet showing a big dollar squeeze'"
      ]
     },
     "execution_count": 11,
     "metadata": {},
     "output_type": "execute_result"
    }
   ],
   "source": [
    "text"
   ]
  },
  {
   "cell_type": "code",
   "execution_count": 12,
   "metadata": {
    "collapsed": true
   },
   "outputs": [],
   "source": [
    "## get rid of all text except a-z (lowercase) and space\n",
    "text = text.lower()\n",
    "text = text.replace(\".\",\"\")\n",
    "text = text.replace(\"-\",\"\")\n",
    "text = text.replace(\",\",\"\")\n",
    "text = \"\".join(list(filter(lambda x: x in letters, text))) ## remove all non letters"
   ]
  },
  {
   "cell_type": "code",
   "execution_count": 13,
   "metadata": {
    "collapsed": false
   },
   "outputs": [
    {
     "data": {
      "text/plain": [
       "'libor has already sprinted ahead of the rates indicated by central bank policies an acceleration that has baffled economists and traders that widening gap has alarmed those who watch it as a signal of stress in the financial system others have pinned it on a series of technical factors such as rising shortterm debt sales by the us government and new corporate tax policies other markets that can be tapped for dollars including through the swaps market and liquidity lines maintained by global central banks arent yet showing a big dollar squeeze'"
      ]
     },
     "execution_count": 13,
     "metadata": {},
     "output_type": "execute_result"
    }
   ],
   "source": [
    "text"
   ]
  },
  {
   "cell_type": "markdown",
   "metadata": {},
   "source": [
    "## Construct Cipher"
   ]
  },
  {
   "cell_type": "code",
   "execution_count": 15,
   "metadata": {
    "collapsed": false
   },
   "outputs": [
    {
     "data": {
      "text/plain": [
       "['e',\n",
       " 'r',\n",
       " 'x',\n",
       " 'g',\n",
       " ' ',\n",
       " 'u',\n",
       " 'q',\n",
       " 'd',\n",
       " 'p',\n",
       " 'a',\n",
       " 'z',\n",
       " 'm',\n",
       " 'k',\n",
       " 't',\n",
       " 'b',\n",
       " 'h',\n",
       " 'i',\n",
       " 'o',\n",
       " 'w',\n",
       " 'l',\n",
       " 'n',\n",
       " 's',\n",
       " 'j',\n",
       " 'v',\n",
       " 'f',\n",
       " 'c',\n",
       " 'y']"
      ]
     },
     "execution_count": 15,
     "metadata": {},
     "output_type": "execute_result"
    }
   ],
   "source": [
    "## make a copy of letters and shuffle\n",
    "## if we don't make a copy, python with shuffle both a and letters\n",
    "random.seed(689)\n",
    "letters = list(string.ascii_lowercase)\n",
    "letters = letters + [' ']\n",
    "letters_mix = letters.copy()\n",
    "random.shuffle(letters_mix)\n",
    "letters_mix"
   ]
  },
  {
   "cell_type": "code",
   "execution_count": 16,
   "metadata": {
    "collapsed": false
   },
   "outputs": [
    {
     "data": {
      "text/plain": [
       "{' ': 'y',\n",
       " 'a': 'e',\n",
       " 'b': 'r',\n",
       " 'c': 'x',\n",
       " 'd': 'g',\n",
       " 'e': ' ',\n",
       " 'f': 'u',\n",
       " 'g': 'q',\n",
       " 'h': 'd',\n",
       " 'i': 'p',\n",
       " 'j': 'a',\n",
       " 'k': 'z',\n",
       " 'l': 'm',\n",
       " 'm': 'k',\n",
       " 'n': 't',\n",
       " 'o': 'b',\n",
       " 'p': 'h',\n",
       " 'q': 'i',\n",
       " 'r': 'o',\n",
       " 's': 'w',\n",
       " 't': 'l',\n",
       " 'u': 'n',\n",
       " 'v': 's',\n",
       " 'w': 'j',\n",
       " 'x': 'v',\n",
       " 'y': 'f',\n",
       " 'z': 'c'}"
      ]
     },
     "execution_count": 16,
     "metadata": {},
     "output_type": "execute_result"
    }
   ],
   "source": [
    "cipher = dict(list(zip(letters,letters_mix)))\n",
    "cipher"
   ]
  },
  {
   "cell_type": "code",
   "execution_count": 17,
   "metadata": {
    "collapsed": true
   },
   "outputs": [],
   "source": [
    "out = list(map(lambda x: cipher[x], text))\n",
    "code = \"\".join(out)"
   ]
  },
  {
   "cell_type": "code",
   "execution_count": 18,
   "metadata": {
    "collapsed": false
   },
   "outputs": [
    {
     "data": {
      "text/plain": [
       "'mprboydewyemo egfywhoptl gyed egybuyld yoel wyptgpxel gyrfyx tloemyretzyhbmpxp wyetyexx m oelpbtyldelydewyreuum gy xbtbkpwlwyetgyloeg owyldelyjpg tptqyqehydewyemeok gyldbw yjdbyjelxdyplyewyeywpqtemybuywlo wwyptyld yuptetxpemywfwl kybld owydes yhptt gyplybtyeyw op wybuyl xdtpxemyuexlbowywnxdyewyopwptqywdboll okyg rlywem wyrfyld ynwyqbs otk tlyetgyt jyxbohboel ylevyhbmpxp wybld oykeoz lwyldelyxetyr ylehh gyuboygbmmeowyptxmngptqyldobnqdyld ywjehwykeoz lyetgympinpgplfympt wykeptlept gyrfyqmbremyx tloemyretzwyeo tlyf lywdbjptqyeyrpqygbmmeoywin  c '"
      ]
     },
     "execution_count": 18,
     "metadata": {},
     "output_type": "execute_result"
    }
   ],
   "source": [
    "code"
   ]
  },
  {
   "cell_type": "markdown",
   "metadata": {},
   "source": [
    "This coded message is used in `bayes_cipherP.ipynb`."
   ]
  }
 ],
 "metadata": {
  "kernelspec": {
   "display_name": "Python 3",
   "language": "python",
   "name": "python3"
  },
  "language_info": {
   "codemirror_mode": {
    "name": "ipython",
    "version": 3
   },
   "file_extension": ".py",
   "mimetype": "text/x-python",
   "name": "python",
   "nbconvert_exporter": "python",
   "pygments_lexer": "ipython3",
   "version": "3.5.2"
  }
 },
 "nbformat": 4,
 "nbformat_minor": 1
}
