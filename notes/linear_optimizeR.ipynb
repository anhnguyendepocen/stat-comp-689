{
 "cells": [
  {
   "cell_type": "markdown",
   "metadata": {},
   "source": [
    "# Speed and Memory Usage of Various Linear Regression Solvers\n",
    "\n",
    "We experiment with several methods for estimating parameter coefficients in linear regression. We compare the methods based on speed and memory useage. Points to remember:\n",
    "\n",
    "1. There can be significant preprocessing by R and Python prior to calling C functions. Sometimes this preprocessing takes more computation that the underlying algorithm one is trying to use. It may also use a lot of memory. One can often avoid this extra computation by calling more basic R functions (e.g. lm.fit instead of lm).\n",
    "2. The form of a mathematical expression and the way it is implemented in a computer often should be different. (See  \"Computational Statistics\" by Gentle who makes this point several times).\n",
    "\n",
    "For the first point it is worth keeping in mind that \"premature optimization is the root of all evil (or at least most of it) in programming.\" - [Donald Knuth](https://en.wikiquote.org/wiki/Donald_Knuth). The function lm may be significantly slower than lm.fit, but for most applications this will not matter since both will take well under 1 second. However when building complicated models that use linear solvers many times, this can be a significant issue. This point also applies to functions other than lm.\n"
   ]
  },
  {
   "cell_type": "markdown",
   "metadata": {},
   "source": [
    "## Speed"
   ]
  },
  {
   "cell_type": "code",
   "execution_count": 99,
   "metadata": {
    "collapsed": false
   },
   "outputs": [],
   "source": [
    "library(microbenchmark)\n",
    "n <- 1000\n",
    "p <- 10\n",
    "beta <- 1:p\n",
    "X <- matrix(rnorm(n*p),nrow=n)\n",
    "Y <- X%*%beta + rnorm(n)"
   ]
  },
  {
   "cell_type": "code",
   "execution_count": 100,
   "metadata": {
    "collapsed": false
   },
   "outputs": [],
   "source": [
    "out <- microbenchmark(lm(Y~X-1),lm.fit(X,Y),.lm.fit(X,Y),solve(t(X)%*%X,t(X)%*%Y),solve(t(X)%*%X)%*%t(X)%*%Y)"
   ]
  },
  {
   "cell_type": "code",
   "execution_count": 101,
   "metadata": {
    "collapsed": false
   },
   "outputs": [
    {
     "data": {
      "text/html": [
       "<table>\n",
       "<thead><tr><th scope=col>expr</th><th scope=col>min</th><th scope=col>lq</th><th scope=col>mean</th><th scope=col>median</th><th scope=col>uq</th><th scope=col>max</th><th scope=col>neval</th></tr></thead>\n",
       "<tbody>\n",
       "\t<tr><td>lm(Y ~ X - 1)                   </td><td>1317.874                        </td><td>1385.7740                       </td><td>1759.5415                       </td><td>1444.7145                       </td><td>1894.6990                       </td><td>5815.184                        </td><td>100                             </td></tr>\n",
       "\t<tr><td>lm.fit(X, Y)                    </td><td> 273.861                        </td><td> 287.2885                       </td><td> 343.1774                       </td><td> 305.0620                       </td><td> 357.1210                       </td><td> 640.515                        </td><td>100                             </td></tr>\n",
       "\t<tr><td>.lm.fit(X, Y)                   </td><td> 230.875                        </td><td> 233.9125                       </td><td> 254.3718                       </td><td> 236.0265                       </td><td> 260.1950                       </td><td> 350.356                        </td><td>100                             </td></tr>\n",
       "\t<tr><td>solve(t(X) %*% X, t(X) %*% Y)   </td><td> 122.597                        </td><td> 128.6245                       </td><td> 151.5123                       </td><td> 138.4190                       </td><td> 152.3340                       </td><td> 301.656                        </td><td>100                             </td></tr>\n",
       "\t<tr><td>solve(t(X) %*% X) %*% t(X) %*% Y</td><td> 196.749                        </td><td> 208.0420                       </td><td> 254.5106                       </td><td> 216.8160                       </td><td> 251.6365                       </td><td> 568.180                        </td><td>100                             </td></tr>\n",
       "</tbody>\n",
       "</table>\n"
      ],
      "text/latex": [
       "\\begin{tabular}{r|llllllll}\n",
       " expr & min & lq & mean & median & uq & max & neval\\\\\n",
       "\\hline\n",
       "\t lm(Y \\textasciitilde{} X - 1)                    & 1317.874                                          & 1385.7740                                         & 1759.5415                                         & 1444.7145                                         & 1894.6990                                         & 5815.184                                          & 100                                              \\\\\n",
       "\t lm.fit(X, Y)                     &  273.861                         &  287.2885                        &  343.1774                        &  305.0620                        &  357.1210                        &  640.515                         & 100                             \\\\\n",
       "\t .lm.fit(X, Y)                    &  230.875                         &  233.9125                        &  254.3718                        &  236.0265                        &  260.1950                        &  350.356                         & 100                             \\\\\n",
       "\t solve(t(X) \\%*\\% X, t(X) \\%*\\% Y)    &  122.597                                 &  128.6245                                &  151.5123                                &  138.4190                                &  152.3340                                &  301.656                                 & 100                                     \\\\\n",
       "\t solve(t(X) \\%*\\% X) \\%*\\% t(X) \\%*\\% Y &  196.749                                     &  208.0420                                    &  254.5106                                    &  216.8160                                    &  251.6365                                    &  568.180                                     & 100                                         \\\\\n",
       "\\end{tabular}\n"
      ],
      "text/markdown": [
       "\n",
       "expr | min | lq | mean | median | uq | max | neval | \n",
       "|---|---|---|---|---|\n",
       "| lm(Y ~ X - 1)                    | 1317.874                         | 1385.7740                        | 1759.5415                        | 1444.7145                        | 1894.6990                        | 5815.184                         | 100                              | \n",
       "| lm.fit(X, Y)                     |  273.861                         |  287.2885                        |  343.1774                        |  305.0620                        |  357.1210                        |  640.515                         | 100                              | \n",
       "| .lm.fit(X, Y)                    |  230.875                         |  233.9125                        |  254.3718                        |  236.0265                        |  260.1950                        |  350.356                         | 100                              | \n",
       "| solve(t(X) %*% X, t(X) %*% Y)    |  122.597                         |  128.6245                        |  151.5123                        |  138.4190                        |  152.3340                        |  301.656                         | 100                              | \n",
       "| solve(t(X) %*% X) %*% t(X) %*% Y |  196.749                         |  208.0420                        |  254.5106                        |  216.8160                        |  251.6365                        |  568.180                         | 100                              | \n",
       "\n",
       "\n"
      ],
      "text/plain": [
       "  expr                             min      lq        mean      median   \n",
       "1 lm(Y ~ X - 1)                    1317.874 1385.7740 1759.5415 1444.7145\n",
       "2 lm.fit(X, Y)                      273.861  287.2885  343.1774  305.0620\n",
       "3 .lm.fit(X, Y)                     230.875  233.9125  254.3718  236.0265\n",
       "4 solve(t(X) %*% X, t(X) %*% Y)     122.597  128.6245  151.5123  138.4190\n",
       "5 solve(t(X) %*% X) %*% t(X) %*% Y  196.749  208.0420  254.5106  216.8160\n",
       "  uq        max      neval\n",
       "1 1894.6990 5815.184 100  \n",
       "2  357.1210  640.515 100  \n",
       "3  260.1950  350.356 100  \n",
       "4  152.3340  301.656 100  \n",
       "5  251.6365  568.180 100  "
      ]
     },
     "metadata": {},
     "output_type": "display_data"
    }
   ],
   "source": [
    "summary(out)"
   ]
  },
  {
   "cell_type": "markdown",
   "metadata": {},
   "source": [
    "These methods are accessing mostly fortran code. The fortran routines use matrix decompositions such as Cholesky or QR to solve linear systems of equations. How fast do we get to the fortran? Look at the source code and find out."
   ]
  },
  {
   "cell_type": "code",
   "execution_count": 102,
   "metadata": {
    "collapsed": false
   },
   "outputs": [
    {
     "data": {
      "text/html": [
       "<pre class=language-r><code>function (formula, data, subset, weights, na.action, method = \"qr\", \n",
       "<span style=white-space:pre-wrap>    model = TRUE, x = FALSE, y = FALSE, qr = TRUE, singular.ok = TRUE, </span>\n",
       "<span style=white-space:pre-wrap>    contrasts = NULL, offset, ...) </span>\n",
       "{\n",
       "<span style=white-space:pre-wrap>    ret.x &lt;- x</span>\n",
       "<span style=white-space:pre-wrap>    ret.y &lt;- y</span>\n",
       "<span style=white-space:pre-wrap>    cl &lt;- match.call()</span>\n",
       "<span style=white-space:pre-wrap>    mf &lt;- match.call(expand.dots = FALSE)</span>\n",
       "<span style=white-space:pre-wrap>    m &lt;- match(c(\"formula\", \"data\", \"subset\", \"weights\", \"na.action\", </span>\n",
       "<span style=white-space:pre-wrap>        \"offset\"), names(mf), 0L)</span>\n",
       "<span style=white-space:pre-wrap>    mf &lt;- mf[c(1L, m)]</span>\n",
       "<span style=white-space:pre-wrap>    mf$drop.unused.levels &lt;- TRUE</span>\n",
       "<span style=white-space:pre-wrap>    mf[[1L]] &lt;- quote(stats::model.frame)</span>\n",
       "<span style=white-space:pre-wrap>    mf &lt;- eval(mf, parent.frame())</span>\n",
       "<span style=white-space:pre-wrap>    if (method == \"model.frame\") </span>\n",
       "<span style=white-space:pre-wrap>        return(mf)</span>\n",
       "<span style=white-space:pre-wrap>    else if (method != \"qr\") </span>\n",
       "<span style=white-space:pre-wrap>        warning(gettextf(\"method = '%s' is not supported. Using 'qr'\", </span>\n",
       "<span style=white-space:pre-wrap>            method), domain = NA)</span>\n",
       "<span style=white-space:pre-wrap>    mt &lt;- attr(mf, \"terms\")</span>\n",
       "<span style=white-space:pre-wrap>    y &lt;- model.response(mf, \"numeric\")</span>\n",
       "<span style=white-space:pre-wrap>    w &lt;- as.vector(model.weights(mf))</span>\n",
       "<span style=white-space:pre-wrap>    if (!is.null(w) &amp;&amp; !is.numeric(w)) </span>\n",
       "<span style=white-space:pre-wrap>        stop(\"'weights' must be a numeric vector\")</span>\n",
       "<span style=white-space:pre-wrap>    offset &lt;- as.vector(model.offset(mf))</span>\n",
       "<span style=white-space:pre-wrap>    if (!is.null(offset)) {</span>\n",
       "<span style=white-space:pre-wrap>        if (length(offset) != NROW(y)) </span>\n",
       "<span style=white-space:pre-wrap>            stop(gettextf(\"number of offsets is %d, should equal %d (number of observations)\", </span>\n",
       "<span style=white-space:pre-wrap>                length(offset), NROW(y)), domain = NA)</span>\n",
       "<span style=white-space:pre-wrap>    }</span>\n",
       "<span style=white-space:pre-wrap>    if (is.empty.model(mt)) {</span>\n",
       "<span style=white-space:pre-wrap>        x &lt;- NULL</span>\n",
       "<span style=white-space:pre-wrap>        z &lt;- list(coefficients = if (is.matrix(y)) matrix(, 0, </span>\n",
       "<span style=white-space:pre-wrap>            3) else numeric(), residuals = y, fitted.values = 0 * </span>\n",
       "<span style=white-space:pre-wrap>            y, weights = w, rank = 0L, df.residual = if (!is.null(w)) sum(w != </span>\n",
       "<span style=white-space:pre-wrap>            0) else if (is.matrix(y)) nrow(y) else length(y))</span>\n",
       "<span style=white-space:pre-wrap>        if (!is.null(offset)) {</span>\n",
       "<span style=white-space:pre-wrap>            z$fitted.values &lt;- offset</span>\n",
       "<span style=white-space:pre-wrap>            z$residuals &lt;- y - offset</span>\n",
       "<span style=white-space:pre-wrap>        }</span>\n",
       "<span style=white-space:pre-wrap>    }</span>\n",
       "<span style=white-space:pre-wrap>    else {</span>\n",
       "<span style=white-space:pre-wrap>        x &lt;- model.matrix(mt, mf, contrasts)</span>\n",
       "<span style=white-space:pre-wrap>        z &lt;- if (is.null(w)) </span>\n",
       "<span style=white-space:pre-wrap>            lm.fit(x, y, offset = offset, singular.ok = singular.ok, </span>\n",
       "<span style=white-space:pre-wrap>                ...)</span>\n",
       "<span style=white-space:pre-wrap>        else lm.wfit(x, y, w, offset = offset, singular.ok = singular.ok, </span>\n",
       "<span style=white-space:pre-wrap>            ...)</span>\n",
       "<span style=white-space:pre-wrap>    }</span>\n",
       "<span style=white-space:pre-wrap>    class(z) &lt;- c(if (is.matrix(y)) \"mlm\", \"lm\")</span>\n",
       "<span style=white-space:pre-wrap>    z$na.action &lt;- attr(mf, \"na.action\")</span>\n",
       "<span style=white-space:pre-wrap>    z$offset &lt;- offset</span>\n",
       "<span style=white-space:pre-wrap>    z$contrasts &lt;- attr(x, \"contrasts\")</span>\n",
       "<span style=white-space:pre-wrap>    z$xlevels &lt;- .getXlevels(mt, mf)</span>\n",
       "<span style=white-space:pre-wrap>    z$call &lt;- cl</span>\n",
       "<span style=white-space:pre-wrap>    z$terms &lt;- mt</span>\n",
       "<span style=white-space:pre-wrap>    if (model) </span>\n",
       "<span style=white-space:pre-wrap>        z$model &lt;- mf</span>\n",
       "<span style=white-space:pre-wrap>    if (ret.x) </span>\n",
       "<span style=white-space:pre-wrap>        z$x &lt;- x</span>\n",
       "<span style=white-space:pre-wrap>    if (ret.y) </span>\n",
       "<span style=white-space:pre-wrap>        z$y &lt;- y</span>\n",
       "<span style=white-space:pre-wrap>    if (!qr) </span>\n",
       "<span style=white-space:pre-wrap>        z$qr &lt;- NULL</span>\n",
       "<span style=white-space:pre-wrap>    z</span>\n",
       "}</code></pre>"
      ],
      "text/latex": [
       "\\begin{minted}{r}\n",
       "function (formula, data, subset, weights, na.action, method = \"qr\", \n",
       "    model = TRUE, x = FALSE, y = FALSE, qr = TRUE, singular.ok = TRUE, \n",
       "    contrasts = NULL, offset, ...) \n",
       "\\{\n",
       "    ret.x <- x\n",
       "    ret.y <- y\n",
       "    cl <- match.call()\n",
       "    mf <- match.call(expand.dots = FALSE)\n",
       "    m <- match(c(\"formula\", \"data\", \"subset\", \"weights\", \"na.action\", \n",
       "        \"offset\"), names(mf), 0L)\n",
       "    mf <- mf{[}c(1L, m){]}\n",
       "    mf\\$drop.unused.levels <- TRUE\n",
       "    mf{[}{[}1L{]}{]} <- quote(stats::model.frame)\n",
       "    mf <- eval(mf, parent.frame())\n",
       "    if (method == \"model.frame\") \n",
       "        return(mf)\n",
       "    else if (method != \"qr\") \n",
       "        warning(gettextf(\"method = '\\%s' is not supported. Using 'qr'\", \n",
       "            method), domain = NA)\n",
       "    mt <- attr(mf, \"terms\")\n",
       "    y <- model.response(mf, \"numeric\")\n",
       "    w <- as.vector(model.weights(mf))\n",
       "    if (!is.null(w) \\&\\& !is.numeric(w)) \n",
       "        stop(\"'weights' must be a numeric vector\")\n",
       "    offset <- as.vector(model.offset(mf))\n",
       "    if (!is.null(offset)) \\{\n",
       "        if (length(offset) != NROW(y)) \n",
       "            stop(gettextf(\"number of offsets is \\%d, should equal \\%d (number of observations)\", \n",
       "                length(offset), NROW(y)), domain = NA)\n",
       "    \\}\n",
       "    if (is.empty.model(mt)) \\{\n",
       "        x <- NULL\n",
       "        z <- list(coefficients = if (is.matrix(y)) matrix(, 0, \n",
       "            3) else numeric(), residuals = y, fitted.values = 0 * \n",
       "            y, weights = w, rank = 0L, df.residual = if (!is.null(w)) sum(w != \n",
       "            0) else if (is.matrix(y)) nrow(y) else length(y))\n",
       "        if (!is.null(offset)) \\{\n",
       "            z\\$fitted.values <- offset\n",
       "            z\\$residuals <- y - offset\n",
       "        \\}\n",
       "    \\}\n",
       "    else \\{\n",
       "        x <- model.matrix(mt, mf, contrasts)\n",
       "        z <- if (is.null(w)) \n",
       "            lm.fit(x, y, offset = offset, singular.ok = singular.ok, \n",
       "                ...)\n",
       "        else lm.wfit(x, y, w, offset = offset, singular.ok = singular.ok, \n",
       "            ...)\n",
       "    \\}\n",
       "    class(z) <- c(if (is.matrix(y)) \"mlm\", \"lm\")\n",
       "    z\\$na.action <- attr(mf, \"na.action\")\n",
       "    z\\$offset <- offset\n",
       "    z\\$contrasts <- attr(x, \"contrasts\")\n",
       "    z\\$xlevels <- .getXlevels(mt, mf)\n",
       "    z\\$call <- cl\n",
       "    z\\$terms <- mt\n",
       "    if (model) \n",
       "        z\\$model <- mf\n",
       "    if (ret.x) \n",
       "        z\\$x <- x\n",
       "    if (ret.y) \n",
       "        z\\$y <- y\n",
       "    if (!qr) \n",
       "        z\\$qr <- NULL\n",
       "    z\n",
       "\\}\n",
       "\\end{minted}"
      ],
      "text/markdown": [
       "```r\n",
       "function (formula, data, subset, weights, na.action, method = \"qr\", \n",
       "    model = TRUE, x = FALSE, y = FALSE, qr = TRUE, singular.ok = TRUE, \n",
       "    contrasts = NULL, offset, ...) \n",
       "{\n",
       "    ret.x <- x\n",
       "    ret.y <- y\n",
       "    cl <- match.call()\n",
       "    mf <- match.call(expand.dots = FALSE)\n",
       "    m <- match(c(\"formula\", \"data\", \"subset\", \"weights\", \"na.action\", \n",
       "        \"offset\"), names(mf), 0L)\n",
       "    mf <- mf[c(1L, m)]\n",
       "    mf$drop.unused.levels <- TRUE\n",
       "    mf[[1L]] <- quote(stats::model.frame)\n",
       "    mf <- eval(mf, parent.frame())\n",
       "    if (method == \"model.frame\") \n",
       "        return(mf)\n",
       "    else if (method != \"qr\") \n",
       "        warning(gettextf(\"method = '%s' is not supported. Using 'qr'\", \n",
       "            method), domain = NA)\n",
       "    mt <- attr(mf, \"terms\")\n",
       "    y <- model.response(mf, \"numeric\")\n",
       "    w <- as.vector(model.weights(mf))\n",
       "    if (!is.null(w) && !is.numeric(w)) \n",
       "        stop(\"'weights' must be a numeric vector\")\n",
       "    offset <- as.vector(model.offset(mf))\n",
       "    if (!is.null(offset)) {\n",
       "        if (length(offset) != NROW(y)) \n",
       "            stop(gettextf(\"number of offsets is %d, should equal %d (number of observations)\", \n",
       "                length(offset), NROW(y)), domain = NA)\n",
       "    }\n",
       "    if (is.empty.model(mt)) {\n",
       "        x <- NULL\n",
       "        z <- list(coefficients = if (is.matrix(y)) matrix(, 0, \n",
       "            3) else numeric(), residuals = y, fitted.values = 0 * \n",
       "            y, weights = w, rank = 0L, df.residual = if (!is.null(w)) sum(w != \n",
       "            0) else if (is.matrix(y)) nrow(y) else length(y))\n",
       "        if (!is.null(offset)) {\n",
       "            z$fitted.values <- offset\n",
       "            z$residuals <- y - offset\n",
       "        }\n",
       "    }\n",
       "    else {\n",
       "        x <- model.matrix(mt, mf, contrasts)\n",
       "        z <- if (is.null(w)) \n",
       "            lm.fit(x, y, offset = offset, singular.ok = singular.ok, \n",
       "                ...)\n",
       "        else lm.wfit(x, y, w, offset = offset, singular.ok = singular.ok, \n",
       "            ...)\n",
       "    }\n",
       "    class(z) <- c(if (is.matrix(y)) \"mlm\", \"lm\")\n",
       "    z$na.action <- attr(mf, \"na.action\")\n",
       "    z$offset <- offset\n",
       "    z$contrasts <- attr(x, \"contrasts\")\n",
       "    z$xlevels <- .getXlevels(mt, mf)\n",
       "    z$call <- cl\n",
       "    z$terms <- mt\n",
       "    if (model) \n",
       "        z$model <- mf\n",
       "    if (ret.x) \n",
       "        z$x <- x\n",
       "    if (ret.y) \n",
       "        z$y <- y\n",
       "    if (!qr) \n",
       "        z$qr <- NULL\n",
       "    z\n",
       "}\n",
       "```"
      ],
      "text/plain": [
       "function (formula, data, subset, weights, na.action, method = \"qr\", \n",
       "    model = TRUE, x = FALSE, y = FALSE, qr = TRUE, singular.ok = TRUE, \n",
       "    contrasts = NULL, offset, ...) \n",
       "{\n",
       "    ret.x <- x\n",
       "    ret.y <- y\n",
       "    cl <- match.call()\n",
       "    mf <- match.call(expand.dots = FALSE)\n",
       "    m <- match(c(\"formula\", \"data\", \"subset\", \"weights\", \"na.action\", \n",
       "        \"offset\"), names(mf), 0L)\n",
       "    mf <- mf[c(1L, m)]\n",
       "    mf$drop.unused.levels <- TRUE\n",
       "    mf[[1L]] <- quote(stats::model.frame)\n",
       "    mf <- eval(mf, parent.frame())\n",
       "    if (method == \"model.frame\") \n",
       "        return(mf)\n",
       "    else if (method != \"qr\") \n",
       "        warning(gettextf(\"method = '%s' is not supported. Using 'qr'\", \n",
       "            method), domain = NA)\n",
       "    mt <- attr(mf, \"terms\")\n",
       "    y <- model.response(mf, \"numeric\")\n",
       "    w <- as.vector(model.weights(mf))\n",
       "    if (!is.null(w) && !is.numeric(w)) \n",
       "        stop(\"'weights' must be a numeric vector\")\n",
       "    offset <- as.vector(model.offset(mf))\n",
       "    if (!is.null(offset)) {\n",
       "        if (length(offset) != NROW(y)) \n",
       "            stop(gettextf(\"number of offsets is %d, should equal %d (number of observations)\", \n",
       "                length(offset), NROW(y)), domain = NA)\n",
       "    }\n",
       "    if (is.empty.model(mt)) {\n",
       "        x <- NULL\n",
       "        z <- list(coefficients = if (is.matrix(y)) matrix(, 0, \n",
       "            3) else numeric(), residuals = y, fitted.values = 0 * \n",
       "            y, weights = w, rank = 0L, df.residual = if (!is.null(w)) sum(w != \n",
       "            0) else if (is.matrix(y)) nrow(y) else length(y))\n",
       "        if (!is.null(offset)) {\n",
       "            z$fitted.values <- offset\n",
       "            z$residuals <- y - offset\n",
       "        }\n",
       "    }\n",
       "    else {\n",
       "        x <- model.matrix(mt, mf, contrasts)\n",
       "        z <- if (is.null(w)) \n",
       "            lm.fit(x, y, offset = offset, singular.ok = singular.ok, \n",
       "                ...)\n",
       "        else lm.wfit(x, y, w, offset = offset, singular.ok = singular.ok, \n",
       "            ...)\n",
       "    }\n",
       "    class(z) <- c(if (is.matrix(y)) \"mlm\", \"lm\")\n",
       "    z$na.action <- attr(mf, \"na.action\")\n",
       "    z$offset <- offset\n",
       "    z$contrasts <- attr(x, \"contrasts\")\n",
       "    z$xlevels <- .getXlevels(mt, mf)\n",
       "    z$call <- cl\n",
       "    z$terms <- mt\n",
       "    if (model) \n",
       "        z$model <- mf\n",
       "    if (ret.x) \n",
       "        z$x <- x\n",
       "    if (ret.y) \n",
       "        z$y <- y\n",
       "    if (!qr) \n",
       "        z$qr <- NULL\n",
       "    z\n",
       "}\n",
       "<bytecode: 0x5862038>\n",
       "<environment: namespace:stats>"
      ]
     },
     "metadata": {},
     "output_type": "display_data"
    },
    {
     "data": {
      "text/html": [
       "<pre class=language-r><code>function (x, y, offset = NULL, method = \"qr\", tol = 1e-07, singular.ok = TRUE, \n",
       "<span style=white-space:pre-wrap>    ...) </span>\n",
       "{\n",
       "<span style=white-space:pre-wrap>    if (is.null(n &lt;- nrow(x))) </span>\n",
       "<span style=white-space:pre-wrap>        stop(\"'x' must be a matrix\")</span>\n",
       "<span style=white-space:pre-wrap>    if (n == 0L) </span>\n",
       "<span style=white-space:pre-wrap>        stop(\"0 (non-NA) cases\")</span>\n",
       "<span style=white-space:pre-wrap>    p &lt;- ncol(x)</span>\n",
       "<span style=white-space:pre-wrap>    if (p == 0L) {</span>\n",
       "<span style=white-space:pre-wrap>        return(list(coefficients = numeric(), residuals = y, </span>\n",
       "<span style=white-space:pre-wrap>            fitted.values = 0 * y, rank = 0, df.residual = length(y)))</span>\n",
       "<span style=white-space:pre-wrap>    }</span>\n",
       "<span style=white-space:pre-wrap>    ny &lt;- NCOL(y)</span>\n",
       "<span style=white-space:pre-wrap>    if (is.matrix(y) &amp;&amp; ny == 1) </span>\n",
       "<span style=white-space:pre-wrap>        y &lt;- drop(y)</span>\n",
       "<span style=white-space:pre-wrap>    if (!is.null(offset)) </span>\n",
       "<span style=white-space:pre-wrap>        y &lt;- y - offset</span>\n",
       "<span style=white-space:pre-wrap>    if (NROW(y) != n) </span>\n",
       "<span style=white-space:pre-wrap>        stop(\"incompatible dimensions\")</span>\n",
       "<span style=white-space:pre-wrap>    if (method != \"qr\") </span>\n",
       "<span style=white-space:pre-wrap>        warning(gettextf(\"method = '%s' is not supported. Using 'qr'\", </span>\n",
       "<span style=white-space:pre-wrap>            method), domain = NA)</span>\n",
       "<span style=white-space:pre-wrap>    chkDots(...)</span>\n",
       "<span style=white-space:pre-wrap>    z &lt;- .Call(C_Cdqrls, x, y, tol, FALSE)</span>\n",
       "<span style=white-space:pre-wrap>    if (!singular.ok &amp;&amp; z$rank &lt; p) </span>\n",
       "<span style=white-space:pre-wrap>        stop(\"singular fit encountered\")</span>\n",
       "<span style=white-space:pre-wrap>    coef &lt;- z$coefficients</span>\n",
       "<span style=white-space:pre-wrap>    pivot &lt;- z$pivot</span>\n",
       "<span style=white-space:pre-wrap>    r1 &lt;- seq_len(z$rank)</span>\n",
       "<span style=white-space:pre-wrap>    dn &lt;- colnames(x)</span>\n",
       "<span style=white-space:pre-wrap>    if (is.null(dn)) </span>\n",
       "<span style=white-space:pre-wrap>        dn &lt;- paste0(\"x\", 1L:p)</span>\n",
       "<span style=white-space:pre-wrap>    nmeffects &lt;- c(dn[pivot[r1]], rep.int(\"\", n - z$rank))</span>\n",
       "<span style=white-space:pre-wrap>    r2 &lt;- if (z$rank &lt; p) </span>\n",
       "<span style=white-space:pre-wrap>        (z$rank + 1L):p</span>\n",
       "<span style=white-space:pre-wrap>    else integer()</span>\n",
       "<span style=white-space:pre-wrap>    if (is.matrix(y)) {</span>\n",
       "<span style=white-space:pre-wrap>        coef[r2, ] &lt;- NA</span>\n",
       "<span style=white-space:pre-wrap>        if (z$pivoted) </span>\n",
       "<span style=white-space:pre-wrap>            coef[pivot, ] &lt;- coef</span>\n",
       "<span style=white-space:pre-wrap>        dimnames(coef) &lt;- list(dn, colnames(y))</span>\n",
       "<span style=white-space:pre-wrap>        dimnames(z$effects) &lt;- list(nmeffects, colnames(y))</span>\n",
       "<span style=white-space:pre-wrap>    }</span>\n",
       "<span style=white-space:pre-wrap>    else {</span>\n",
       "<span style=white-space:pre-wrap>        coef[r2] &lt;- NA</span>\n",
       "<span style=white-space:pre-wrap>        if (z$pivoted) </span>\n",
       "<span style=white-space:pre-wrap>            coef[pivot] &lt;- coef</span>\n",
       "<span style=white-space:pre-wrap>        names(coef) &lt;- dn</span>\n",
       "<span style=white-space:pre-wrap>        names(z$effects) &lt;- nmeffects</span>\n",
       "<span style=white-space:pre-wrap>    }</span>\n",
       "<span style=white-space:pre-wrap>    z$coefficients &lt;- coef</span>\n",
       "<span style=white-space:pre-wrap>    r1 &lt;- y - z$residuals</span>\n",
       "<span style=white-space:pre-wrap>    if (!is.null(offset)) </span>\n",
       "<span style=white-space:pre-wrap>        r1 &lt;- r1 + offset</span>\n",
       "<span style=white-space:pre-wrap>    if (z$pivoted) </span>\n",
       "<span style=white-space:pre-wrap>        colnames(z$qr) &lt;- colnames(x)[z$pivot]</span>\n",
       "<span style=white-space:pre-wrap>    qr &lt;- z[c(\"qr\", \"qraux\", \"pivot\", \"tol\", \"rank\")]</span>\n",
       "<span style=white-space:pre-wrap>    c(z[c(\"coefficients\", \"residuals\", \"effects\", \"rank\")], list(fitted.values = r1, </span>\n",
       "<span style=white-space:pre-wrap>        assign = attr(x, \"assign\"), qr = structure(qr, class = \"qr\"), </span>\n",
       "<span style=white-space:pre-wrap>        df.residual = n - z$rank))</span>\n",
       "}</code></pre>"
      ],
      "text/latex": [
       "\\begin{minted}{r}\n",
       "function (x, y, offset = NULL, method = \"qr\", tol = 1e-07, singular.ok = TRUE, \n",
       "    ...) \n",
       "\\{\n",
       "    if (is.null(n <- nrow(x))) \n",
       "        stop(\"'x' must be a matrix\")\n",
       "    if (n == 0L) \n",
       "        stop(\"0 (non-NA) cases\")\n",
       "    p <- ncol(x)\n",
       "    if (p == 0L) \\{\n",
       "        return(list(coefficients = numeric(), residuals = y, \n",
       "            fitted.values = 0 * y, rank = 0, df.residual = length(y)))\n",
       "    \\}\n",
       "    ny <- NCOL(y)\n",
       "    if (is.matrix(y) \\&\\& ny == 1) \n",
       "        y <- drop(y)\n",
       "    if (!is.null(offset)) \n",
       "        y <- y - offset\n",
       "    if (NROW(y) != n) \n",
       "        stop(\"incompatible dimensions\")\n",
       "    if (method != \"qr\") \n",
       "        warning(gettextf(\"method = '\\%s' is not supported. Using 'qr'\", \n",
       "            method), domain = NA)\n",
       "    chkDots(...)\n",
       "    z <- .Call(C\\_Cdqrls, x, y, tol, FALSE)\n",
       "    if (!singular.ok \\&\\& z\\$rank < p) \n",
       "        stop(\"singular fit encountered\")\n",
       "    coef <- z\\$coefficients\n",
       "    pivot <- z\\$pivot\n",
       "    r1 <- seq\\_len(z\\$rank)\n",
       "    dn <- colnames(x)\n",
       "    if (is.null(dn)) \n",
       "        dn <- paste0(\"x\", 1L:p)\n",
       "    nmeffects <- c(dn{[}pivot{[}r1{]}{]}, rep.int(\"\", n - z\\$rank))\n",
       "    r2 <- if (z\\$rank < p) \n",
       "        (z\\$rank + 1L):p\n",
       "    else integer()\n",
       "    if (is.matrix(y)) \\{\n",
       "        coef{[}r2, {]} <- NA\n",
       "        if (z\\$pivoted) \n",
       "            coef{[}pivot, {]} <- coef\n",
       "        dimnames(coef) <- list(dn, colnames(y))\n",
       "        dimnames(z\\$effects) <- list(nmeffects, colnames(y))\n",
       "    \\}\n",
       "    else \\{\n",
       "        coef{[}r2{]} <- NA\n",
       "        if (z\\$pivoted) \n",
       "            coef{[}pivot{]} <- coef\n",
       "        names(coef) <- dn\n",
       "        names(z\\$effects) <- nmeffects\n",
       "    \\}\n",
       "    z\\$coefficients <- coef\n",
       "    r1 <- y - z\\$residuals\n",
       "    if (!is.null(offset)) \n",
       "        r1 <- r1 + offset\n",
       "    if (z\\$pivoted) \n",
       "        colnames(z\\$qr) <- colnames(x){[}z\\$pivot{]}\n",
       "    qr <- z{[}c(\"qr\", \"qraux\", \"pivot\", \"tol\", \"rank\"){]}\n",
       "    c(z{[}c(\"coefficients\", \"residuals\", \"effects\", \"rank\"){]}, list(fitted.values = r1, \n",
       "        assign = attr(x, \"assign\"), qr = structure(qr, class = \"qr\"), \n",
       "        df.residual = n - z\\$rank))\n",
       "\\}\n",
       "\\end{minted}"
      ],
      "text/markdown": [
       "```r\n",
       "function (x, y, offset = NULL, method = \"qr\", tol = 1e-07, singular.ok = TRUE, \n",
       "    ...) \n",
       "{\n",
       "    if (is.null(n <- nrow(x))) \n",
       "        stop(\"'x' must be a matrix\")\n",
       "    if (n == 0L) \n",
       "        stop(\"0 (non-NA) cases\")\n",
       "    p <- ncol(x)\n",
       "    if (p == 0L) {\n",
       "        return(list(coefficients = numeric(), residuals = y, \n",
       "            fitted.values = 0 * y, rank = 0, df.residual = length(y)))\n",
       "    }\n",
       "    ny <- NCOL(y)\n",
       "    if (is.matrix(y) && ny == 1) \n",
       "        y <- drop(y)\n",
       "    if (!is.null(offset)) \n",
       "        y <- y - offset\n",
       "    if (NROW(y) != n) \n",
       "        stop(\"incompatible dimensions\")\n",
       "    if (method != \"qr\") \n",
       "        warning(gettextf(\"method = '%s' is not supported. Using 'qr'\", \n",
       "            method), domain = NA)\n",
       "    chkDots(...)\n",
       "    z <- .Call(C_Cdqrls, x, y, tol, FALSE)\n",
       "    if (!singular.ok && z$rank < p) \n",
       "        stop(\"singular fit encountered\")\n",
       "    coef <- z$coefficients\n",
       "    pivot <- z$pivot\n",
       "    r1 <- seq_len(z$rank)\n",
       "    dn <- colnames(x)\n",
       "    if (is.null(dn)) \n",
       "        dn <- paste0(\"x\", 1L:p)\n",
       "    nmeffects <- c(dn[pivot[r1]], rep.int(\"\", n - z$rank))\n",
       "    r2 <- if (z$rank < p) \n",
       "        (z$rank + 1L):p\n",
       "    else integer()\n",
       "    if (is.matrix(y)) {\n",
       "        coef[r2, ] <- NA\n",
       "        if (z$pivoted) \n",
       "            coef[pivot, ] <- coef\n",
       "        dimnames(coef) <- list(dn, colnames(y))\n",
       "        dimnames(z$effects) <- list(nmeffects, colnames(y))\n",
       "    }\n",
       "    else {\n",
       "        coef[r2] <- NA\n",
       "        if (z$pivoted) \n",
       "            coef[pivot] <- coef\n",
       "        names(coef) <- dn\n",
       "        names(z$effects) <- nmeffects\n",
       "    }\n",
       "    z$coefficients <- coef\n",
       "    r1 <- y - z$residuals\n",
       "    if (!is.null(offset)) \n",
       "        r1 <- r1 + offset\n",
       "    if (z$pivoted) \n",
       "        colnames(z$qr) <- colnames(x)[z$pivot]\n",
       "    qr <- z[c(\"qr\", \"qraux\", \"pivot\", \"tol\", \"rank\")]\n",
       "    c(z[c(\"coefficients\", \"residuals\", \"effects\", \"rank\")], list(fitted.values = r1, \n",
       "        assign = attr(x, \"assign\"), qr = structure(qr, class = \"qr\"), \n",
       "        df.residual = n - z$rank))\n",
       "}\n",
       "```"
      ],
      "text/plain": [
       "function (x, y, offset = NULL, method = \"qr\", tol = 1e-07, singular.ok = TRUE, \n",
       "    ...) \n",
       "{\n",
       "    if (is.null(n <- nrow(x))) \n",
       "        stop(\"'x' must be a matrix\")\n",
       "    if (n == 0L) \n",
       "        stop(\"0 (non-NA) cases\")\n",
       "    p <- ncol(x)\n",
       "    if (p == 0L) {\n",
       "        return(list(coefficients = numeric(), residuals = y, \n",
       "            fitted.values = 0 * y, rank = 0, df.residual = length(y)))\n",
       "    }\n",
       "    ny <- NCOL(y)\n",
       "    if (is.matrix(y) && ny == 1) \n",
       "        y <- drop(y)\n",
       "    if (!is.null(offset)) \n",
       "        y <- y - offset\n",
       "    if (NROW(y) != n) \n",
       "        stop(\"incompatible dimensions\")\n",
       "    if (method != \"qr\") \n",
       "        warning(gettextf(\"method = '%s' is not supported. Using 'qr'\", \n",
       "            method), domain = NA)\n",
       "    chkDots(...)\n",
       "    z <- .Call(C_Cdqrls, x, y, tol, FALSE)\n",
       "    if (!singular.ok && z$rank < p) \n",
       "        stop(\"singular fit encountered\")\n",
       "    coef <- z$coefficients\n",
       "    pivot <- z$pivot\n",
       "    r1 <- seq_len(z$rank)\n",
       "    dn <- colnames(x)\n",
       "    if (is.null(dn)) \n",
       "        dn <- paste0(\"x\", 1L:p)\n",
       "    nmeffects <- c(dn[pivot[r1]], rep.int(\"\", n - z$rank))\n",
       "    r2 <- if (z$rank < p) \n",
       "        (z$rank + 1L):p\n",
       "    else integer()\n",
       "    if (is.matrix(y)) {\n",
       "        coef[r2, ] <- NA\n",
       "        if (z$pivoted) \n",
       "            coef[pivot, ] <- coef\n",
       "        dimnames(coef) <- list(dn, colnames(y))\n",
       "        dimnames(z$effects) <- list(nmeffects, colnames(y))\n",
       "    }\n",
       "    else {\n",
       "        coef[r2] <- NA\n",
       "        if (z$pivoted) \n",
       "            coef[pivot] <- coef\n",
       "        names(coef) <- dn\n",
       "        names(z$effects) <- nmeffects\n",
       "    }\n",
       "    z$coefficients <- coef\n",
       "    r1 <- y - z$residuals\n",
       "    if (!is.null(offset)) \n",
       "        r1 <- r1 + offset\n",
       "    if (z$pivoted) \n",
       "        colnames(z$qr) <- colnames(x)[z$pivot]\n",
       "    qr <- z[c(\"qr\", \"qraux\", \"pivot\", \"tol\", \"rank\")]\n",
       "    c(z[c(\"coefficients\", \"residuals\", \"effects\", \"rank\")], list(fitted.values = r1, \n",
       "        assign = attr(x, \"assign\"), qr = structure(qr, class = \"qr\"), \n",
       "        df.residual = n - z$rank))\n",
       "}\n",
       "<bytecode: 0x5873488>\n",
       "<environment: namespace:stats>"
      ]
     },
     "metadata": {},
     "output_type": "display_data"
    },
    {
     "data": {
      "text/html": [
       "<pre class=language-r><code>function (x, y, tol = 1e-07) \n",
       ".Call(C_Cdqrls, x, y, tol, check = TRUE)</code></pre>"
      ],
      "text/latex": [
       "\\begin{minted}{r}\n",
       "function (x, y, tol = 1e-07) \n",
       ".Call(C\\_Cdqrls, x, y, tol, check = TRUE)\n",
       "\\end{minted}"
      ],
      "text/markdown": [
       "```r\n",
       "function (x, y, tol = 1e-07) \n",
       ".Call(C_Cdqrls, x, y, tol, check = TRUE)\n",
       "```"
      ],
      "text/plain": [
       "function (x, y, tol = 1e-07) \n",
       ".Call(C_Cdqrls, x, y, tol, check = TRUE)\n",
       "<bytecode: 0x587ba78>\n",
       "<environment: namespace:stats>"
      ]
     },
     "metadata": {},
     "output_type": "display_data"
    }
   ],
   "source": [
    "## what is lm doing\n",
    "lm\n",
    "lm.fit\n",
    ".lm.fit"
   ]
  },
  {
   "cell_type": "code",
   "execution_count": 103,
   "metadata": {
    "collapsed": false
   },
   "outputs": [
    {
     "data": {
      "text/html": [
       "<dl>\n",
       "\t<dt>$by.self</dt>\n",
       "\t\t<dd><table>\n",
       "<thead><tr><th></th><th scope=col>self.time</th><th scope=col>self.pct</th><th scope=col>total.time</th><th scope=col>total.pct</th></tr></thead>\n",
       "<tbody>\n",
       "\t<tr><th scope=row>\"lm.fit\"</th><td>0.36  </td><td>24.32 </td><td>0.42  </td><td> 28.38</td></tr>\n",
       "\t<tr><th scope=row>\".External2\"</th><td>0.18  </td><td>12.16 </td><td>0.38  </td><td> 25.68</td></tr>\n",
       "\t<tr><th scope=row>\"as.character\"</th><td>0.10  </td><td> 6.76 </td><td>0.10  </td><td>  6.76</td></tr>\n",
       "\t<tr><th scope=row>\"[.data.frame\"</th><td>0.08  </td><td> 5.41 </td><td>0.12  </td><td>  8.11</td></tr>\n",
       "\t<tr><th scope=row>\"na.omit.data.frame\"</th><td>0.06  </td><td> 4.05 </td><td>0.18  </td><td> 12.16</td></tr>\n",
       "\t<tr><th scope=row>\"paste\"</th><td>0.06  </td><td> 4.05 </td><td>0.12  </td><td>  8.11</td></tr>\n",
       "\t<tr><th scope=row>\"dim\"</th><td>0.06  </td><td> 4.05 </td><td>0.06  </td><td>  4.05</td></tr>\n",
       "\t<tr><th scope=row>\"eval\"</th><td>0.04  </td><td> 2.70 </td><td>1.48  </td><td>100.00</td></tr>\n",
       "\t<tr><th scope=row>\"lm\"</th><td>0.04  </td><td> 2.70 </td><td>1.48  </td><td>100.00</td></tr>\n",
       "\t<tr><th scope=row>\"lapply\"</th><td>0.04  </td><td> 2.70 </td><td>0.16  </td><td> 10.81</td></tr>\n",
       "\t<tr><th scope=row>\"[[.data.frame\"</th><td>0.04  </td><td> 2.70 </td><td>0.06  </td><td>  4.05</td></tr>\n",
       "\t<tr><th scope=row>\"%in%\"</th><td>0.04  </td><td> 2.70 </td><td>0.04  </td><td>  2.70</td></tr>\n",
       "\t<tr><th scope=row>\"names\"</th><td>0.04  </td><td> 2.70 </td><td>0.04  </td><td>  2.70</td></tr>\n",
       "\t<tr><th scope=row>\"stats::model.frame\"</th><td>0.02  </td><td> 1.35 </td><td>0.38  </td><td> 25.68</td></tr>\n",
       "\t<tr><th scope=row>\"model.frame.default\"</th><td>0.02  </td><td> 1.35 </td><td>0.36  </td><td> 24.32</td></tr>\n",
       "\t<tr><th scope=row>\"model.matrix.default\"</th><td>0.02  </td><td> 1.35 </td><td>0.30  </td><td> 20.27</td></tr>\n",
       "\t<tr><th scope=row>\"na.omit\"</th><td>0.02  </td><td> 1.35 </td><td>0.20  </td><td> 13.51</td></tr>\n",
       "\t<tr><th scope=row>\"model.response\"</th><td>0.02  </td><td> 1.35 </td><td>0.14  </td><td>  9.46</td></tr>\n",
       "\t<tr><th scope=row>\"[[\"</th><td>0.02  </td><td> 1.35 </td><td>0.08  </td><td>  5.41</td></tr>\n",
       "\t<tr><th scope=row>\"deparse\"</th><td>0.02  </td><td> 1.35 </td><td>0.06  </td><td>  4.05</td></tr>\n",
       "\t<tr><th scope=row>\"vapply\"</th><td>0.02  </td><td> 1.35 </td><td>0.06  </td><td>  4.05</td></tr>\n",
       "\t<tr><th scope=row>\"model.offset\"</th><td>0.02  </td><td> 1.35 </td><td>0.04  </td><td>  2.70</td></tr>\n",
       "\t<tr><th scope=row>\"structure\"</th><td>0.02  </td><td> 1.35 </td><td>0.04  </td><td>  2.70</td></tr>\n",
       "\t<tr><th scope=row>\"all\"</th><td>0.02  </td><td> 1.35 </td><td>0.02  </td><td>  1.35</td></tr>\n",
       "\t<tr><th scope=row>\"as.formula\"</th><td>0.02  </td><td> 1.35 </td><td>0.02  </td><td>  1.35</td></tr>\n",
       "\t<tr><th scope=row>\"as.list\"</th><td>0.02  </td><td> 1.35 </td><td>0.02  </td><td>  1.35</td></tr>\n",
       "\t<tr><th scope=row>\".getNamespaceInfo\"</th><td>0.02  </td><td> 1.35 </td><td>0.02  </td><td>  1.35</td></tr>\n",
       "\t<tr><th scope=row>\"length\"</th><td>0.02  </td><td> 1.35 </td><td>0.02  </td><td>  1.35</td></tr>\n",
       "\t<tr><th scope=row>\"makepredictcall.default\"</th><td>0.02  </td><td> 1.35 </td><td>0.02  </td><td>  1.35</td></tr>\n",
       "\t<tr><th scope=row>\"pmatch\"</th><td>0.02  </td><td> 1.35 </td><td>0.02  </td><td>  1.35</td></tr>\n",
       "</tbody>\n",
       "</table>\n",
       "</dd>\n",
       "\t<dt>$by.total</dt>\n",
       "\t\t<dd><table>\n",
       "<thead><tr><th></th><th scope=col>total.time</th><th scope=col>total.pct</th><th scope=col>self.time</th><th scope=col>self.pct</th></tr></thead>\n",
       "<tbody>\n",
       "\t<tr><th scope=row>\"eval\"</th><td>1.48  </td><td>100.00</td><td>0.04  </td><td> 2.70 </td></tr>\n",
       "\t<tr><th scope=row>\"lm\"</th><td>1.48  </td><td>100.00</td><td>0.04  </td><td> 2.70 </td></tr>\n",
       "\t<tr><th scope=row>\"doTryCatch\"</th><td>1.48  </td><td>100.00</td><td>0.00  </td><td> 0.00 </td></tr>\n",
       "\t<tr><th scope=row>\"evaluate\"</th><td>1.48  </td><td>100.00</td><td>0.00  </td><td> 0.00 </td></tr>\n",
       "\t<tr><th scope=row>\"evaluate_call\"</th><td>1.48  </td><td>100.00</td><td>0.00  </td><td> 0.00 </td></tr>\n",
       "\t<tr><th scope=row>\"executor$execute\"</th><td>1.48  </td><td>100.00</td><td>0.00  </td><td> 0.00 </td></tr>\n",
       "\t<tr><th scope=row>\"handle\"</th><td>1.48  </td><td>100.00</td><td>0.00  </td><td> 0.00 </td></tr>\n",
       "\t<tr><th scope=row>\"handle_shell\"</th><td>1.48  </td><td>100.00</td><td>0.00  </td><td> 0.00 </td></tr>\n",
       "\t<tr><th scope=row>\"IRkernel::main\"</th><td>1.48  </td><td>100.00</td><td>0.00  </td><td> 0.00 </td></tr>\n",
       "\t<tr><th scope=row>\"kernel$run\"</th><td>1.48  </td><td>100.00</td><td>0.00  </td><td> 0.00 </td></tr>\n",
       "\t<tr><th scope=row>\"timing_fn\"</th><td>1.48  </td><td>100.00</td><td>0.00  </td><td> 0.00 </td></tr>\n",
       "\t<tr><th scope=row>\"try\"</th><td>1.48  </td><td>100.00</td><td>0.00  </td><td> 0.00 </td></tr>\n",
       "\t<tr><th scope=row>\"tryCatch\"</th><td>1.48  </td><td>100.00</td><td>0.00  </td><td> 0.00 </td></tr>\n",
       "\t<tr><th scope=row>\"tryCatchList\"</th><td>1.48  </td><td>100.00</td><td>0.00  </td><td> 0.00 </td></tr>\n",
       "\t<tr><th scope=row>\"tryCatchOne\"</th><td>1.48  </td><td>100.00</td><td>0.00  </td><td> 0.00 </td></tr>\n",
       "\t<tr><th scope=row>\"withCallingHandlers\"</th><td>1.48  </td><td>100.00</td><td>0.00  </td><td> 0.00 </td></tr>\n",
       "\t<tr><th scope=row>\"withVisible\"</th><td>1.48  </td><td>100.00</td><td>0.00  </td><td> 0.00 </td></tr>\n",
       "\t<tr><th scope=row>\"lm.fit\"</th><td>0.42  </td><td> 28.38</td><td>0.36  </td><td>24.32 </td></tr>\n",
       "\t<tr><th scope=row>\".External2\"</th><td>0.38  </td><td> 25.68</td><td>0.18  </td><td>12.16 </td></tr>\n",
       "\t<tr><th scope=row>\"stats::model.frame\"</th><td>0.38  </td><td> 25.68</td><td>0.02  </td><td> 1.35 </td></tr>\n",
       "\t<tr><th scope=row>\"model.frame.default\"</th><td>0.36  </td><td> 24.32</td><td>0.02  </td><td> 1.35 </td></tr>\n",
       "\t<tr><th scope=row>\"model.matrix.default\"</th><td>0.30  </td><td> 20.27</td><td>0.02  </td><td> 1.35 </td></tr>\n",
       "\t<tr><th scope=row>\"model.matrix\"</th><td>0.30  </td><td> 20.27</td><td>0.00  </td><td> 0.00 </td></tr>\n",
       "\t<tr><th scope=row>\"na.omit\"</th><td>0.20  </td><td> 13.51</td><td>0.02  </td><td> 1.35 </td></tr>\n",
       "\t<tr><th scope=row>\"na.omit.data.frame\"</th><td>0.18  </td><td> 12.16</td><td>0.06  </td><td> 4.05 </td></tr>\n",
       "\t<tr><th scope=row>\"lapply\"</th><td>0.16  </td><td> 10.81</td><td>0.04  </td><td> 2.70 </td></tr>\n",
       "\t<tr><th scope=row>\"model.response\"</th><td>0.14  </td><td>  9.46</td><td>0.02  </td><td> 1.35 </td></tr>\n",
       "\t<tr><th scope=row>\"[.data.frame\"</th><td>0.12  </td><td>  8.11</td><td>0.08  </td><td> 5.41 </td></tr>\n",
       "\t<tr><th scope=row>\"paste\"</th><td>0.12  </td><td>  8.11</td><td>0.06  </td><td> 4.05 </td></tr>\n",
       "\t<tr><th scope=row>\"[\"</th><td>0.12  </td><td>  8.11</td><td>0.00  </td><td> 0.00 </td></tr>\n",
       "\t<tr><th scope=row>⋮</th><td>⋮</td><td>⋮</td><td>⋮</td><td>⋮</td></tr>\n",
       "\t<tr><th scope=row>\".getXlevels\"</th><td>0.12</td><td>8.11</td><td>0.00</td><td>0.00</td></tr>\n",
       "\t<tr><th scope=row>\"as.character\"</th><td>0.10</td><td>6.76</td><td>0.10</td><td>6.76</td></tr>\n",
       "\t<tr><th scope=row>\"sapply\"</th><td>0.10</td><td>6.76</td><td>0.00</td><td>0.00</td></tr>\n",
       "\t<tr><th scope=row>\"[[\"</th><td>0.08</td><td>5.41</td><td>0.02</td><td>1.35</td></tr>\n",
       "\t<tr><th scope=row>\"dim\"</th><td>0.06</td><td>4.05</td><td>0.06</td><td>4.05</td></tr>\n",
       "\t<tr><th scope=row>\"[[.data.frame\"</th><td>0.06</td><td>4.05</td><td>0.04</td><td>2.70</td></tr>\n",
       "\t<tr><th scope=row>\"deparse\"</th><td>0.06</td><td>4.05</td><td>0.02</td><td>1.35</td></tr>\n",
       "\t<tr><th scope=row>\"vapply\"</th><td>0.06</td><td>4.05</td><td>0.02</td><td>1.35</td></tr>\n",
       "\t<tr><th scope=row>\"%in%\"</th><td>0.04</td><td>2.70</td><td>0.04</td><td>2.70</td></tr>\n",
       "\t<tr><th scope=row>\"names\"</th><td>0.04</td><td>2.70</td><td>0.04</td><td>2.70</td></tr>\n",
       "\t<tr><th scope=row>\"model.offset\"</th><td>0.04</td><td>2.70</td><td>0.02</td><td>1.35</td></tr>\n",
       "\t<tr><th scope=row>\"structure\"</th><td>0.04</td><td>2.70</td><td>0.02</td><td>1.35</td></tr>\n",
       "\t<tr><th scope=row>\"as.vector\"</th><td>0.04</td><td>2.70</td><td>0.00</td><td>0.00</td></tr>\n",
       "\t<tr><th scope=row>\".deparseOpts\"</th><td>0.04</td><td>2.70</td><td>0.00</td><td>0.00</td></tr>\n",
       "\t<tr><th scope=row>\"all\"</th><td>0.02</td><td>1.35</td><td>0.02</td><td>1.35</td></tr>\n",
       "\t<tr><th scope=row>\"as.formula\"</th><td>0.02</td><td>1.35</td><td>0.02</td><td>1.35</td></tr>\n",
       "\t<tr><th scope=row>\"as.list\"</th><td>0.02</td><td>1.35</td><td>0.02</td><td>1.35</td></tr>\n",
       "\t<tr><th scope=row>\".getNamespaceInfo\"</th><td>0.02</td><td>1.35</td><td>0.02</td><td>1.35</td></tr>\n",
       "\t<tr><th scope=row>\"length\"</th><td>0.02</td><td>1.35</td><td>0.02</td><td>1.35</td></tr>\n",
       "\t<tr><th scope=row>\"makepredictcall.default\"</th><td>0.02</td><td>1.35</td><td>0.02</td><td>1.35</td></tr>\n",
       "\t<tr><th scope=row>\"pmatch\"</th><td>0.02</td><td>1.35</td><td>0.02</td><td>1.35</td></tr>\n",
       "\t<tr><th scope=row>\"::\"</th><td>0.02</td><td>1.35</td><td>0.00</td><td>0.00</td></tr>\n",
       "\t<tr><th scope=row>\"$\"</th><td>0.02</td><td>1.35</td><td>0.00</td><td>0.00</td></tr>\n",
       "\t<tr><th scope=row>\"$.data.frame\"</th><td>0.02</td><td>1.35</td><td>0.00</td><td>0.00</td></tr>\n",
       "\t<tr><th scope=row>\"getExportedValue\"</th><td>0.02</td><td>1.35</td><td>0.00</td><td>0.00</td></tr>\n",
       "\t<tr><th scope=row>\"logical\"</th><td>0.02</td><td>1.35</td><td>0.00</td><td>0.00</td></tr>\n",
       "\t<tr><th scope=row>\"makepredictcall\"</th><td>0.02</td><td>1.35</td><td>0.00</td><td>0.00</td></tr>\n",
       "\t<tr><th scope=row>\"ncol\"</th><td>0.02</td><td>1.35</td><td>0.00</td><td>0.00</td></tr>\n",
       "\t<tr><th scope=row>\"NCOL\"</th><td>0.02</td><td>1.35</td><td>0.00</td><td>0.00</td></tr>\n",
       "\t<tr><th scope=row>\"nrow\"</th><td>0.02</td><td>1.35</td><td>0.00</td><td>0.00</td></tr>\n",
       "</tbody>\n",
       "</table>\n",
       "</dd>\n",
       "\t<dt>$sample.interval</dt>\n",
       "\t\t<dd>0.02</dd>\n",
       "\t<dt>$sampling.time</dt>\n",
       "\t\t<dd>1.48</dd>\n",
       "</dl>\n"
      ],
      "text/latex": [
       "\\begin{description}\n",
       "\\item[\\$by.self] \\begin{tabular}{r|llll}\n",
       "  & self.time & self.pct & total.time & total.pct\\\\\n",
       "\\hline\n",
       "\t\"lm.fit\" & 0.36   & 24.32  & 0.42   &  28.38\\\\\n",
       "\t\".External2\" & 0.18   & 12.16  & 0.38   &  25.68\\\\\n",
       "\t\"as.character\" & 0.10   &  6.76  & 0.10   &   6.76\\\\\n",
       "\t\"{[}.data.frame\" & 0.08   &  5.41  & 0.12   &   8.11\\\\\n",
       "\t\"na.omit.data.frame\" & 0.06   &  4.05  & 0.18   &  12.16\\\\\n",
       "\t\"paste\" & 0.06   &  4.05  & 0.12   &   8.11\\\\\n",
       "\t\"dim\" & 0.06   &  4.05  & 0.06   &   4.05\\\\\n",
       "\t\"eval\" & 0.04   &  2.70  & 1.48   & 100.00\\\\\n",
       "\t\"lm\" & 0.04   &  2.70  & 1.48   & 100.00\\\\\n",
       "\t\"lapply\" & 0.04   &  2.70  & 0.16   &  10.81\\\\\n",
       "\t\"{[}{[}.data.frame\" & 0.04   &  2.70  & 0.06   &   4.05\\\\\n",
       "\t\"\\%in\\%\" & 0.04   &  2.70  & 0.04   &   2.70\\\\\n",
       "\t\"names\" & 0.04   &  2.70  & 0.04   &   2.70\\\\\n",
       "\t\"stats::model.frame\" & 0.02   &  1.35  & 0.38   &  25.68\\\\\n",
       "\t\"model.frame.default\" & 0.02   &  1.35  & 0.36   &  24.32\\\\\n",
       "\t\"model.matrix.default\" & 0.02   &  1.35  & 0.30   &  20.27\\\\\n",
       "\t\"na.omit\" & 0.02   &  1.35  & 0.20   &  13.51\\\\\n",
       "\t\"model.response\" & 0.02   &  1.35  & 0.14   &   9.46\\\\\n",
       "\t\"{[}{[}\" & 0.02   &  1.35  & 0.08   &   5.41\\\\\n",
       "\t\"deparse\" & 0.02   &  1.35  & 0.06   &   4.05\\\\\n",
       "\t\"vapply\" & 0.02   &  1.35  & 0.06   &   4.05\\\\\n",
       "\t\"model.offset\" & 0.02   &  1.35  & 0.04   &   2.70\\\\\n",
       "\t\"structure\" & 0.02   &  1.35  & 0.04   &   2.70\\\\\n",
       "\t\"all\" & 0.02   &  1.35  & 0.02   &   1.35\\\\\n",
       "\t\"as.formula\" & 0.02   &  1.35  & 0.02   &   1.35\\\\\n",
       "\t\"as.list\" & 0.02   &  1.35  & 0.02   &   1.35\\\\\n",
       "\t\".getNamespaceInfo\" & 0.02   &  1.35  & 0.02   &   1.35\\\\\n",
       "\t\"length\" & 0.02   &  1.35  & 0.02   &   1.35\\\\\n",
       "\t\"makepredictcall.default\" & 0.02   &  1.35  & 0.02   &   1.35\\\\\n",
       "\t\"pmatch\" & 0.02   &  1.35  & 0.02   &   1.35\\\\\n",
       "\\end{tabular}\n",
       "\n",
       "\\item[\\$by.total] \\begin{tabular}{r|llll}\n",
       "  & total.time & total.pct & self.time & self.pct\\\\\n",
       "\\hline\n",
       "\t\"eval\" & 1.48   & 100.00 & 0.04   &  2.70 \\\\\n",
       "\t\"lm\" & 1.48   & 100.00 & 0.04   &  2.70 \\\\\n",
       "\t\"doTryCatch\" & 1.48   & 100.00 & 0.00   &  0.00 \\\\\n",
       "\t\"evaluate\" & 1.48   & 100.00 & 0.00   &  0.00 \\\\\n",
       "\t\"evaluate\\_call\" & 1.48   & 100.00 & 0.00   &  0.00 \\\\\n",
       "\t\"executor\\$execute\" & 1.48   & 100.00 & 0.00   &  0.00 \\\\\n",
       "\t\"handle\" & 1.48   & 100.00 & 0.00   &  0.00 \\\\\n",
       "\t\"handle\\_shell\" & 1.48   & 100.00 & 0.00   &  0.00 \\\\\n",
       "\t\"IRkernel::main\" & 1.48   & 100.00 & 0.00   &  0.00 \\\\\n",
       "\t\"kernel\\$run\" & 1.48   & 100.00 & 0.00   &  0.00 \\\\\n",
       "\t\"timing\\_fn\" & 1.48   & 100.00 & 0.00   &  0.00 \\\\\n",
       "\t\"try\" & 1.48   & 100.00 & 0.00   &  0.00 \\\\\n",
       "\t\"tryCatch\" & 1.48   & 100.00 & 0.00   &  0.00 \\\\\n",
       "\t\"tryCatchList\" & 1.48   & 100.00 & 0.00   &  0.00 \\\\\n",
       "\t\"tryCatchOne\" & 1.48   & 100.00 & 0.00   &  0.00 \\\\\n",
       "\t\"withCallingHandlers\" & 1.48   & 100.00 & 0.00   &  0.00 \\\\\n",
       "\t\"withVisible\" & 1.48   & 100.00 & 0.00   &  0.00 \\\\\n",
       "\t\"lm.fit\" & 0.42   &  28.38 & 0.36   & 24.32 \\\\\n",
       "\t\".External2\" & 0.38   &  25.68 & 0.18   & 12.16 \\\\\n",
       "\t\"stats::model.frame\" & 0.38   &  25.68 & 0.02   &  1.35 \\\\\n",
       "\t\"model.frame.default\" & 0.36   &  24.32 & 0.02   &  1.35 \\\\\n",
       "\t\"model.matrix.default\" & 0.30   &  20.27 & 0.02   &  1.35 \\\\\n",
       "\t\"model.matrix\" & 0.30   &  20.27 & 0.00   &  0.00 \\\\\n",
       "\t\"na.omit\" & 0.20   &  13.51 & 0.02   &  1.35 \\\\\n",
       "\t\"na.omit.data.frame\" & 0.18   &  12.16 & 0.06   &  4.05 \\\\\n",
       "\t\"lapply\" & 0.16   &  10.81 & 0.04   &  2.70 \\\\\n",
       "\t\"model.response\" & 0.14   &   9.46 & 0.02   &  1.35 \\\\\n",
       "\t\"{[}.data.frame\" & 0.12   &   8.11 & 0.08   &  5.41 \\\\\n",
       "\t\"paste\" & 0.12   &   8.11 & 0.06   &  4.05 \\\\\n",
       "\t\"{[}\" & 0.12   &   8.11 & 0.00   &  0.00 \\\\\n",
       "\t⋮ & ⋮ & ⋮ & ⋮ & ⋮\\\\\n",
       "\t\".getXlevels\" & 0.12 & 8.11 & 0.00 & 0.00\\\\\n",
       "\t\"as.character\" & 0.10 & 6.76 & 0.10 & 6.76\\\\\n",
       "\t\"sapply\" & 0.10 & 6.76 & 0.00 & 0.00\\\\\n",
       "\t\"{[}{[}\" & 0.08 & 5.41 & 0.02 & 1.35\\\\\n",
       "\t\"dim\" & 0.06 & 4.05 & 0.06 & 4.05\\\\\n",
       "\t\"{[}{[}.data.frame\" & 0.06 & 4.05 & 0.04 & 2.70\\\\\n",
       "\t\"deparse\" & 0.06 & 4.05 & 0.02 & 1.35\\\\\n",
       "\t\"vapply\" & 0.06 & 4.05 & 0.02 & 1.35\\\\\n",
       "\t\"\\%in\\%\" & 0.04 & 2.70 & 0.04 & 2.70\\\\\n",
       "\t\"names\" & 0.04 & 2.70 & 0.04 & 2.70\\\\\n",
       "\t\"model.offset\" & 0.04 & 2.70 & 0.02 & 1.35\\\\\n",
       "\t\"structure\" & 0.04 & 2.70 & 0.02 & 1.35\\\\\n",
       "\t\"as.vector\" & 0.04 & 2.70 & 0.00 & 0.00\\\\\n",
       "\t\".deparseOpts\" & 0.04 & 2.70 & 0.00 & 0.00\\\\\n",
       "\t\"all\" & 0.02 & 1.35 & 0.02 & 1.35\\\\\n",
       "\t\"as.formula\" & 0.02 & 1.35 & 0.02 & 1.35\\\\\n",
       "\t\"as.list\" & 0.02 & 1.35 & 0.02 & 1.35\\\\\n",
       "\t\".getNamespaceInfo\" & 0.02 & 1.35 & 0.02 & 1.35\\\\\n",
       "\t\"length\" & 0.02 & 1.35 & 0.02 & 1.35\\\\\n",
       "\t\"makepredictcall.default\" & 0.02 & 1.35 & 0.02 & 1.35\\\\\n",
       "\t\"pmatch\" & 0.02 & 1.35 & 0.02 & 1.35\\\\\n",
       "\t\"::\" & 0.02 & 1.35 & 0.00 & 0.00\\\\\n",
       "\t\"\\$\" & 0.02 & 1.35 & 0.00 & 0.00\\\\\n",
       "\t\"\\$.data.frame\" & 0.02 & 1.35 & 0.00 & 0.00\\\\\n",
       "\t\"getExportedValue\" & 0.02 & 1.35 & 0.00 & 0.00\\\\\n",
       "\t\"logical\" & 0.02 & 1.35 & 0.00 & 0.00\\\\\n",
       "\t\"makepredictcall\" & 0.02 & 1.35 & 0.00 & 0.00\\\\\n",
       "\t\"ncol\" & 0.02 & 1.35 & 0.00 & 0.00\\\\\n",
       "\t\"NCOL\" & 0.02 & 1.35 & 0.00 & 0.00\\\\\n",
       "\t\"nrow\" & 0.02 & 1.35 & 0.00 & 0.00\\\\\n",
       "\\end{tabular}\n",
       "\n",
       "\\item[\\$sample.interval] 0.02\n",
       "\\item[\\$sampling.time] 1.48\n",
       "\\end{description}\n"
      ],
      "text/markdown": [
       "$by.self\n",
       ":   \n",
       "| <!--/--> | self.time | self.pct | total.time | total.pct | \n",
       "|---|---|---|---|---|---|---|---|---|---|---|---|---|---|---|---|---|---|---|---|---|---|---|---|---|---|---|---|---|---|\n",
       "| \"lm.fit\" | 0.36   | 24.32  | 0.42   |  28.38 | \n",
       "| \".External2\" | 0.18   | 12.16  | 0.38   |  25.68 | \n",
       "| \"as.character\" | 0.10   |  6.76  | 0.10   |   6.76 | \n",
       "| \"[.data.frame\" | 0.08   |  5.41  | 0.12   |   8.11 | \n",
       "| \"na.omit.data.frame\" | 0.06   |  4.05  | 0.18   |  12.16 | \n",
       "| \"paste\" | 0.06   |  4.05  | 0.12   |   8.11 | \n",
       "| \"dim\" | 0.06   |  4.05  | 0.06   |   4.05 | \n",
       "| \"eval\" | 0.04   |  2.70  | 1.48   | 100.00 | \n",
       "| \"lm\" | 0.04   |  2.70  | 1.48   | 100.00 | \n",
       "| \"lapply\" | 0.04   |  2.70  | 0.16   |  10.81 | \n",
       "| \"[[.data.frame\" | 0.04   |  2.70  | 0.06   |   4.05 | \n",
       "| \"%in%\" | 0.04   |  2.70  | 0.04   |   2.70 | \n",
       "| \"names\" | 0.04   |  2.70  | 0.04   |   2.70 | \n",
       "| \"stats::model.frame\" | 0.02   |  1.35  | 0.38   |  25.68 | \n",
       "| \"model.frame.default\" | 0.02   |  1.35  | 0.36   |  24.32 | \n",
       "| \"model.matrix.default\" | 0.02   |  1.35  | 0.30   |  20.27 | \n",
       "| \"na.omit\" | 0.02   |  1.35  | 0.20   |  13.51 | \n",
       "| \"model.response\" | 0.02   |  1.35  | 0.14   |   9.46 | \n",
       "| \"[[\" | 0.02   |  1.35  | 0.08   |   5.41 | \n",
       "| \"deparse\" | 0.02   |  1.35  | 0.06   |   4.05 | \n",
       "| \"vapply\" | 0.02   |  1.35  | 0.06   |   4.05 | \n",
       "| \"model.offset\" | 0.02   |  1.35  | 0.04   |   2.70 | \n",
       "| \"structure\" | 0.02   |  1.35  | 0.04   |   2.70 | \n",
       "| \"all\" | 0.02   |  1.35  | 0.02   |   1.35 | \n",
       "| \"as.formula\" | 0.02   |  1.35  | 0.02   |   1.35 | \n",
       "| \"as.list\" | 0.02   |  1.35  | 0.02   |   1.35 | \n",
       "| \".getNamespaceInfo\" | 0.02   |  1.35  | 0.02   |   1.35 | \n",
       "| \"length\" | 0.02   |  1.35  | 0.02   |   1.35 | \n",
       "| \"makepredictcall.default\" | 0.02   |  1.35  | 0.02   |   1.35 | \n",
       "| \"pmatch\" | 0.02   |  1.35  | 0.02   |   1.35 | \n",
       "\n",
       "\n",
       "\n",
       "$by.total\n",
       ":   \n",
       "| <!--/--> | total.time | total.pct | self.time | self.pct | \n",
       "|---|---|---|---|---|---|---|---|---|---|---|---|---|---|---|---|---|---|---|---|---|---|---|---|---|---|---|---|---|---|---|---|---|---|---|---|---|---|---|---|---|---|---|---|---|---|---|---|---|---|---|---|---|---|---|---|---|---|---|---|---|\n",
       "| \"eval\" | 1.48   | 100.00 | 0.04   |  2.70  | \n",
       "| \"lm\" | 1.48   | 100.00 | 0.04   |  2.70  | \n",
       "| \"doTryCatch\" | 1.48   | 100.00 | 0.00   |  0.00  | \n",
       "| \"evaluate\" | 1.48   | 100.00 | 0.00   |  0.00  | \n",
       "| \"evaluate_call\" | 1.48   | 100.00 | 0.00   |  0.00  | \n",
       "| \"executor$execute\" | 1.48   | 100.00 | 0.00   |  0.00  | \n",
       "| \"handle\" | 1.48   | 100.00 | 0.00   |  0.00  | \n",
       "| \"handle_shell\" | 1.48   | 100.00 | 0.00   |  0.00  | \n",
       "| \"IRkernel::main\" | 1.48   | 100.00 | 0.00   |  0.00  | \n",
       "| \"kernel$run\" | 1.48   | 100.00 | 0.00   |  0.00  | \n",
       "| \"timing_fn\" | 1.48   | 100.00 | 0.00   |  0.00  | \n",
       "| \"try\" | 1.48   | 100.00 | 0.00   |  0.00  | \n",
       "| \"tryCatch\" | 1.48   | 100.00 | 0.00   |  0.00  | \n",
       "| \"tryCatchList\" | 1.48   | 100.00 | 0.00   |  0.00  | \n",
       "| \"tryCatchOne\" | 1.48   | 100.00 | 0.00   |  0.00  | \n",
       "| \"withCallingHandlers\" | 1.48   | 100.00 | 0.00   |  0.00  | \n",
       "| \"withVisible\" | 1.48   | 100.00 | 0.00   |  0.00  | \n",
       "| \"lm.fit\" | 0.42   |  28.38 | 0.36   | 24.32  | \n",
       "| \".External2\" | 0.38   |  25.68 | 0.18   | 12.16  | \n",
       "| \"stats::model.frame\" | 0.38   |  25.68 | 0.02   |  1.35  | \n",
       "| \"model.frame.default\" | 0.36   |  24.32 | 0.02   |  1.35  | \n",
       "| \"model.matrix.default\" | 0.30   |  20.27 | 0.02   |  1.35  | \n",
       "| \"model.matrix\" | 0.30   |  20.27 | 0.00   |  0.00  | \n",
       "| \"na.omit\" | 0.20   |  13.51 | 0.02   |  1.35  | \n",
       "| \"na.omit.data.frame\" | 0.18   |  12.16 | 0.06   |  4.05  | \n",
       "| \"lapply\" | 0.16   |  10.81 | 0.04   |  2.70  | \n",
       "| \"model.response\" | 0.14   |   9.46 | 0.02   |  1.35  | \n",
       "| \"[.data.frame\" | 0.12   |   8.11 | 0.08   |  5.41  | \n",
       "| \"paste\" | 0.12   |   8.11 | 0.06   |  4.05  | \n",
       "| \"[\" | 0.12   |   8.11 | 0.00   |  0.00  | \n",
       "| ⋮ | ⋮ | ⋮ | ⋮ | ⋮ | \n",
       "| \".getXlevels\" | 0.12 | 8.11 | 0.00 | 0.00 | \n",
       "| \"as.character\" | 0.10 | 6.76 | 0.10 | 6.76 | \n",
       "| \"sapply\" | 0.10 | 6.76 | 0.00 | 0.00 | \n",
       "| \"[[\" | 0.08 | 5.41 | 0.02 | 1.35 | \n",
       "| \"dim\" | 0.06 | 4.05 | 0.06 | 4.05 | \n",
       "| \"[[.data.frame\" | 0.06 | 4.05 | 0.04 | 2.70 | \n",
       "| \"deparse\" | 0.06 | 4.05 | 0.02 | 1.35 | \n",
       "| \"vapply\" | 0.06 | 4.05 | 0.02 | 1.35 | \n",
       "| \"%in%\" | 0.04 | 2.70 | 0.04 | 2.70 | \n",
       "| \"names\" | 0.04 | 2.70 | 0.04 | 2.70 | \n",
       "| \"model.offset\" | 0.04 | 2.70 | 0.02 | 1.35 | \n",
       "| \"structure\" | 0.04 | 2.70 | 0.02 | 1.35 | \n",
       "| \"as.vector\" | 0.04 | 2.70 | 0.00 | 0.00 | \n",
       "| \".deparseOpts\" | 0.04 | 2.70 | 0.00 | 0.00 | \n",
       "| \"all\" | 0.02 | 1.35 | 0.02 | 1.35 | \n",
       "| \"as.formula\" | 0.02 | 1.35 | 0.02 | 1.35 | \n",
       "| \"as.list\" | 0.02 | 1.35 | 0.02 | 1.35 | \n",
       "| \".getNamespaceInfo\" | 0.02 | 1.35 | 0.02 | 1.35 | \n",
       "| \"length\" | 0.02 | 1.35 | 0.02 | 1.35 | \n",
       "| \"makepredictcall.default\" | 0.02 | 1.35 | 0.02 | 1.35 | \n",
       "| \"pmatch\" | 0.02 | 1.35 | 0.02 | 1.35 | \n",
       "| \"::\" | 0.02 | 1.35 | 0.00 | 0.00 | \n",
       "| \"$\" | 0.02 | 1.35 | 0.00 | 0.00 | \n",
       "| \"$.data.frame\" | 0.02 | 1.35 | 0.00 | 0.00 | \n",
       "| \"getExportedValue\" | 0.02 | 1.35 | 0.00 | 0.00 | \n",
       "| \"logical\" | 0.02 | 1.35 | 0.00 | 0.00 | \n",
       "| \"makepredictcall\" | 0.02 | 1.35 | 0.00 | 0.00 | \n",
       "| \"ncol\" | 0.02 | 1.35 | 0.00 | 0.00 | \n",
       "| \"NCOL\" | 0.02 | 1.35 | 0.00 | 0.00 | \n",
       "| \"nrow\" | 0.02 | 1.35 | 0.00 | 0.00 | \n",
       "\n",
       "\n",
       "\n",
       "$sample.interval\n",
       ":   0.02\n",
       "$sampling.time\n",
       ":   1.48\n",
       "\n",
       "\n"
      ],
      "text/plain": [
       "$by.self\n",
       "                          self.time self.pct total.time total.pct\n",
       "\"lm.fit\"                       0.36    24.32       0.42     28.38\n",
       "\".External2\"                   0.18    12.16       0.38     25.68\n",
       "\"as.character\"                 0.10     6.76       0.10      6.76\n",
       "\"[.data.frame\"                 0.08     5.41       0.12      8.11\n",
       "\"na.omit.data.frame\"           0.06     4.05       0.18     12.16\n",
       "\"paste\"                        0.06     4.05       0.12      8.11\n",
       "\"dim\"                          0.06     4.05       0.06      4.05\n",
       "\"eval\"                         0.04     2.70       1.48    100.00\n",
       "\"lm\"                           0.04     2.70       1.48    100.00\n",
       "\"lapply\"                       0.04     2.70       0.16     10.81\n",
       "\"[[.data.frame\"                0.04     2.70       0.06      4.05\n",
       "\"%in%\"                         0.04     2.70       0.04      2.70\n",
       "\"names\"                        0.04     2.70       0.04      2.70\n",
       "\"stats::model.frame\"           0.02     1.35       0.38     25.68\n",
       "\"model.frame.default\"          0.02     1.35       0.36     24.32\n",
       "\"model.matrix.default\"         0.02     1.35       0.30     20.27\n",
       "\"na.omit\"                      0.02     1.35       0.20     13.51\n",
       "\"model.response\"               0.02     1.35       0.14      9.46\n",
       "\"[[\"                           0.02     1.35       0.08      5.41\n",
       "\"deparse\"                      0.02     1.35       0.06      4.05\n",
       "\"vapply\"                       0.02     1.35       0.06      4.05\n",
       "\"model.offset\"                 0.02     1.35       0.04      2.70\n",
       "\"structure\"                    0.02     1.35       0.04      2.70\n",
       "\"all\"                          0.02     1.35       0.02      1.35\n",
       "\"as.formula\"                   0.02     1.35       0.02      1.35\n",
       "\"as.list\"                      0.02     1.35       0.02      1.35\n",
       "\".getNamespaceInfo\"            0.02     1.35       0.02      1.35\n",
       "\"length\"                       0.02     1.35       0.02      1.35\n",
       "\"makepredictcall.default\"      0.02     1.35       0.02      1.35\n",
       "\"pmatch\"                       0.02     1.35       0.02      1.35\n",
       "\n",
       "$by.total\n",
       "                          total.time total.pct self.time self.pct\n",
       "\"eval\"                          1.48    100.00      0.04     2.70\n",
       "\"lm\"                            1.48    100.00      0.04     2.70\n",
       "\"doTryCatch\"                    1.48    100.00      0.00     0.00\n",
       "\"evaluate\"                      1.48    100.00      0.00     0.00\n",
       "\"evaluate_call\"                 1.48    100.00      0.00     0.00\n",
       "\"executor$execute\"              1.48    100.00      0.00     0.00\n",
       "\"handle\"                        1.48    100.00      0.00     0.00\n",
       "\"handle_shell\"                  1.48    100.00      0.00     0.00\n",
       "\"IRkernel::main\"                1.48    100.00      0.00     0.00\n",
       "\"kernel$run\"                    1.48    100.00      0.00     0.00\n",
       "\"timing_fn\"                     1.48    100.00      0.00     0.00\n",
       "\"try\"                           1.48    100.00      0.00     0.00\n",
       "\"tryCatch\"                      1.48    100.00      0.00     0.00\n",
       "\"tryCatchList\"                  1.48    100.00      0.00     0.00\n",
       "\"tryCatchOne\"                   1.48    100.00      0.00     0.00\n",
       "\"withCallingHandlers\"           1.48    100.00      0.00     0.00\n",
       "\"withVisible\"                   1.48    100.00      0.00     0.00\n",
       "\"lm.fit\"                        0.42     28.38      0.36    24.32\n",
       "\".External2\"                    0.38     25.68      0.18    12.16\n",
       "\"stats::model.frame\"            0.38     25.68      0.02     1.35\n",
       "\"model.frame.default\"           0.36     24.32      0.02     1.35\n",
       "\"model.matrix.default\"          0.30     20.27      0.02     1.35\n",
       "\"model.matrix\"                  0.30     20.27      0.00     0.00\n",
       "\"na.omit\"                       0.20     13.51      0.02     1.35\n",
       "\"na.omit.data.frame\"            0.18     12.16      0.06     4.05\n",
       "\"lapply\"                        0.16     10.81      0.04     2.70\n",
       "\"model.response\"                0.14      9.46      0.02     1.35\n",
       "\"[.data.frame\"                  0.12      8.11      0.08     5.41\n",
       "\"paste\"                         0.12      8.11      0.06     4.05\n",
       "\"[\"                             0.12      8.11      0.00     0.00\n",
       "\"FUN\"                           0.12      8.11      0.00     0.00\n",
       "\".getXlevels\"                   0.12      8.11      0.00     0.00\n",
       "\"as.character\"                  0.10      6.76      0.10     6.76\n",
       "\"sapply\"                        0.10      6.76      0.00     0.00\n",
       "\"[[\"                            0.08      5.41      0.02     1.35\n",
       "\"dim\"                           0.06      4.05      0.06     4.05\n",
       "\"[[.data.frame\"                 0.06      4.05      0.04     2.70\n",
       "\"deparse\"                       0.06      4.05      0.02     1.35\n",
       "\"vapply\"                        0.06      4.05      0.02     1.35\n",
       "\"%in%\"                          0.04      2.70      0.04     2.70\n",
       "\"names\"                         0.04      2.70      0.04     2.70\n",
       "\"model.offset\"                  0.04      2.70      0.02     1.35\n",
       "\"structure\"                     0.04      2.70      0.02     1.35\n",
       "\"as.vector\"                     0.04      2.70      0.00     0.00\n",
       "\".deparseOpts\"                  0.04      2.70      0.00     0.00\n",
       "\"all\"                           0.02      1.35      0.02     1.35\n",
       "\"as.formula\"                    0.02      1.35      0.02     1.35\n",
       "\"as.list\"                       0.02      1.35      0.02     1.35\n",
       "\".getNamespaceInfo\"             0.02      1.35      0.02     1.35\n",
       "\"length\"                        0.02      1.35      0.02     1.35\n",
       "\"makepredictcall.default\"       0.02      1.35      0.02     1.35\n",
       "\"pmatch\"                        0.02      1.35      0.02     1.35\n",
       "\"::\"                            0.02      1.35      0.00     0.00\n",
       "\"$\"                             0.02      1.35      0.00     0.00\n",
       "\"$.data.frame\"                  0.02      1.35      0.00     0.00\n",
       "\"getExportedValue\"              0.02      1.35      0.00     0.00\n",
       "\"logical\"                       0.02      1.35      0.00     0.00\n",
       "\"makepredictcall\"               0.02      1.35      0.00     0.00\n",
       "\"ncol\"                          0.02      1.35      0.00     0.00\n",
       "\"NCOL\"                          0.02      1.35      0.00     0.00\n",
       "\"nrow\"                          0.02      1.35      0.00     0.00\n",
       "\n",
       "$sample.interval\n",
       "[1] 0.02\n",
       "\n",
       "$sampling.time\n",
       "[1] 1.48\n"
      ]
     },
     "metadata": {},
     "output_type": "display_data"
    }
   ],
   "source": [
    "## where is lm spending computation time?\n",
    "Rprof(tmp <- tempfile())\n",
    "for(ii in 1:1000){\n",
    "    a <- lm(Y~X-1)\n",
    "}\n",
    "Rprof()\n",
    "summaryRprof(tmp)\n",
    "unlink(tmp)\n"
   ]
  },
  {
   "cell_type": "code",
   "execution_count": 104,
   "metadata": {
    "collapsed": false
   },
   "outputs": [
    {
     "data": {
      "text/html": [
       "<table>\n",
       "<thead><tr><th scope=col>Sepal.Length</th><th scope=col>Sepal.Width</th><th scope=col>Petal.Length</th><th scope=col>Petal.Width</th><th scope=col>Species</th></tr></thead>\n",
       "<tbody>\n",
       "\t<tr><td>5.1   </td><td>3.5   </td><td>1.4   </td><td>0.2   </td><td>setosa</td></tr>\n",
       "\t<tr><td>4.9   </td><td>3.0   </td><td>1.4   </td><td>0.2   </td><td>setosa</td></tr>\n",
       "\t<tr><td>4.7   </td><td>3.2   </td><td>1.3   </td><td>0.2   </td><td>setosa</td></tr>\n",
       "\t<tr><td>4.6   </td><td>3.1   </td><td>1.5   </td><td>0.2   </td><td>setosa</td></tr>\n",
       "\t<tr><td>5.0   </td><td>3.6   </td><td>1.4   </td><td>0.2   </td><td>setosa</td></tr>\n",
       "\t<tr><td>5.4   </td><td>3.9   </td><td>1.7   </td><td>0.4   </td><td>setosa</td></tr>\n",
       "</tbody>\n",
       "</table>\n"
      ],
      "text/latex": [
       "\\begin{tabular}{r|lllll}\n",
       " Sepal.Length & Sepal.Width & Petal.Length & Petal.Width & Species\\\\\n",
       "\\hline\n",
       "\t 5.1    & 3.5    & 1.4    & 0.2    & setosa\\\\\n",
       "\t 4.9    & 3.0    & 1.4    & 0.2    & setosa\\\\\n",
       "\t 4.7    & 3.2    & 1.3    & 0.2    & setosa\\\\\n",
       "\t 4.6    & 3.1    & 1.5    & 0.2    & setosa\\\\\n",
       "\t 5.0    & 3.6    & 1.4    & 0.2    & setosa\\\\\n",
       "\t 5.4    & 3.9    & 1.7    & 0.4    & setosa\\\\\n",
       "\\end{tabular}\n"
      ],
      "text/markdown": [
       "\n",
       "Sepal.Length | Sepal.Width | Petal.Length | Petal.Width | Species | \n",
       "|---|---|---|---|---|---|\n",
       "| 5.1    | 3.5    | 1.4    | 0.2    | setosa | \n",
       "| 4.9    | 3.0    | 1.4    | 0.2    | setosa | \n",
       "| 4.7    | 3.2    | 1.3    | 0.2    | setosa | \n",
       "| 4.6    | 3.1    | 1.5    | 0.2    | setosa | \n",
       "| 5.0    | 3.6    | 1.4    | 0.2    | setosa | \n",
       "| 5.4    | 3.9    | 1.7    | 0.4    | setosa | \n",
       "\n",
       "\n"
      ],
      "text/plain": [
       "  Sepal.Length Sepal.Width Petal.Length Petal.Width Species\n",
       "1 5.1          3.5         1.4          0.2         setosa \n",
       "2 4.9          3.0         1.4          0.2         setosa \n",
       "3 4.7          3.2         1.3          0.2         setosa \n",
       "4 4.6          3.1         1.5          0.2         setosa \n",
       "5 5.0          3.6         1.4          0.2         setosa \n",
       "6 5.4          3.9         1.7          0.4         setosa "
      ]
     },
     "metadata": {},
     "output_type": "display_data"
    }
   ],
   "source": [
    "## why use lm?\n",
    "\n",
    "data(iris)\n",
    "head(iris)"
   ]
  },
  {
   "cell_type": "code",
   "execution_count": 105,
   "metadata": {
    "collapsed": true
   },
   "outputs": [],
   "source": [
    "## lm is more flexible with input, provides structured output\n",
    "## lm is better for most cases of interactive programming\n",
    "out <- lm(Sepal.Length ~ Sepal.Width + Petal.Length,data=iris)"
   ]
  },
  {
   "cell_type": "code",
   "execution_count": 106,
   "metadata": {
    "collapsed": false
   },
   "outputs": [
    {
     "data": {
      "text/plain": [
       "\n",
       "Call:\n",
       "lm(formula = Sepal.Length ~ Sepal.Width + Petal.Length, data = iris)\n",
       "\n",
       "Residuals:\n",
       "     Min       1Q   Median       3Q      Max \n",
       "-0.96159 -0.23489  0.00077  0.21453  0.78557 \n",
       "\n",
       "Coefficients:\n",
       "             Estimate Std. Error t value Pr(>|t|)    \n",
       "(Intercept)   2.24914    0.24797    9.07 7.04e-16 ***\n",
       "Sepal.Width   0.59552    0.06933    8.59 1.16e-14 ***\n",
       "Petal.Length  0.47192    0.01712   27.57  < 2e-16 ***\n",
       "---\n",
       "Signif. codes:  0 ‘***’ 0.001 ‘**’ 0.01 ‘*’ 0.05 ‘.’ 0.1 ‘ ’ 1\n",
       "\n",
       "Residual standard error: 0.3333 on 147 degrees of freedom\n",
       "Multiple R-squared:  0.8402,\tAdjusted R-squared:  0.838 \n",
       "F-statistic: 386.4 on 2 and 147 DF,  p-value: < 2.2e-16\n"
      ]
     },
     "metadata": {},
     "output_type": "display_data"
    }
   ],
   "source": [
    "summary(out)"
   ]
  },
  {
   "cell_type": "markdown",
   "metadata": {
    "collapsed": true
   },
   "source": [
    "## Memory Usage with lm"
   ]
  },
  {
   "cell_type": "code",
   "execution_count": 107,
   "metadata": {
    "collapsed": false
   },
   "outputs": [
    {
     "data": {
      "text/html": [
       "<ol class=list-inline>\n",
       "\t<li>50000</li>\n",
       "\t<li>1</li>\n",
       "</ol>\n"
      ],
      "text/latex": [
       "\\begin{enumerate*}\n",
       "\\item 50000\n",
       "\\item 1\n",
       "\\end{enumerate*}\n"
      ],
      "text/markdown": [
       "1. 50000\n",
       "2. 1\n",
       "\n",
       "\n"
      ],
      "text/plain": [
       "[1] 50000     1"
      ]
     },
     "metadata": {},
     "output_type": "display_data"
    },
    {
     "data": {
      "text/html": [
       "<ol class=list-inline>\n",
       "\t<li>50000</li>\n",
       "\t<li>500</li>\n",
       "</ol>\n"
      ],
      "text/latex": [
       "\\begin{enumerate*}\n",
       "\\item 50000\n",
       "\\item 500\n",
       "\\end{enumerate*}\n"
      ],
      "text/markdown": [
       "1. 50000\n",
       "2. 500\n",
       "\n",
       "\n"
      ],
      "text/plain": [
       "[1] 50000   500"
      ]
     },
     "metadata": {},
     "output_type": "display_data"
    }
   ],
   "source": [
    "n <- 50000\n",
    "p <- 500\n",
    "beta <- rnorm(p)\n",
    "X <- matrix(rnorm(n*p),nrow=n)\n",
    "Y <- X%*%beta + rnorm(n)\n",
    "dim(Y)\n",
    "dim(X)"
   ]
  },
  {
   "cell_type": "code",
   "execution_count": 108,
   "metadata": {
    "collapsed": true
   },
   "outputs": [],
   "source": [
    "out <- lm(Y~X-1)"
   ]
  },
  {
   "cell_type": "code",
   "execution_count": 109,
   "metadata": {
    "collapsed": false
   },
   "outputs": [
    {
     "data": {
      "text/html": [
       "'391.5 Mb'"
      ],
      "text/latex": [
       "'391.5 Mb'"
      ],
      "text/markdown": [
       "'391.5 Mb'"
      ],
      "text/plain": [
       "[1] \"391.5 Mb\""
      ]
     },
     "metadata": {},
     "output_type": "display_data"
    }
   ],
   "source": [
    "## lm stores A LOT of stuff\n",
    "format(object.size(out),units=\"Mb\")"
   ]
  },
  {
   "cell_type": "code",
   "execution_count": 110,
   "metadata": {
    "collapsed": false
   },
   "outputs": [
    {
     "data": {
      "text/html": [
       "'0 Mb'"
      ],
      "text/latex": [
       "'0 Mb'"
      ],
      "text/markdown": [
       "'0 Mb'"
      ],
      "text/plain": [
       "[1] \"0 Mb\""
      ]
     },
     "metadata": {},
     "output_type": "display_data"
    }
   ],
   "source": [
    "## if I only want parameter estimates this is insanely space inefficient\n",
    "format(object.size(beta),units=\"Mb\")"
   ]
  },
  {
   "cell_type": "code",
   "execution_count": 111,
   "metadata": {
    "collapsed": false
   },
   "outputs": [
    {
     "data": {
      "text/html": [
       "'6.9 Mb'"
      ],
      "text/latex": [
       "'6.9 Mb'"
      ],
      "text/markdown": [
       "'6.9 Mb'"
      ],
      "text/plain": [
       "[1] \"6.9 Mb\""
      ]
     },
     "metadata": {},
     "output_type": "display_data"
    }
   ],
   "source": [
    "## don't save the qr decomposition\n",
    "out <- lm(Y~X-1,model=FALSE,qr=FALSE)\n",
    "format(object.size(out),units=\"Mb\")"
   ]
  },
  {
   "cell_type": "code",
   "execution_count": 112,
   "metadata": {
    "collapsed": false
   },
   "outputs": [
    {
     "data": {
      "text/html": [
       "<table>\n",
       "<thead><tr><th></th><th scope=col>used</th><th scope=col>(Mb)</th><th scope=col>gc trigger</th><th scope=col>(Mb)</th><th scope=col>max used</th><th scope=col>(Mb)</th></tr></thead>\n",
       "<tbody>\n",
       "\t<tr><th scope=row>Ncells</th><td>  650036 </td><td> 34.8    </td><td>  1168576</td><td>  62.5   </td><td>  1168576</td><td>  62.5   </td></tr>\n",
       "\t<tr><th scope=row>Vcells</th><td>26251639 </td><td>200.3    </td><td>160828747</td><td>1227.1   </td><td>177813915</td><td>1356.7   </td></tr>\n",
       "</tbody>\n",
       "</table>\n"
      ],
      "text/latex": [
       "\\begin{tabular}{r|llllll}\n",
       "  & used & (Mb) & gc trigger & (Mb) & max used & (Mb)\\\\\n",
       "\\hline\n",
       "\tNcells &   650036  &  34.8     &   1168576 &   62.5    &   1168576 &   62.5   \\\\\n",
       "\tVcells & 26251639  & 200.3     & 160828747 & 1227.1    & 177813915 & 1356.7   \\\\\n",
       "\\end{tabular}\n"
      ],
      "text/markdown": [
       "\n",
       "| <!--/--> | used | (Mb) | gc trigger | (Mb) | max used | (Mb) | \n",
       "|---|---|\n",
       "| Ncells |   650036  |  34.8     |   1168576 |   62.5    |   1168576 |   62.5    | \n",
       "| Vcells | 26251639  | 200.3     | 160828747 | 1227.1    | 177813915 | 1356.7    | \n",
       "\n",
       "\n"
      ],
      "text/plain": [
       "       used     (Mb)  gc trigger (Mb)   max used  (Mb)  \n",
       "Ncells   650036  34.8   1168576    62.5   1168576   62.5\n",
       "Vcells 26251639 200.3 160828747  1227.1 177813915 1356.7"
      ]
     },
     "metadata": {},
     "output_type": "display_data"
    }
   ],
   "source": [
    "out <- NULL\n",
    "gc()"
   ]
  },
  {
   "cell_type": "code",
   "execution_count": 113,
   "metadata": {
    "collapsed": true
   },
   "outputs": [],
   "source": [
    "## much more memory efficient\n",
    "## also extra storage space all goes away after running\n",
    "out2 <- solve(t(X)%*%X,t(X)%*%Y)"
   ]
  },
  {
   "cell_type": "code",
   "execution_count": 114,
   "metadata": {
    "collapsed": false
   },
   "outputs": [
    {
     "data": {
      "text/html": [
       "'0 Mb'"
      ],
      "text/latex": [
       "'0 Mb'"
      ],
      "text/markdown": [
       "'0 Mb'"
      ],
      "text/plain": [
       "[1] \"0 Mb\""
      ]
     },
     "metadata": {},
     "output_type": "display_data"
    }
   ],
   "source": [
    "format(object.size(out2),units=\"Mb\")"
   ]
  },
  {
   "cell_type": "code",
   "execution_count": 115,
   "metadata": {
    "collapsed": false
   },
   "outputs": [
    {
     "name": "stdout",
     "output_type": "stream",
     "text": [
      " num [1:500, 1] -0.754 -0.197 -1.034 -0.136 -1.064 ...\n"
     ]
    }
   ],
   "source": [
    "str(out2)"
   ]
  },
  {
   "cell_type": "markdown",
   "metadata": {},
   "source": [
    "## Weighted Least Squares\n",
    "\n",
    "The [normal equations for WLS](https://en.wikipedia.org/wiki/Least_squares#Weighted_least_squares) are\n",
    "$$(X^TWX)\\widehat{\\beta} = X^TWY$$\n",
    "Or see Equation 5.60 p 231 in Gentle.\n",
    "\n",
    "It is not a good idea to implement the unweighted least squares estimator directly i.e."
   ]
  },
  {
   "cell_type": "code",
   "execution_count": 116,
   "metadata": {
    "collapsed": true
   },
   "outputs": [],
   "source": [
    "##solve(t(X)%*%X)%*%t(X)%*%Y"
   ]
  },
  {
   "cell_type": "markdown",
   "metadata": {},
   "source": [
    "because it is less stable and slower than "
   ]
  },
  {
   "cell_type": "code",
   "execution_count": 117,
   "metadata": {
    "collapsed": true
   },
   "outputs": [],
   "source": [
    "##solve(t(X)%*%X),t(X)%*%Y)"
   ]
  },
  {
   "cell_type": "markdown",
   "metadata": {},
   "source": [
    "See microbenchmarking above. However it is a **really** bad idea to do with with the weighted estimator."
   ]
  },
  {
   "cell_type": "code",
   "execution_count": 118,
   "metadata": {
    "collapsed": true
   },
   "outputs": [],
   "source": [
    "##solve(t(X)%*%W%*%X)%*%t(X)%*%W%*%Y"
   ]
  },
  {
   "cell_type": "markdown",
   "metadata": {},
   "source": [
    "because $W$ is an $n \\times n$ (usually very big) matrix."
   ]
  },
  {
   "cell_type": "code",
   "execution_count": 119,
   "metadata": {
    "collapsed": false
   },
   "outputs": [],
   "source": [
    "n <- 100\n",
    "p <- 2\n",
    "beta <- 1:2\n",
    "X <- cbind(1,rnorm(n))\n",
    "sig <- rexp(n) + .1\n",
    "Y <- X%*%beta + rnorm(n,sd=sig)"
   ]
  },
  {
   "cell_type": "code",
   "execution_count": 120,
   "metadata": {
    "collapsed": false
   },
   "outputs": [
    {
     "data": {
      "image/png": "[encoded data removed]",
      "text/plain": [
       "plot without title"
      ]
     },
     "metadata": {},
     "output_type": "display_data"
    }
   ],
   "source": [
    "options(repr.plot.width=6,repr.plot.height=4)\n",
    "plot(X[,2],Y)\n",
    "segments(X[,2],Y+sig,X[,2],Y-sig,col='grey')"
   ]
  },
  {
   "cell_type": "code",
   "execution_count": 121,
   "metadata": {
    "collapsed": true
   },
   "outputs": [],
   "source": [
    "W <- diag(sig^-2)\n"
   ]
  },
  {
   "cell_type": "code",
   "execution_count": 122,
   "metadata": {
    "collapsed": true
   },
   "outputs": [],
   "source": [
    "out1 <- solve(t(X)%*%W%*%X)%*%t(X)%*%W%*%Y"
   ]
  },
  {
   "cell_type": "code",
   "execution_count": 123,
   "metadata": {
    "collapsed": false
   },
   "outputs": [],
   "source": [
    "out2 <- lm.wfit(X,Y,w=sig^-2)"
   ]
  },
  {
   "cell_type": "code",
   "execution_count": 124,
   "metadata": {
    "collapsed": false
   },
   "outputs": [
    {
     "data": {
      "text/html": [
       "<table>\n",
       "<tbody>\n",
       "\t<tr><td>1.031440</td></tr>\n",
       "\t<tr><td>2.010329</td></tr>\n",
       "</tbody>\n",
       "</table>\n"
      ],
      "text/latex": [
       "\\begin{tabular}{l}\n",
       "\t 1.031440\\\\\n",
       "\t 2.010329\\\\\n",
       "\\end{tabular}\n"
      ],
      "text/markdown": [
       "\n",
       "| 1.031440 | \n",
       "| 2.010329 | \n",
       "\n",
       "\n"
      ],
      "text/plain": [
       "     [,1]    \n",
       "[1,] 1.031440\n",
       "[2,] 2.010329"
      ]
     },
     "metadata": {},
     "output_type": "display_data"
    },
    {
     "data": {
      "text/html": [
       "<dl class=dl-horizontal>\n",
       "\t<dt>x1</dt>\n",
       "\t\t<dd>1.03144011493893</dd>\n",
       "\t<dt>x2</dt>\n",
       "\t\t<dd>2.01032873370495</dd>\n",
       "</dl>\n"
      ],
      "text/latex": [
       "\\begin{description*}\n",
       "\\item[x1] 1.03144011493893\n",
       "\\item[x2] 2.01032873370495\n",
       "\\end{description*}\n"
      ],
      "text/markdown": [
       "x1\n",
       ":   1.03144011493893x2\n",
       ":   2.01032873370495\n",
       "\n"
      ],
      "text/plain": [
       "      x1       x2 \n",
       "1.031440 2.010329 "
      ]
     },
     "metadata": {},
     "output_type": "display_data"
    }
   ],
   "source": [
    "out1\n",
    "out2$coefficients"
   ]
  },
  {
   "cell_type": "code",
   "execution_count": 125,
   "metadata": {
    "collapsed": false
   },
   "outputs": [
    {
     "data": {
      "text/html": [
       "<table>\n",
       "<thead><tr><th scope=col>expr</th><th scope=col>min</th><th scope=col>lq</th><th scope=col>mean</th><th scope=col>median</th><th scope=col>uq</th><th scope=col>max</th><th scope=col>neval</th></tr></thead>\n",
       "<tbody>\n",
       "\t<tr><td>solve(t(X) %*% W %*% X) %*% t(X) %*% W %*% Y</td><td>81.599                                      </td><td>83.334                                      </td><td>91.82850                                    </td><td>88.300                                      </td><td>95.5885                                     </td><td>155.268                                     </td><td>100                                         </td></tr>\n",
       "\t<tr><td>lm.wfit(X, Y, w = sig^-2)                   </td><td>47.392                                      </td><td>50.601                                      </td><td>54.75023                                    </td><td>52.997                                      </td><td>55.9720                                     </td><td>127.104                                     </td><td>100                                         </td></tr>\n",
       "</tbody>\n",
       "</table>\n"
      ],
      "text/latex": [
       "\\begin{tabular}{r|llllllll}\n",
       " expr & min & lq & mean & median & uq & max & neval\\\\\n",
       "\\hline\n",
       "\t solve(t(X) \\%*\\% W \\%*\\% X) \\%*\\% t(X) \\%*\\% W \\%*\\% Y & 81.599                                                           & 83.334                                                           & 91.82850                                                         & 88.300                                                           & 95.5885                                                          & 155.268                                                          & 100                                                             \\\\\n",
       "\t lm.wfit(X, Y, w = sig\\textasciicircum{}-2)                    & 47.392                                                         & 50.601                                                         & 54.75023                                                       & 52.997                                                         & 55.9720                                                        & 127.104                                                        & 100                                                           \\\\\n",
       "\\end{tabular}\n"
      ],
      "text/markdown": [
       "\n",
       "expr | min | lq | mean | median | uq | max | neval | \n",
       "|---|---|\n",
       "| solve(t(X) %*% W %*% X) %*% t(X) %*% W %*% Y | 81.599                                       | 83.334                                       | 91.82850                                     | 88.300                                       | 95.5885                                      | 155.268                                      | 100                                          | \n",
       "| lm.wfit(X, Y, w = sig^-2)                    | 47.392                                       | 50.601                                       | 54.75023                                     | 52.997                                       | 55.9720                                      | 127.104                                      | 100                                          | \n",
       "\n",
       "\n"
      ],
      "text/plain": [
       "  expr                                         min    lq     mean     median\n",
       "1 solve(t(X) %*% W %*% X) %*% t(X) %*% W %*% Y 81.599 83.334 91.82850 88.300\n",
       "2 lm.wfit(X, Y, w = sig^-2)                    47.392 50.601 54.75023 52.997\n",
       "  uq      max     neval\n",
       "1 95.5885 155.268 100  \n",
       "2 55.9720 127.104 100  "
      ]
     },
     "metadata": {},
     "output_type": "display_data"
    }
   ],
   "source": [
    "out <- microbenchmark(solve(t(X)%*%W%*%X)%*%t(X)%*%W%*%Y,lm.wfit(X,Y,w=sig^-2))\n",
    "summary(out)"
   ]
  },
  {
   "cell_type": "markdown",
   "metadata": {},
   "source": [
    "Directly implementing the method from the standard mathematical expression is $O(n^2)$ while it can easily be made a $O(n)$ algorithm."
   ]
  }
 ],
 "metadata": {
  "kernelspec": {
   "display_name": "R",
   "language": "R",
   "name": "ir"
  },
  "language_info": {
   "codemirror_mode": "r",
   "file_extension": ".r",
   "mimetype": "text/x-r-source",
   "name": "R",
   "pygments_lexer": "r",
   "version": "3.4.3"
  }
 },
 "nbformat": 4,
 "nbformat_minor": 1
}
