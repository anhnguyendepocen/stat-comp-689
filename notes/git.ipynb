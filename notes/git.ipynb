{
 "cells": [
  {
   "cell_type": "raw",
   "metadata": {
    "slideshow": {
     "slide_type": "-"
    }
   },
   "source": [
    "<style type=\"text/css\">\n",
    ".reveal {\n",
    "font-size: 200%;\n",
    "}</style>"
   ]
  },
  {
   "cell_type": "markdown",
   "metadata": {
    "slideshow": {
     "slide_type": "slide"
    }
   },
   "source": [
    "# Introduction to git and github\n",
    "\n"
   ]
  },
  {
   "cell_type": "markdown",
   "metadata": {
    "slideshow": {
     "slide_type": "slide"
    }
   },
   "source": [
    "# Version Control Software\n",
    "\n",
    "* tracks current state and all past versions of\n",
    "    * code\n",
    "    * papers\n",
    "    * websites\n",
    "* especially useful for collaborative projects"
   ]
  },
  {
   "cell_type": "markdown",
   "metadata": {
    "slideshow": {
     "slide_type": "slide"
    }
   },
   "source": [
    "# git and [github.com](https://github.com)\n",
    "* git is popular VC system\n",
    "* [github.com](https://github.com) hosts the projects version controlled with git\n",
    "* github is facebook for coding\n"
   ]
  },
  {
   "cell_type": "markdown",
   "metadata": {
    "slideshow": {
     "slide_type": "slide"
    }
   },
   "source": [
    "# Today\n",
    "\n",
    "* Basic git / github usage\n",
    "  * setting up a github account\n",
    "  * git clone, add, pull, push\n",
    "  * .gitignore\n",
    "* Class Uses\n",
    "  * 689 Homework: backs up files, good advertising for your career\n",
    "  * Course Project: easily share code and reports with partner"
   ]
  },
  {
   "cell_type": "markdown",
   "metadata": {
    "slideshow": {
     "slide_type": "slide"
    }
   },
   "source": [
    "<img src=\"https://longjp.github.io/statcomp/lectures/gitjob.png\" alt=\"Drawing\" style=\"width: 1600px;\"/>"
   ]
  },
  {
   "cell_type": "markdown",
   "metadata": {
    "slideshow": {
     "slide_type": "slide"
    }
   },
   "source": [
    "# Terminology\n",
    "\n",
    "* **repository (or repo)**: a project storing code or other files\n",
    "* **collaborators**: set of individuals who can modify repo\n",
    "* **public repository**: repo which anyone case see\n",
    "* **private repository**: repo that only collaborators can see\n",
    "\n",
    "* [github.com](https://github.com) has lots of public repositories that you can browse "
   ]
  },
  {
   "cell_type": "markdown",
   "metadata": {
    "slideshow": {
     "slide_type": "slide"
    }
   },
   "source": [
    "# Setting up Git\n",
    "\n",
    "1. Download git software for your system, [instructions here](https://gist.github.com/derhuerst/1b15ff4652a867391f03)\n",
    "2. Create an account at [github.com](https://github.com)\n",
    "  * Unlimited public repos are free\n",
    "  * $7 / month for unlimited private repos"
   ]
  },
  {
   "cell_type": "markdown",
   "metadata": {
    "slideshow": {
     "slide_type": "slide"
    }
   },
   "source": [
    "# Demo 1: Creating a git repo for class homeworks\n",
    "\n",
    "* common git commands\n",
    "    * git clone\n",
    "    * git status\n",
    "    * git add\n",
    "    * git commit\n",
    "    * git pull\n",
    "    * git push\n",
    "* pushing and pulling requires authentication unless you [set up ssh](https://help.github.com/articles/connecting-to-github-with-ssh/)"
   ]
  },
  {
   "cell_type": "markdown",
   "metadata": {
    "slideshow": {
     "slide_type": "slide"
    }
   },
   "source": [
    "# Demo 2: Collaborating on class project using git\n",
    "\n",
    "* adding collaborators\n",
    "* resolving conflicts\n",
    "* git is not good for:\n",
    "   * large data files\n",
    "   * compiled files e.g. pdfs compiled from .tex\n",
    "* use .gitignore to avoid version controlling compiled files\n",
    "* create a script to download data files available on the internet\n",
    "   "
   ]
  },
  {
   "cell_type": "markdown",
   "metadata": {
    "slideshow": {
     "slide_type": "slide"
    }
   },
   "source": [
    "# Demo 3: Project Website\n",
    "\n",
    "* The course website [https://longjp.github.io/statcomp/](https://longjp.github.io/statcomp/) is a github repo.\n",
    "    * make changes on local copy of repo\n",
    "    * push changes to github"
   ]
  },
  {
   "cell_type": "markdown",
   "metadata": {
    "slideshow": {
     "slide_type": "slide"
    }
   },
   "source": [
    "# Resources\n",
    "\n",
    "* [https://help.github.com/](https://help.github.com/)\n",
    "* [Tutorial for Beginners](https://product.hubspot.com/blog/git-and-github-tutorial-for-beginners)"
   ]
  },
  {
   "cell_type": "markdown",
   "metadata": {
    "slideshow": {
     "slide_type": "slide"
    }
   },
   "source": [
    "# [github.tamu.edu](https://github.tamu.edu/) or [github.com](https://github.com)\n",
    "\n",
    "* github.com \n",
    "   * visible to world\n",
    "   * public repositories free\n",
    "   * pay for private repositories\n",
    "\n",
    "* github.tamu.edu\n",
    "   * requires NetID to view and collaborate on projects\n",
    "   * nearly unlimited private and public repositories\n",
    "\n",
    "* see [here](https://github.tamu.edu/pages/tamugithub/changelog/) for a good description"
   ]
  },
  {
   "cell_type": "code",
   "execution_count": null,
   "metadata": {
    "collapsed": true
   },
   "outputs": [],
   "source": []
  }
 ],
 "metadata": {
  "celltoolbar": "Slideshow",
  "kernelspec": {
   "display_name": "Python 3",
   "language": "python",
   "name": "python3"
  },
  "language_info": {
   "codemirror_mode": {
    "name": "ipython",
    "version": 3
   },
   "file_extension": ".py",
   "mimetype": "text/x-python",
   "name": "python",
   "nbconvert_exporter": "python",
   "pygments_lexer": "ipython3",
   "version": "3.5.2"
  }
 },
 "nbformat": 4,
 "nbformat_minor": 1
}
