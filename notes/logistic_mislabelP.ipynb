{
 "cells": [
  {
   "cell_type": "markdown",
   "metadata": {},
   "source": [
    "# Logistic Model with Python and Mislabeled Observations\n",
    "\n",
    "We first discuss how to fit a logistic model in python. We then discuss the problem of mislabeled observations. See logisticR.ipynb for more background on the logistic model."
   ]
  },
  {
   "cell_type": "code",
   "execution_count": 91,
   "metadata": {
    "collapsed": false
   },
   "outputs": [],
   "source": [
    "import numpy as np\n",
    "n = 100\n",
    "x = np.linspace(-5,5,num=n)\n",
    "beta = np.array([1.,1.])"
   ]
  },
  {
   "cell_type": "code",
   "execution_count": 92,
   "metadata": {
    "collapsed": true
   },
   "outputs": [],
   "source": [
    "## computes the p_i for any x_i and beta\n",
    "def logistic(x,beta):\n",
    "    return( 1 / (1+np.exp(-np.sum(x*beta))))"
   ]
  },
  {
   "cell_type": "code",
   "execution_count": 93,
   "metadata": {
    "collapsed": false
   },
   "outputs": [],
   "source": [
    "## the design matrix, we have one parameter for each column of X\n",
    "X = np.column_stack((np.ones(n),x))"
   ]
  },
  {
   "cell_type": "code",
   "execution_count": 94,
   "metadata": {
    "collapsed": false
   },
   "outputs": [],
   "source": [
    "## p_i vector\n",
    "p = np.apply_along_axis(lambda y: logistic(y,beta),1,X)"
   ]
  },
  {
   "cell_type": "code",
   "execution_count": 95,
   "metadata": {
    "collapsed": false
   },
   "outputs": [],
   "source": [
    "## simulate responses\n",
    "y = np.random.binomial(n=1,p=p)"
   ]
  },
  {
   "cell_type": "code",
   "execution_count": 96,
   "metadata": {
    "collapsed": false
   },
   "outputs": [
    {
     "data": {
      "image/png": "[encoded data removed]",
      "text/plain": [
       "<matplotlib.figure.Figure at 0x7fe6a1048780>"
      ]
     },
     "metadata": {},
     "output_type": "display_data"
    }
   ],
   "source": [
    "%matplotlib inline\n",
    "import matplotlib.pyplot as plt\n",
    "plt.style.use('seaborn-whitegrid')\n",
    "\n",
    "plt.plot(x,y,'o',color='black')\n",
    "plt.plot(x,p)\n",
    "plt.xlabel(\"x\")\n",
    "plt.ylabel(\"y\")\n",
    "plt.ylim(-.1,1.1);"
   ]
  },
  {
   "cell_type": "markdown",
   "metadata": {},
   "source": [
    "** Exercise : ** Try altering the parameters $\\beta$ and viewing how the curve and data change.\n",
    "\n",
    "** Exercise : ** Try adding quadratic or higher order polynomial terms to the model and observing how the data and curve change."
   ]
  },
  {
   "cell_type": "markdown",
   "metadata": {},
   "source": [
    "### Python package statsmodels\n",
    "\n",
    "[statsmodels](http://www.statsmodels.org) has many statistical functions. The function arguments and return values follow R style closely. statsmodels is developed on [github](https://github.com/statsmodels/statsmodels). statsmodels and scipy share many similarities, but statsmodels takes a statistical perspective to models, e.g. models are typically fit with no regularization and functions return parameter uncertainties. Less focus on prediction, more on parameter estimation."
   ]
  },
  {
   "cell_type": "code",
   "execution_count": 98,
   "metadata": {
    "collapsed": false
   },
   "outputs": [],
   "source": [
    "import statsmodels.api as sm"
   ]
  },
  {
   "cell_type": "code",
   "execution_count": 99,
   "metadata": {
    "collapsed": false
   },
   "outputs": [],
   "source": [
    "results = sm.GLM(y,X,family=sm.families.Binomial()).fit()"
   ]
  },
  {
   "cell_type": "code",
   "execution_count": 100,
   "metadata": {
    "collapsed": false
   },
   "outputs": [
    {
     "data": {
      "text/plain": [
       "array([1.52299368, 1.24997056])"
      ]
     },
     "execution_count": 100,
     "metadata": {},
     "output_type": "execute_result"
    }
   ],
   "source": [
    "results.params"
   ]
  },
  {
   "cell_type": "markdown",
   "metadata": {},
   "source": [
    "## Mislabeled Case\n",
    "\n",
    "Consider the model where a label is switched with probability $\\alpha$. This would occur if your training data had observations where are mislabeled. For example in a spam classification problem the training data (consisting of email known as spam / not spam), could have some email labeled as spam which are actually not spam (and vice versa). There is a fairly large [literature](https://scholar.google.com/scholar?hl=en&as_sdt=0%2C44&q=classification+with+mislabeled+training+data&btnG=) on this subject. We study a simple model of this here.\n",
    "\n",
    "In the standard logistic regression model we observe $(X_i,Y_i)$ pairs where $X_i \\in \\mathbb{R}^p$ are features and $Y_i \\in \\{0,1\\}$ are the class labels with \n",
    "$$ p_i = \\frac{1}{1 + e^{-x_i^T\\beta}} $$\n",
    "and $Y_i \\sim Bernoulli(p_i)$.\n",
    "\n",
    "In the mislabeled case we observe $(X_i,W_i)$ where\n",
    "$$ W_i = Y_i \\mathbb{1}_{Z_i=1} + R_i\\mathbb{1}_{Z_i=0}$$\n",
    "where $Z_i \\sim Bernoulli(1-\\alpha)$ and $R_i \\sim Bernoulli(1/2)$ are unobserved. $Z_i$ indicates whether we observe the true label $Y_i$ or a random label $R_i$. We assume that $Z_i$ and $R_i$ are independent of each other and independent of $X_i$ and $Y_i$.\n",
    "\n",
    "We now simulate data from this model and observe what is looks like.\n",
    "\n",
    "** Exercise: ** Mathematically derive what happens for $\\alpha$ near 1? Results simulated below."
   ]
  },
  {
   "cell_type": "code",
   "execution_count": 161,
   "metadata": {
    "collapsed": true
   },
   "outputs": [],
   "source": [
    "import numpy as np\n",
    "n = 100\n",
    "x = np.linspace(-5,5,num=n)\n",
    "beta = np.array([1.,1.])"
   ]
  },
  {
   "cell_type": "code",
   "execution_count": 162,
   "metadata": {
    "collapsed": true
   },
   "outputs": [],
   "source": [
    "## p_i vector\n",
    "p = np.apply_along_axis(lambda y: logistic(y,beta),1,X)"
   ]
  },
  {
   "cell_type": "code",
   "execution_count": 163,
   "metadata": {
    "collapsed": true
   },
   "outputs": [],
   "source": [
    "## simulate responses\n",
    "y = np.random.binomial(n=1,p=p)"
   ]
  },
  {
   "cell_type": "code",
   "execution_count": 173,
   "metadata": {
    "collapsed": false
   },
   "outputs": [],
   "source": [
    "## contamination level alpha\n",
    "alpha = 0.2\n",
    "z = np.random.binomial(n=1,p=1-alpha,size=n)\n",
    "r = np.random.binomial(n=1,p=0.5,size=n)"
   ]
  },
  {
   "cell_type": "code",
   "execution_count": 174,
   "metadata": {
    "collapsed": true
   },
   "outputs": [],
   "source": [
    "## we observe data w\n",
    "w = y*z + r*(1-z)"
   ]
  },
  {
   "cell_type": "code",
   "execution_count": 175,
   "metadata": {
    "collapsed": false
   },
   "outputs": [
    {
     "data": {
      "image/png": "[encoded data removed]",
      "text/plain": [
       "<matplotlib.figure.Figure at 0x7fe6925045f8>"
      ]
     },
     "metadata": {},
     "output_type": "display_data"
    }
   ],
   "source": [
    "%matplotlib inline\n",
    "import matplotlib.pyplot as plt\n",
    "plt.style.use('seaborn-whitegrid')\n",
    "\n",
    "plt.plot(x,w,'o',color='black')\n",
    "plt.plot(x,p)\n",
    "plt.xlabel(\"x\")\n",
    "plt.ylabel(\"w\")\n",
    "plt.ylim(-.1,1.1);"
   ]
  },
  {
   "cell_type": "markdown",
   "metadata": {},
   "source": [
    "We observe $w=0$ at some $x$ values there $p\\approx 1$. In particular for $x > 2$. These observations are highly likely to have simply been mislabeled."
   ]
  },
  {
   "cell_type": "code",
   "execution_count": 176,
   "metadata": {
    "collapsed": false
   },
   "outputs": [
    {
     "data": {
      "text/plain": [
       "array([0.11590456, 0.48041773])"
      ]
     },
     "execution_count": 176,
     "metadata": {},
     "output_type": "execute_result"
    }
   ],
   "source": [
    "## run model pretending no error\n",
    "results = sm.GLM(w,X,family=sm.families.Binomial()).fit()\n",
    "results.params"
   ]
  },
  {
   "cell_type": "markdown",
   "metadata": {},
   "source": [
    "The parameter estimates are far from the true value. In fact they are bias. The slope term $\\widehat{\\beta}_2$ is biased toward $0$. We show this bias now by plotting the estimated logistic curve. The resulting bias should make sense, given the data."
   ]
  },
  {
   "cell_type": "code",
   "execution_count": 177,
   "metadata": {
    "collapsed": true
   },
   "outputs": [],
   "source": [
    "pw = np.apply_along_axis(lambda y: logistic(y,results.params),1,X)"
   ]
  },
  {
   "cell_type": "code",
   "execution_count": 178,
   "metadata": {
    "collapsed": false
   },
   "outputs": [
    {
     "data": {
      "image/png": "[encoded data removed]",
      "text/plain": [
       "<matplotlib.figure.Figure at 0x7fe69247d390>"
      ]
     },
     "metadata": {},
     "output_type": "display_data"
    }
   ],
   "source": [
    "%matplotlib inline\n",
    "import matplotlib.pyplot as plt\n",
    "plt.style.use('seaborn-whitegrid')\n",
    "\n",
    "plt.plot(x,w,'o',color='black')\n",
    "plt.plot(x,p)\n",
    "plt.plot(x,pw,color='red')\n",
    "plt.xlabel(\"x\")\n",
    "plt.ylabel(\"w\")\n",
    "plt.ylim(-.1,1.1);"
   ]
  },
  {
   "cell_type": "markdown",
   "metadata": {},
   "source": [
    "** Exercise: ** Empirically verify that this bias is real and not variability due to the sample size being small. Increase the sample size dramatically and observe that the parameter estimates are still far off."
   ]
  },
  {
   "cell_type": "markdown",
   "metadata": {},
   "source": [
    "In this model there are now three parameters, the $\\beta$ vector and the $\\alpha$ parameter. Out of the box optimizers will not work for this problem. A potential class project would be to implement this model in python or R and test it on some real and simulated data sets. "
   ]
  },
  {
   "cell_type": "code",
   "execution_count": null,
   "metadata": {
    "collapsed": true
   },
   "outputs": [],
   "source": []
  }
 ],
 "metadata": {
  "kernelspec": {
   "display_name": "Python 3",
   "language": "python",
   "name": "python3"
  },
  "language_info": {
   "codemirror_mode": {
    "name": "ipython",
    "version": 3
   },
   "file_extension": ".py",
   "mimetype": "text/x-python",
   "name": "python",
   "nbconvert_exporter": "python",
   "pygments_lexer": "ipython3",
   "version": "3.5.2"
  }
 },
 "nbformat": 4,
 "nbformat_minor": 1
}
