{
 "cells": [
  {
   "cell_type": "markdown",
   "metadata": {},
   "source": [
    "## Generating Unif[0,1] in R\n",
    "\n",
    "We show how to generate pseudo-random $Unif[0,1]$ in R. The process is very similar in Python. The theory is discussed in Lange 22.1 and 22.2. The Python code for random number generation is [here](https://jakevdp.github.io/PythonDataScienceHandbook/02.02-the-basics-of-numpy-arrays.html). We focus on what is going on behind the scenes in R.\n",
    "\n",
    "Later we show how to transform $Unif[0,1]$ deviates to generate random numbers from other distributions, such as the bernoulli, exponential, and normal. "
   ]
  },
  {
   "cell_type": "code",
   "execution_count": 23,
   "metadata": {},
   "outputs": [
    {
     "data": {
      "text/html": [
       "<ol class=list-inline>\n",
       "\t<li>'a'</li>\n",
       "\t<li>'gen_random_unif'</li>\n",
       "\t<li>'p'</li>\n",
       "\t<li>'.pbd_env'</li>\n",
       "\t<li>'.Random.seed'</li>\n",
       "\t<li>'seed'</li>\n",
       "\t<li>'x'</li>\n",
       "</ol>\n"
      ],
      "text/latex": [
       "\\begin{enumerate*}\n",
       "\\item 'a'\n",
       "\\item 'gen\\_random\\_unif'\n",
       "\\item 'p'\n",
       "\\item '.pbd\\_env'\n",
       "\\item '.Random.seed'\n",
       "\\item 'seed'\n",
       "\\item 'x'\n",
       "\\end{enumerate*}\n"
      ],
      "text/markdown": [
       "1. 'a'\n",
       "2. 'gen_random_unif'\n",
       "3. 'p'\n",
       "4. '.pbd_env'\n",
       "5. '.Random.seed'\n",
       "6. 'seed'\n",
       "7. 'x'\n",
       "\n",
       "\n"
      ],
      "text/plain": [
       "[1] \"a\"               \"gen_random_unif\" \"p\"               \".pbd_env\"       \n",
       "[5] \".Random.seed\"    \"seed\"            \"x\"              "
      ]
     },
     "metadata": {},
     "output_type": "display_data"
    }
   ],
   "source": [
    "ls(all.names=TRUE)\n",
    "options(repr.plot.height=4,repr.plot.width=5)"
   ]
  },
  {
   "cell_type": "code",
   "execution_count": 24,
   "metadata": {},
   "outputs": [
    {
     "data": {
      "text/html": [
       "<ol class=list-inline>\n",
       "\t<li>'add.smooth'</li>\n",
       "\t<li>'bitmapType'</li>\n",
       "\t<li>'browser'</li>\n",
       "\t<li>'browserNLdisabled'</li>\n",
       "\t<li>'CBoundsCheck'</li>\n",
       "\t<li>'check.bounds'</li>\n",
       "\t<li>'citation.bibtex.max'</li>\n",
       "\t<li>'continue'</li>\n",
       "\t<li>'contrasts'</li>\n",
       "\t<li>'defaultPackages'</li>\n",
       "\t<li>'demo.ask'</li>\n",
       "\t<li>'deparse.cutoff'</li>\n",
       "\t<li>'device'</li>\n",
       "\t<li>'device.ask.default'</li>\n",
       "\t<li>'digits'</li>\n",
       "\t<li>'dvipscmd'</li>\n",
       "\t<li>'echo'</li>\n",
       "\t<li>'editor'</li>\n",
       "\t<li>'encoding'</li>\n",
       "\t<li>'example.ask'</li>\n",
       "\t<li>'expressions'</li>\n",
       "\t<li>'help.search.types'</li>\n",
       "\t<li>'help.try.all.packages'</li>\n",
       "\t<li>'HTTPUserAgent'</li>\n",
       "\t<li>'internet.info'</li>\n",
       "\t<li>'jupyter.base_display_func'</li>\n",
       "\t<li>'jupyter.display_mimetypes'</li>\n",
       "\t<li>'jupyter.in_kernel'</li>\n",
       "\t<li>'jupyter.logfile'</li>\n",
       "\t<li>'jupyter.log_level'</li>\n",
       "\t<li>'jupyter.pager_classes'</li>\n",
       "\t<li>'jupyter.plot_mimetypes'</li>\n",
       "\t<li>'jupyter.rich_display'</li>\n",
       "\t<li>'keep.source'</li>\n",
       "\t<li>'keep.source.pkgs'</li>\n",
       "\t<li>'locatorBell'</li>\n",
       "\t<li>'mailer'</li>\n",
       "\t<li>'matprod'</li>\n",
       "\t<li>'max.print'</li>\n",
       "\t<li>'menu.graphics'</li>\n",
       "\t<li>'na.action'</li>\n",
       "\t<li>'nwarnings'</li>\n",
       "\t<li>'OutDec'</li>\n",
       "\t<li>'pager'</li>\n",
       "\t<li>'papersize'</li>\n",
       "\t<li>'PCRE_limit_recursion'</li>\n",
       "\t<li>'PCRE_study'</li>\n",
       "\t<li>'PCRE_use_JIT'</li>\n",
       "\t<li>'pdfviewer'</li>\n",
       "\t<li>'pkgType'</li>\n",
       "\t<li>'printcmd'</li>\n",
       "\t<li>'prompt'</li>\n",
       "\t<li>'repos'</li>\n",
       "\t<li>'repr.function.highlight'</li>\n",
       "\t<li>'repr.matrix.latex.colspec'</li>\n",
       "\t<li>'repr.matrix.max.cols'</li>\n",
       "\t<li>'repr.matrix.max.rows'</li>\n",
       "\t<li>'repr.plot.antialias'</li>\n",
       "\t<li>'repr.plot.bg'</li>\n",
       "\t<li>'repr.plot.family'</li>\n",
       "\t<li>'repr.plot.height'</li>\n",
       "\t<li>'repr.plot.pointsize'</li>\n",
       "\t<li>'repr.plot.quality'</li>\n",
       "\t<li>'repr.plot.res'</li>\n",
       "\t<li>'repr.plot.width'</li>\n",
       "\t<li>'repr.vector.quote'</li>\n",
       "\t<li>'rl_word_breaks'</li>\n",
       "\t<li>'scipen'</li>\n",
       "\t<li>'show.coef.Pvalues'</li>\n",
       "\t<li>'showErrorCalls'</li>\n",
       "\t<li>'show.error.messages'</li>\n",
       "\t<li>'show.signif.stars'</li>\n",
       "\t<li>'str'</li>\n",
       "\t<li>'str.dendrogram.last'</li>\n",
       "\t<li>'stringsAsFactors'</li>\n",
       "\t<li>'texi2dvi'</li>\n",
       "\t<li>'timeout'</li>\n",
       "\t<li>'ts.eps'</li>\n",
       "\t<li>'ts.S.compat'</li>\n",
       "\t<li>'unzip'</li>\n",
       "\t<li>'useFancyQuotes'</li>\n",
       "\t<li>'verbose'</li>\n",
       "\t<li>'warn'</li>\n",
       "\t<li>'warning.length'</li>\n",
       "\t<li>'width'</li>\n",
       "</ol>\n"
      ],
      "text/latex": [
       "\\begin{enumerate*}\n",
       "\\item 'add.smooth'\n",
       "\\item 'bitmapType'\n",
       "\\item 'browser'\n",
       "\\item 'browserNLdisabled'\n",
       "\\item 'CBoundsCheck'\n",
       "\\item 'check.bounds'\n",
       "\\item 'citation.bibtex.max'\n",
       "\\item 'continue'\n",
       "\\item 'contrasts'\n",
       "\\item 'defaultPackages'\n",
       "\\item 'demo.ask'\n",
       "\\item 'deparse.cutoff'\n",
       "\\item 'device'\n",
       "\\item 'device.ask.default'\n",
       "\\item 'digits'\n",
       "\\item 'dvipscmd'\n",
       "\\item 'echo'\n",
       "\\item 'editor'\n",
       "\\item 'encoding'\n",
       "\\item 'example.ask'\n",
       "\\item 'expressions'\n",
       "\\item 'help.search.types'\n",
       "\\item 'help.try.all.packages'\n",
       "\\item 'HTTPUserAgent'\n",
       "\\item 'internet.info'\n",
       "\\item 'jupyter.base\\_display\\_func'\n",
       "\\item 'jupyter.display\\_mimetypes'\n",
       "\\item 'jupyter.in\\_kernel'\n",
       "\\item 'jupyter.logfile'\n",
       "\\item 'jupyter.log\\_level'\n",
       "\\item 'jupyter.pager\\_classes'\n",
       "\\item 'jupyter.plot\\_mimetypes'\n",
       "\\item 'jupyter.rich\\_display'\n",
       "\\item 'keep.source'\n",
       "\\item 'keep.source.pkgs'\n",
       "\\item 'locatorBell'\n",
       "\\item 'mailer'\n",
       "\\item 'matprod'\n",
       "\\item 'max.print'\n",
       "\\item 'menu.graphics'\n",
       "\\item 'na.action'\n",
       "\\item 'nwarnings'\n",
       "\\item 'OutDec'\n",
       "\\item 'pager'\n",
       "\\item 'papersize'\n",
       "\\item 'PCRE\\_limit\\_recursion'\n",
       "\\item 'PCRE\\_study'\n",
       "\\item 'PCRE\\_use\\_JIT'\n",
       "\\item 'pdfviewer'\n",
       "\\item 'pkgType'\n",
       "\\item 'printcmd'\n",
       "\\item 'prompt'\n",
       "\\item 'repos'\n",
       "\\item 'repr.function.highlight'\n",
       "\\item 'repr.matrix.latex.colspec'\n",
       "\\item 'repr.matrix.max.cols'\n",
       "\\item 'repr.matrix.max.rows'\n",
       "\\item 'repr.plot.antialias'\n",
       "\\item 'repr.plot.bg'\n",
       "\\item 'repr.plot.family'\n",
       "\\item 'repr.plot.height'\n",
       "\\item 'repr.plot.pointsize'\n",
       "\\item 'repr.plot.quality'\n",
       "\\item 'repr.plot.res'\n",
       "\\item 'repr.plot.width'\n",
       "\\item 'repr.vector.quote'\n",
       "\\item 'rl\\_word\\_breaks'\n",
       "\\item 'scipen'\n",
       "\\item 'show.coef.Pvalues'\n",
       "\\item 'showErrorCalls'\n",
       "\\item 'show.error.messages'\n",
       "\\item 'show.signif.stars'\n",
       "\\item 'str'\n",
       "\\item 'str.dendrogram.last'\n",
       "\\item 'stringsAsFactors'\n",
       "\\item 'texi2dvi'\n",
       "\\item 'timeout'\n",
       "\\item 'ts.eps'\n",
       "\\item 'ts.S.compat'\n",
       "\\item 'unzip'\n",
       "\\item 'useFancyQuotes'\n",
       "\\item 'verbose'\n",
       "\\item 'warn'\n",
       "\\item 'warning.length'\n",
       "\\item 'width'\n",
       "\\end{enumerate*}\n"
      ],
      "text/markdown": [
       "1. 'add.smooth'\n",
       "2. 'bitmapType'\n",
       "3. 'browser'\n",
       "4. 'browserNLdisabled'\n",
       "5. 'CBoundsCheck'\n",
       "6. 'check.bounds'\n",
       "7. 'citation.bibtex.max'\n",
       "8. 'continue'\n",
       "9. 'contrasts'\n",
       "10. 'defaultPackages'\n",
       "11. 'demo.ask'\n",
       "12. 'deparse.cutoff'\n",
       "13. 'device'\n",
       "14. 'device.ask.default'\n",
       "15. 'digits'\n",
       "16. 'dvipscmd'\n",
       "17. 'echo'\n",
       "18. 'editor'\n",
       "19. 'encoding'\n",
       "20. 'example.ask'\n",
       "21. 'expressions'\n",
       "22. 'help.search.types'\n",
       "23. 'help.try.all.packages'\n",
       "24. 'HTTPUserAgent'\n",
       "25. 'internet.info'\n",
       "26. 'jupyter.base_display_func'\n",
       "27. 'jupyter.display_mimetypes'\n",
       "28. 'jupyter.in_kernel'\n",
       "29. 'jupyter.logfile'\n",
       "30. 'jupyter.log_level'\n",
       "31. 'jupyter.pager_classes'\n",
       "32. 'jupyter.plot_mimetypes'\n",
       "33. 'jupyter.rich_display'\n",
       "34. 'keep.source'\n",
       "35. 'keep.source.pkgs'\n",
       "36. 'locatorBell'\n",
       "37. 'mailer'\n",
       "38. 'matprod'\n",
       "39. 'max.print'\n",
       "40. 'menu.graphics'\n",
       "41. 'na.action'\n",
       "42. 'nwarnings'\n",
       "43. 'OutDec'\n",
       "44. 'pager'\n",
       "45. 'papersize'\n",
       "46. 'PCRE_limit_recursion'\n",
       "47. 'PCRE_study'\n",
       "48. 'PCRE_use_JIT'\n",
       "49. 'pdfviewer'\n",
       "50. 'pkgType'\n",
       "51. 'printcmd'\n",
       "52. 'prompt'\n",
       "53. 'repos'\n",
       "54. 'repr.function.highlight'\n",
       "55. 'repr.matrix.latex.colspec'\n",
       "56. 'repr.matrix.max.cols'\n",
       "57. 'repr.matrix.max.rows'\n",
       "58. 'repr.plot.antialias'\n",
       "59. 'repr.plot.bg'\n",
       "60. 'repr.plot.family'\n",
       "61. 'repr.plot.height'\n",
       "62. 'repr.plot.pointsize'\n",
       "63. 'repr.plot.quality'\n",
       "64. 'repr.plot.res'\n",
       "65. 'repr.plot.width'\n",
       "66. 'repr.vector.quote'\n",
       "67. 'rl_word_breaks'\n",
       "68. 'scipen'\n",
       "69. 'show.coef.Pvalues'\n",
       "70. 'showErrorCalls'\n",
       "71. 'show.error.messages'\n",
       "72. 'show.signif.stars'\n",
       "73. 'str'\n",
       "74. 'str.dendrogram.last'\n",
       "75. 'stringsAsFactors'\n",
       "76. 'texi2dvi'\n",
       "77. 'timeout'\n",
       "78. 'ts.eps'\n",
       "79. 'ts.S.compat'\n",
       "80. 'unzip'\n",
       "81. 'useFancyQuotes'\n",
       "82. 'verbose'\n",
       "83. 'warn'\n",
       "84. 'warning.length'\n",
       "85. 'width'\n",
       "\n",
       "\n"
      ],
      "text/plain": [
       " [1] \"add.smooth\"                \"bitmapType\"               \n",
       " [3] \"browser\"                   \"browserNLdisabled\"        \n",
       " [5] \"CBoundsCheck\"              \"check.bounds\"             \n",
       " [7] \"citation.bibtex.max\"       \"continue\"                 \n",
       " [9] \"contrasts\"                 \"defaultPackages\"          \n",
       "[11] \"demo.ask\"                  \"deparse.cutoff\"           \n",
       "[13] \"device\"                    \"device.ask.default\"       \n",
       "[15] \"digits\"                    \"dvipscmd\"                 \n",
       "[17] \"echo\"                      \"editor\"                   \n",
       "[19] \"encoding\"                  \"example.ask\"              \n",
       "[21] \"expressions\"               \"help.search.types\"        \n",
       "[23] \"help.try.all.packages\"     \"HTTPUserAgent\"            \n",
       "[25] \"internet.info\"             \"jupyter.base_display_func\"\n",
       "[27] \"jupyter.display_mimetypes\" \"jupyter.in_kernel\"        \n",
       "[29] \"jupyter.logfile\"           \"jupyter.log_level\"        \n",
       "[31] \"jupyter.pager_classes\"     \"jupyter.plot_mimetypes\"   \n",
       "[33] \"jupyter.rich_display\"      \"keep.source\"              \n",
       "[35] \"keep.source.pkgs\"          \"locatorBell\"              \n",
       "[37] \"mailer\"                    \"matprod\"                  \n",
       "[39] \"max.print\"                 \"menu.graphics\"            \n",
       "[41] \"na.action\"                 \"nwarnings\"                \n",
       "[43] \"OutDec\"                    \"pager\"                    \n",
       "[45] \"papersize\"                 \"PCRE_limit_recursion\"     \n",
       "[47] \"PCRE_study\"                \"PCRE_use_JIT\"             \n",
       "[49] \"pdfviewer\"                 \"pkgType\"                  \n",
       "[51] \"printcmd\"                  \"prompt\"                   \n",
       "[53] \"repos\"                     \"repr.function.highlight\"  \n",
       "[55] \"repr.matrix.latex.colspec\" \"repr.matrix.max.cols\"     \n",
       "[57] \"repr.matrix.max.rows\"      \"repr.plot.antialias\"      \n",
       "[59] \"repr.plot.bg\"              \"repr.plot.family\"         \n",
       "[61] \"repr.plot.height\"          \"repr.plot.pointsize\"      \n",
       "[63] \"repr.plot.quality\"         \"repr.plot.res\"            \n",
       "[65] \"repr.plot.width\"           \"repr.vector.quote\"        \n",
       "[67] \"rl_word_breaks\"            \"scipen\"                   \n",
       "[69] \"show.coef.Pvalues\"         \"showErrorCalls\"           \n",
       "[71] \"show.error.messages\"       \"show.signif.stars\"        \n",
       "[73] \"str\"                       \"str.dendrogram.last\"      \n",
       "[75] \"stringsAsFactors\"          \"texi2dvi\"                 \n",
       "[77] \"timeout\"                   \"ts.eps\"                   \n",
       "[79] \"ts.S.compat\"               \"unzip\"                    \n",
       "[81] \"useFancyQuotes\"            \"verbose\"                  \n",
       "[83] \"warn\"                      \"warning.length\"           \n",
       "[85] \"width\"                    "
      ]
     },
     "metadata": {},
     "output_type": "display_data"
    }
   ],
   "source": [
    "names(options())"
   ]
  },
  {
   "cell_type": "code",
   "execution_count": 25,
   "metadata": {},
   "outputs": [
    {
     "data": {
      "text/html": [
       "<ol class=list-inline>\n",
       "\t<li>'a'</li>\n",
       "\t<li>'gen_random_unif'</li>\n",
       "\t<li>'p'</li>\n",
       "\t<li>'.pbd_env'</li>\n",
       "\t<li>'.Random.seed'</li>\n",
       "\t<li>'seed'</li>\n",
       "\t<li>'x'</li>\n",
       "</ol>\n"
      ],
      "text/latex": [
       "\\begin{enumerate*}\n",
       "\\item 'a'\n",
       "\\item 'gen\\_random\\_unif'\n",
       "\\item 'p'\n",
       "\\item '.pbd\\_env'\n",
       "\\item '.Random.seed'\n",
       "\\item 'seed'\n",
       "\\item 'x'\n",
       "\\end{enumerate*}\n"
      ],
      "text/markdown": [
       "1. 'a'\n",
       "2. 'gen_random_unif'\n",
       "3. 'p'\n",
       "4. '.pbd_env'\n",
       "5. '.Random.seed'\n",
       "6. 'seed'\n",
       "7. 'x'\n",
       "\n",
       "\n"
      ],
      "text/plain": [
       "[1] \"a\"               \"gen_random_unif\" \"p\"               \".pbd_env\"       \n",
       "[5] \".Random.seed\"    \"seed\"            \"x\"              "
      ]
     },
     "metadata": {},
     "output_type": "display_data"
    },
    {
     "data": {
      "text/html": [
       "0.448155434336513"
      ],
      "text/latex": [
       "0.448155434336513"
      ],
      "text/markdown": [
       "0.448155434336513"
      ],
      "text/plain": [
       "[1] 0.4481554"
      ]
     },
     "metadata": {},
     "output_type": "display_data"
    },
    {
     "data": {
      "text/html": [
       "0.893514944706112"
      ],
      "text/latex": [
       "0.893514944706112"
      ],
      "text/markdown": [
       "0.893514944706112"
      ],
      "text/plain": [
       "[1] 0.8935149"
      ]
     },
     "metadata": {},
     "output_type": "display_data"
    }
   ],
   "source": [
    "ls(all.names=TRUE)\n",
    "\n",
    "## R makes generating random numbers look effortless\n",
    "runif(1)\n",
    "runif(1)"
   ]
  },
  {
   "cell_type": "code",
   "execution_count": 26,
   "metadata": {},
   "outputs": [
    {
     "data": {
      "text/html": [
       "<ol class=list-inline>\n",
       "\t<li>'a'</li>\n",
       "\t<li>'gen_random_unif'</li>\n",
       "\t<li>'p'</li>\n",
       "\t<li>'.pbd_env'</li>\n",
       "\t<li>'.Random.seed'</li>\n",
       "\t<li>'seed'</li>\n",
       "\t<li>'x'</li>\n",
       "</ol>\n"
      ],
      "text/latex": [
       "\\begin{enumerate*}\n",
       "\\item 'a'\n",
       "\\item 'gen\\_random\\_unif'\n",
       "\\item 'p'\n",
       "\\item '.pbd\\_env'\n",
       "\\item '.Random.seed'\n",
       "\\item 'seed'\n",
       "\\item 'x'\n",
       "\\end{enumerate*}\n"
      ],
      "text/markdown": [
       "1. 'a'\n",
       "2. 'gen_random_unif'\n",
       "3. 'p'\n",
       "4. '.pbd_env'\n",
       "5. '.Random.seed'\n",
       "6. 'seed'\n",
       "7. 'x'\n",
       "\n",
       "\n"
      ],
      "text/plain": [
       "[1] \"a\"               \"gen_random_unif\" \"p\"               \".pbd_env\"       \n",
       "[5] \".Random.seed\"    \"seed\"            \"x\"              "
      ]
     },
     "metadata": {},
     "output_type": "display_data"
    }
   ],
   "source": [
    "ls(all.names=TRUE) ## magically .Random.seed appears"
   ]
  },
  {
   "cell_type": "code",
   "execution_count": 1,
   "metadata": {},
   "outputs": [],
   "source": [
    "?.Random.seed"
   ]
  },
  {
   "cell_type": "code",
   "execution_count": 28,
   "metadata": {},
   "outputs": [
    {
     "data": {
      "text/html": [
       "<ol class=list-inline>\n",
       "\t<li>403</li>\n",
       "\t<li>319</li>\n",
       "\t<li>1049160699</li>\n",
       "\t<li>-1547464031</li>\n",
       "\t<li>-524926637</li>\n",
       "\t<li>-1229216390</li>\n",
       "</ol>\n"
      ],
      "text/latex": [
       "\\begin{enumerate*}\n",
       "\\item 403\n",
       "\\item 319\n",
       "\\item 1049160699\n",
       "\\item -1547464031\n",
       "\\item -524926637\n",
       "\\item -1229216390\n",
       "\\end{enumerate*}\n"
      ],
      "text/markdown": [
       "1. 403\n",
       "2. 319\n",
       "3. 1049160699\n",
       "4. -1547464031\n",
       "5. -524926637\n",
       "6. -1229216390\n",
       "\n",
       "\n"
      ],
      "text/plain": [
       "[1]         403         319  1049160699 -1547464031  -524926637 -1229216390"
      ]
     },
     "metadata": {},
     "output_type": "display_data"
    },
    {
     "data": {
      "text/html": [
       "626"
      ],
      "text/latex": [
       "626"
      ],
      "text/markdown": [
       "626"
      ],
      "text/plain": [
       "[1] 626"
      ]
     },
     "metadata": {},
     "output_type": "display_data"
    }
   ],
   "source": [
    "## .Random.seed contains RNG state\n",
    "## .Random.seed[1] codes which random number generator\n",
    "## first digit is generator for normal, second and third\n",
    "## are for uniform, 00 = Wichmann-Hill\n",
    "head(.Random.seed)\n",
    "length(.Random.seed)\n"
   ]
  },
  {
   "cell_type": "code",
   "execution_count": 29,
   "metadata": {},
   "outputs": [
    {
     "data": {
      "text/html": [
       "0.2655086631421"
      ],
      "text/latex": [
       "0.2655086631421"
      ],
      "text/markdown": [
       "0.2655086631421"
      ],
      "text/plain": [
       "[1] 0.2655087"
      ]
     },
     "metadata": {},
     "output_type": "display_data"
    },
    {
     "data": {
      "text/html": [
       "0.2655086631421"
      ],
      "text/latex": [
       "0.2655086631421"
      ],
      "text/markdown": [
       "0.2655086631421"
      ],
      "text/plain": [
       "[1] 0.2655087"
      ]
     },
     "metadata": {},
     "output_type": "display_data"
    }
   ],
   "source": [
    "set.seed(1)\n",
    "runif(1)\n",
    "set.seed(1)\n",
    "runif(1)"
   ]
  },
  {
   "cell_type": "code",
   "execution_count": 30,
   "metadata": {},
   "outputs": [
    {
     "data": {
      "text/html": [
       "<ol class=list-inline>\n",
       "\t<li>'Mersenne-Twister'</li>\n",
       "\t<li>'Inversion'</li>\n",
       "</ol>\n"
      ],
      "text/latex": [
       "\\begin{enumerate*}\n",
       "\\item 'Mersenne-Twister'\n",
       "\\item 'Inversion'\n",
       "\\end{enumerate*}\n"
      ],
      "text/markdown": [
       "1. 'Mersenne-Twister'\n",
       "2. 'Inversion'\n",
       "\n",
       "\n"
      ],
      "text/plain": [
       "[1] \"Mersenne-Twister\" \"Inversion\"       "
      ]
     },
     "metadata": {},
     "output_type": "display_data"
    }
   ],
   "source": [
    "### default RNG is \"Mersenne twister: a 623-dimensionally equidistributed\n",
    "### uniform pseudo-random number generator\"\n",
    "### as the name suggests, it is fairly complicated\n",
    "RNGkind()"
   ]
  },
  {
   "cell_type": "code",
   "execution_count": 31,
   "metadata": {},
   "outputs": [
    {
     "data": {
      "text/html": [
       "<ol class=list-inline>\n",
       "\t<li>'Wichmann-Hill'</li>\n",
       "\t<li>'Inversion'</li>\n",
       "</ol>\n"
      ],
      "text/latex": [
       "\\begin{enumerate*}\n",
       "\\item 'Wichmann-Hill'\n",
       "\\item 'Inversion'\n",
       "\\end{enumerate*}\n"
      ],
      "text/markdown": [
       "1. 'Wichmann-Hill'\n",
       "2. 'Inversion'\n",
       "\n",
       "\n"
      ],
      "text/plain": [
       "[1] \"Wichmann-Hill\" \"Inversion\"    "
      ]
     },
     "metadata": {},
     "output_type": "display_data"
    },
    {
     "data": {
      "text/html": [
       "<ol class=list-inline>\n",
       "\t<li>400</li>\n",
       "\t<li>10739</li>\n",
       "\t<li>13531</li>\n",
       "\t<li>12550</li>\n",
       "</ol>\n"
      ],
      "text/latex": [
       "\\begin{enumerate*}\n",
       "\\item 400\n",
       "\\item 10739\n",
       "\\item 13531\n",
       "\\item 12550\n",
       "\\end{enumerate*}\n"
      ],
      "text/markdown": [
       "1. 400\n",
       "2. 10739\n",
       "3. 13531\n",
       "4. 12550\n",
       "\n",
       "\n"
      ],
      "text/plain": [
       "[1]   400 10739 13531 12550"
      ]
     },
     "metadata": {},
     "output_type": "display_data"
    }
   ],
   "source": [
    "### we study the Wichmann-Hill RNG instead\n",
    "## much simpler but gives the main ideas of what is going on\n",
    "RNGkind(\"Wichmann-Hill\")\n",
    "RNGkind()\n",
    "\n",
    "\n",
    "## how does set.seed set the state in .Random.seed\n",
    ".Random.seed\n",
    "\n",
    "\n"
   ]
  },
  {
   "cell_type": "code",
   "execution_count": 32,
   "metadata": {},
   "outputs": [
    {
     "data": {
      "text/html": [
       "<ol class=list-inline>\n",
       "\t<li>400</li>\n",
       "\t<li>7982</li>\n",
       "\t<li>4765</li>\n",
       "\t<li>9325</li>\n",
       "</ol>\n"
      ],
      "text/latex": [
       "\\begin{enumerate*}\n",
       "\\item 400\n",
       "\\item 7982\n",
       "\\item 4765\n",
       "\\item 9325\n",
       "\\end{enumerate*}\n"
      ],
      "text/markdown": [
       "1. 400\n",
       "2. 7982\n",
       "3. 4765\n",
       "4. 9325\n",
       "\n",
       "\n"
      ],
      "text/plain": [
       "[1]  400 7982 4765 9325"
      ]
     },
     "metadata": {},
     "output_type": "display_data"
    },
    {
     "data": {
      "text/html": [
       "0.414461204247423"
      ],
      "text/latex": [
       "0.414461204247423"
      ],
      "text/markdown": [
       "0.414461204247423"
      ],
      "text/plain": [
       "[1] 0.4144612"
      ]
     },
     "metadata": {},
     "output_type": "display_data"
    },
    {
     "data": {
      "text/html": [
       "<ol class=list-inline>\n",
       "\t<li>400</li>\n",
       "\t<li>2817</li>\n",
       "\t<li>1291</li>\n",
       "\t<li>8454</li>\n",
       "</ol>\n"
      ],
      "text/latex": [
       "\\begin{enumerate*}\n",
       "\\item 400\n",
       "\\item 2817\n",
       "\\item 1291\n",
       "\\item 8454\n",
       "\\end{enumerate*}\n"
      ],
      "text/markdown": [
       "1. 400\n",
       "2. 2817\n",
       "3. 1291\n",
       "4. 8454\n",
       "\n",
       "\n"
      ],
      "text/plain": [
       "[1]  400 2817 1291 8454"
      ]
     },
     "metadata": {},
     "output_type": "display_data"
    },
    {
     "data": {
      "text/html": [
       "0.636665074108633"
      ],
      "text/latex": [
       "0.636665074108633"
      ],
      "text/markdown": [
       "0.636665074108633"
      ],
      "text/plain": [
       "[1] 0.6366651"
      ]
     },
     "metadata": {},
     "output_type": "display_data"
    },
    {
     "data": {
      "text/html": [
       "<ol class=list-inline>\n",
       "\t<li>400</li>\n",
       "\t<li>7982</li>\n",
       "\t<li>4765</li>\n",
       "\t<li>9325</li>\n",
       "</ol>\n"
      ],
      "text/latex": [
       "\\begin{enumerate*}\n",
       "\\item 400\n",
       "\\item 7982\n",
       "\\item 4765\n",
       "\\item 9325\n",
       "\\end{enumerate*}\n"
      ],
      "text/markdown": [
       "1. 400\n",
       "2. 7982\n",
       "3. 4765\n",
       "4. 9325\n",
       "\n",
       "\n"
      ],
      "text/plain": [
       "[1]  400 7982 4765 9325"
      ]
     },
     "metadata": {},
     "output_type": "display_data"
    },
    {
     "data": {
      "text/html": [
       "0.414461204247423"
      ],
      "text/latex": [
       "0.414461204247423"
      ],
      "text/markdown": [
       "0.414461204247423"
      ],
      "text/plain": [
       "[1] 0.4144612"
      ]
     },
     "metadata": {},
     "output_type": "display_data"
    },
    {
     "data": {
      "text/html": [
       "0.636665074108633"
      ],
      "text/latex": [
       "0.636665074108633"
      ],
      "text/markdown": [
       "0.636665074108633"
      ],
      "text/plain": [
       "[1] 0.6366651"
      ]
     },
     "metadata": {},
     "output_type": "display_data"
    }
   ],
   "source": [
    "\n",
    "## when you run set.seed(some number), this sets .Random.seed to new values\n",
    "set.seed(1234)\n",
    ".Random.seed\n",
    "runif(1)\n",
    ".Random.seed\n",
    "runif(1)\n",
    "set.seed(1234)\n",
    ".Random.seed\n",
    "runif(1)\n",
    "runif(1)"
   ]
  },
  {
   "cell_type": "markdown",
   "metadata": {},
   "source": [
    "\n",
    "## Setting Seeds\n",
    "When running simulation studies it is a good idea to set the seed once at the beginning of the program so that your results can be reproduced exactly. If you do not set the seed manually the seed is usually chosen based on the current time.\n",
    "\n",
    "\n",
    "## Wichmann-Hill RNG\n",
    "The next \"random\" number is a deterministic function of the current seed values the deterministic function mimicks randomness now show how this is done for Wichmann-Hill (WH). WH uses two ideas:\n",
    "\n",
    "1. Multiplicative congruential generator\n",
    "2. Fact that if $U_1$ and $U_2$ are $Unif[0,1]$, then $U_1 + U_2 \\text{ mod } 1$ is $Unif[0,1]$\n",
    "\n",
    "## Multiplicative congruential Generator\n"
   ]
  },
  {
   "cell_type": "code",
   "execution_count": 33,
   "metadata": {},
   "outputs": [
    {
     "data": {
      "text/html": [
       "0.0847401632032773"
      ],
      "text/latex": [
       "0.0847401632032773"
      ],
      "text/markdown": [
       "0.0847401632032773"
      ],
      "text/plain": [
       "[1] 0.08474016"
      ]
     },
     "metadata": {},
     "output_type": "display_data"
    },
    {
     "data": {
      "text/html": [
       "0.490567907760415"
      ],
      "text/latex": [
       "0.490567907760415"
      ],
      "text/markdown": [
       "0.490567907760415"
      ],
      "text/plain": [
       "[1] 0.4905679"
      ]
     },
     "metadata": {},
     "output_type": "display_data"
    },
    {
     "data": {
      "text/html": [
       "0.887112227030956"
      ],
      "text/latex": [
       "0.887112227030956"
      ],
      "text/markdown": [
       "0.887112227030956"
      ],
      "text/plain": [
       "[1] 0.8871122"
      ]
     },
     "metadata": {},
     "output_type": "display_data"
    }
   ],
   "source": [
    "p <- 30269\n",
    "a <- 171\n",
    "seed <- 15\n",
    "\n",
    "gen_random_unif <- function(){\n",
    "    ## <<- is poor coding style, don't use in practice\n",
    "    ## this sets the value of seed *outside* of the function\n",
    "    seed <<- (a*seed) %% p \n",
    "    return(seed/p)\n",
    "}\n",
    "\n",
    "\n",
    "\n",
    "gen_random_unif()\n",
    "gen_random_unif()\n",
    "gen_random_unif()\n",
    "\n",
    "\n",
    "## run this function 1000 times\n",
    "x <- replicate(1000,gen_random_unif())\n",
    "\n"
   ]
  },
  {
   "cell_type": "code",
   "execution_count": 36,
   "metadata": {},
   "outputs": [
    {
     "data": {
      "text/html": [
       "0.50089005252899"
      ],
      "text/latex": [
       "0.50089005252899"
      ],
      "text/markdown": [
       "0.50089005252899"
      ],
      "text/plain": [
       "[1] 0.5008901"
      ]
     },
     "metadata": {},
     "output_type": "display_data"
    },
    {
     "data": {
      "image/png": "[encoded data removed]",
      "text/plain": [
       "Plot with title “Histogram of x”"
      ]
     },
     "metadata": {},
     "output_type": "display_data"
    }
   ],
   "source": [
    "options(repr.plot.height=4,repr.plot.width=5)\n",
    "hist(x)\n",
    "mean(x)"
   ]
  },
  {
   "cell_type": "markdown",
   "metadata": {},
   "source": [
    "## Testing Random Number Generators\n",
    "\n",
    "High quality random number generators will pass the [Diehard tests](https://en.wikipedia.org/wiki/Diehard_tests)"
   ]
  },
  {
   "cell_type": "code",
   "execution_count": 37,
   "metadata": {},
   "outputs": [],
   "source": [
    "### above mutliplicative generator repeats itself\n",
    "### after p-1 random numbers\n",
    "x <- replicate(p,gen_random_unif())"
   ]
  },
  {
   "cell_type": "code",
   "execution_count": 38,
   "metadata": {},
   "outputs": [
    {
     "data": {
      "text/html": [
       "<ol class=list-inline>\n",
       "\t<li>0.00512075060292709</li>\n",
       "\t<li>0.875648353100532</li>\n",
       "\t<li>0.735868380190954</li>\n",
       "\t<li>0.83349301265321</li>\n",
       "\t<li>0.527305163698834</li>\n",
       "\t<li>0.169182992500578</li>\n",
       "</ol>\n"
      ],
      "text/latex": [
       "\\begin{enumerate*}\n",
       "\\item 0.00512075060292709\n",
       "\\item 0.875648353100532\n",
       "\\item 0.735868380190954\n",
       "\\item 0.83349301265321\n",
       "\\item 0.527305163698834\n",
       "\\item 0.169182992500578\n",
       "\\end{enumerate*}\n"
      ],
      "text/markdown": [
       "1. 0.00512075060292709\n",
       "2. 0.875648353100532\n",
       "3. 0.735868380190954\n",
       "4. 0.83349301265321\n",
       "5. 0.527305163698834\n",
       "6. 0.169182992500578\n",
       "\n",
       "\n"
      ],
      "text/plain": [
       "[1] 0.005120751 0.875648353 0.735868380 0.833493013 0.527305164 0.169182993"
      ]
     },
     "metadata": {},
     "output_type": "display_data"
    },
    {
     "data": {
      "text/html": [
       "<ol class=list-inline>\n",
       "\t<li>0.483068485909677</li>\n",
       "\t<li>0.604711090554693</li>\n",
       "\t<li>0.405596484852489</li>\n",
       "\t<li>0.356998909775678</li>\n",
       "\t<li>0.0468135716409528</li>\n",
       "\t<li>0.00512075060292709</li>\n",
       "</ol>\n"
      ],
      "text/latex": [
       "\\begin{enumerate*}\n",
       "\\item 0.483068485909677\n",
       "\\item 0.604711090554693\n",
       "\\item 0.405596484852489\n",
       "\\item 0.356998909775678\n",
       "\\item 0.0468135716409528\n",
       "\\item 0.00512075060292709\n",
       "\\end{enumerate*}\n"
      ],
      "text/markdown": [
       "1. 0.483068485909677\n",
       "2. 0.604711090554693\n",
       "3. 0.405596484852489\n",
       "4. 0.356998909775678\n",
       "5. 0.0468135716409528\n",
       "6. 0.00512075060292709\n",
       "\n",
       "\n"
      ],
      "text/plain": [
       "[1] 0.483068486 0.604711091 0.405596485 0.356998910 0.046813572 0.005120751"
      ]
     },
     "metadata": {},
     "output_type": "display_data"
    },
    {
     "data": {
      "image/png": "[encoded data removed]",
      "text/plain": [
       "Plot with title “Histogram of x”"
      ]
     },
     "metadata": {},
     "output_type": "display_data"
    }
   ],
   "source": [
    "head(x)\n",
    "tail(x)\n",
    "hist(x)"
   ]
  },
  {
   "cell_type": "code",
   "execution_count": 39,
   "metadata": {},
   "outputs": [
    {
     "data": {
      "image/png": "[encoded data removed]",
      "text/plain": [
       "Plot with title “Histogram of runif(p)”"
      ]
     },
     "metadata": {},
     "output_type": "display_data"
    }
   ],
   "source": [
    "## more realistic level of uncertainty\n",
    "hist(runif(p))"
   ]
  },
  {
   "cell_type": "markdown",
   "metadata": {},
   "source": [
    "## Wichmann Hill\n",
    "\n",
    "Idea: Generate 3 random uniform random deviates using 3 different multiplicative generators (3 $a$ values and 3 $p$)."
   ]
  },
  {
   "cell_type": "code",
   "execution_count": 41,
   "metadata": {
    "collapsed": true
   },
   "outputs": [],
   "source": [
    "## following code taken from examples in ?.Random.seed\n",
    "## This shows how 'runif(.)' works for Wichmann-Hill,\n",
    "## using only R functions:\n",
    "p.WH <- c(30269, 30307, 30323)\n",
    "a.WH <- c(  171,   172,   170)\n",
    "next.WHseed <- function(i.seed = .Random.seed[-1]) {\n",
    "    (a.WH * i.seed) %% p.WH\n",
    "}"
   ]
  },
  {
   "cell_type": "code",
   "execution_count": 43,
   "metadata": {},
   "outputs": [
    {
     "data": {
      "text/html": [
       "<ol class=list-inline>\n",
       "\t<li>400</li>\n",
       "\t<li>9948</li>\n",
       "\t<li>7713</li>\n",
       "\t<li>21154</li>\n",
       "</ol>\n"
      ],
      "text/latex": [
       "\\begin{enumerate*}\n",
       "\\item 400\n",
       "\\item 9948\n",
       "\\item 7713\n",
       "\\item 21154\n",
       "\\end{enumerate*}\n"
      ],
      "text/markdown": [
       "1. 400\n",
       "2. 9948\n",
       "3. 7713\n",
       "4. 21154\n",
       "\n",
       "\n"
      ],
      "text/plain": [
       "[1]   400  9948  7713 21154"
      ]
     },
     "metadata": {},
     "output_type": "display_data"
    },
    {
     "data": {
      "text/html": [
       "<ol class=list-inline>\n",
       "\t<li>9948</li>\n",
       "\t<li>7713</li>\n",
       "\t<li>21154</li>\n",
       "</ol>\n"
      ],
      "text/latex": [
       "\\begin{enumerate*}\n",
       "\\item 9948\n",
       "\\item 7713\n",
       "\\item 21154\n",
       "\\end{enumerate*}\n"
      ],
      "text/markdown": [
       "1. 9948\n",
       "2. 7713\n",
       "3. 21154\n",
       "\n",
       "\n"
      ],
      "text/plain": [
       "[1]  9948  7713 21154"
      ]
     },
     "metadata": {},
     "output_type": "display_data"
    }
   ],
   "source": [
    ".Random.seed\n",
    ".Random.seed[-1]"
   ]
  },
  {
   "cell_type": "code",
   "execution_count": 44,
   "metadata": {},
   "outputs": [
    {
     "data": {
      "text/html": [
       "<ol class=list-inline>\n",
       "\t<li>6044</li>\n",
       "\t<li>23435</li>\n",
       "\t<li>18066</li>\n",
       "</ol>\n"
      ],
      "text/latex": [
       "\\begin{enumerate*}\n",
       "\\item 6044\n",
       "\\item 23435\n",
       "\\item 18066\n",
       "\\end{enumerate*}\n"
      ],
      "text/markdown": [
       "1. 6044\n",
       "2. 23435\n",
       "3. 18066\n",
       "\n",
       "\n"
      ],
      "text/plain": [
       "[1]  6044 23435 18066"
      ]
     },
     "metadata": {},
     "output_type": "display_data"
    }
   ],
   "source": [
    "next.WHseed()"
   ]
  },
  {
   "cell_type": "code",
   "execution_count": 46,
   "metadata": {},
   "outputs": [
    {
     "data": {
      "text/html": [
       "0.568715317614569"
      ],
      "text/latex": [
       "0.568715317614569"
      ],
      "text/markdown": [
       "0.568715317614569"
      ],
      "text/plain": [
       "[1] 0.5687153"
      ]
     },
     "metadata": {},
     "output_type": "display_data"
    },
    {
     "data": {
      "text/html": [
       "<ol class=list-inline>\n",
       "\t<li>400</li>\n",
       "\t<li>6044</li>\n",
       "\t<li>23435</li>\n",
       "\t<li>18066</li>\n",
       "</ol>\n"
      ],
      "text/latex": [
       "\\begin{enumerate*}\n",
       "\\item 400\n",
       "\\item 6044\n",
       "\\item 23435\n",
       "\\item 18066\n",
       "\\end{enumerate*}\n"
      ],
      "text/markdown": [
       "1. 400\n",
       "2. 6044\n",
       "3. 23435\n",
       "4. 18066\n",
       "\n",
       "\n"
      ],
      "text/plain": [
       "[1]   400  6044 23435 18066"
      ]
     },
     "metadata": {},
     "output_type": "display_data"
    }
   ],
   "source": [
    "runif(n=1)\n",
    ".Random.seed"
   ]
  },
  {
   "cell_type": "code",
   "execution_count": 47,
   "metadata": {},
   "outputs": [
    {
     "data": {
      "text/html": [
       "<ol class=list-inline>\n",
       "\t<li>0.427787638419778</li>\n",
       "\t<li>0.867809053163042</li>\n",
       "\t<li>0.135512360736382</li>\n",
       "\t<li>0.875683917559894</li>\n",
       "\t<li>0.788718528681939</li>\n",
       "\t<li>0.0921653618129814</li>\n",
       "\t<li>0.929213746775052</li>\n",
       "\t<li>0.948933977955593</li>\n",
       "\t<li>0.810515470247123</li>\n",
       "\t<li>0.310447146339754</li>\n",
       "</ol>\n"
      ],
      "text/latex": [
       "\\begin{enumerate*}\n",
       "\\item 0.427787638419778\n",
       "\\item 0.867809053163042\n",
       "\\item 0.135512360736382\n",
       "\\item 0.875683917559894\n",
       "\\item 0.788718528681939\n",
       "\\item 0.0921653618129814\n",
       "\\item 0.929213746775052\n",
       "\\item 0.948933977955593\n",
       "\\item 0.810515470247123\n",
       "\\item 0.310447146339754\n",
       "\\end{enumerate*}\n"
      ],
      "text/markdown": [
       "1. 0.427787638419778\n",
       "2. 0.867809053163042\n",
       "3. 0.135512360736382\n",
       "4. 0.875683917559894\n",
       "5. 0.788718528681939\n",
       "6. 0.0921653618129814\n",
       "7. 0.929213746775052\n",
       "8. 0.948933977955593\n",
       "9. 0.810515470247123\n",
       "10. 0.310447146339754\n",
       "\n",
       "\n"
      ],
      "text/plain": [
       " [1] 0.42778764 0.86780905 0.13551236 0.87568392 0.78871853 0.09216536\n",
       " [7] 0.92921375 0.94893398 0.81051547 0.31044715"
      ]
     },
     "metadata": {},
     "output_type": "display_data"
    },
    {
     "data": {
      "text/html": [
       "<ol class=list-inline>\n",
       "\t<li>0.427787638419778</li>\n",
       "\t<li>0.867809053163042</li>\n",
       "\t<li>0.135512360736382</li>\n",
       "\t<li>0.875683917559894</li>\n",
       "\t<li>0.788718528681939</li>\n",
       "\t<li>0.0921653618129814</li>\n",
       "\t<li>0.929213746775052</li>\n",
       "\t<li>0.948933977955593</li>\n",
       "\t<li>0.810515470247123</li>\n",
       "\t<li>0.310447146339754</li>\n",
       "</ol>\n"
      ],
      "text/latex": [
       "\\begin{enumerate*}\n",
       "\\item 0.427787638419778\n",
       "\\item 0.867809053163042\n",
       "\\item 0.135512360736382\n",
       "\\item 0.875683917559894\n",
       "\\item 0.788718528681939\n",
       "\\item 0.0921653618129814\n",
       "\\item 0.929213746775052\n",
       "\\item 0.948933977955593\n",
       "\\item 0.810515470247123\n",
       "\\item 0.310447146339754\n",
       "\\end{enumerate*}\n"
      ],
      "text/markdown": [
       "1. 0.427787638419778\n",
       "2. 0.867809053163042\n",
       "3. 0.135512360736382\n",
       "4. 0.875683917559894\n",
       "5. 0.788718528681939\n",
       "6. 0.0921653618129814\n",
       "7. 0.929213746775052\n",
       "8. 0.948933977955593\n",
       "9. 0.810515470247123\n",
       "10. 0.310447146339754\n",
       "\n",
       "\n"
      ],
      "text/plain": [
       " [1] 0.42778764 0.86780905 0.13551236 0.87568392 0.78871853 0.09216536\n",
       " [7] 0.92921375 0.94893398 0.81051547 0.31044715"
      ]
     },
     "metadata": {},
     "output_type": "display_data"
    }
   ],
   "source": [
    "## \"predict\" the next random number generated by R\n",
    "\n",
    "### QUESTION: how does runif alter .Random.seed?\n",
    "###           how to choose initial state?\n",
    "\n",
    "\n",
    "### generates n random uniform from Wichmann-Hill\n",
    "### using starting seed\n",
    "myunif <- function(n,seed){\n",
    "    p.WH <- c(30269, 30307, 30323)\n",
    "    a.WH <- c(  171,   172,   170)\n",
    "    X <- matrix(0,ncol=3,nrow=n+1)\n",
    "    X[1,] <- seed\n",
    "    for(ii in 2:(n+1)){\n",
    "        X[ii,] <- (a.WH * X[ii-1,]) %% p.WH\n",
    "    }\n",
    "    x <- colSums(t(X) / p.WH) %% 1\n",
    "    return(x[-1])\n",
    "}\n",
    "\n",
    "\n",
    "n <- 10\n",
    "myunif(n,.Random.seed[-1])\n",
    "runif(n) ## updates .Random.seed, so next run differet\n"
   ]
  },
  {
   "cell_type": "code",
   "execution_count": null,
   "metadata": {
    "collapsed": true
   },
   "outputs": [],
   "source": [
    "### wichmann hill has a cycle length approx 6.95×10^12"
   ]
  }
 ],
 "metadata": {
  "kernelspec": {
   "display_name": "R",
   "language": "R",
   "name": "ir"
  },
  "language_info": {
   "codemirror_mode": "r",
   "file_extension": ".r",
   "mimetype": "text/x-r-source",
   "name": "R",
   "pygments_lexer": "r",
   "version": "3.4.2"
  }
 },
 "nbformat": 4,
 "nbformat_minor": 1
}
