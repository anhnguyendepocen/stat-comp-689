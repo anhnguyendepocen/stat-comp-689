{
 "cells": [
  {
   "cell_type": "markdown",
   "metadata": {},
   "source": [
    "## Block Relaxation for NBA Scoring\n",
    "\n",
    "\n",
    "Reproduces Figure 11.1 in Lange."
   ]
  },
  {
   "cell_type": "code",
   "execution_count": 4,
   "metadata": {
    "collapsed": true
   },
   "outputs": [],
   "source": [
    "library(data.table)\n",
    "\n",
    "set.seed(1234)\n",
    "\n",
    "## read data, order times, fold lc, put in x,y,sig variables\n",
    "dat <- as.data.frame(fread(\"http://longjp.github.io/statcomp/data/nba_cleaned.txt\"))"
   ]
  },
  {
   "cell_type": "code",
   "execution_count": 5,
   "metadata": {
    "collapsed": false
   },
   "outputs": [
    {
     "data": {
      "text/html": [
       "<table>\n",
       "<thead><tr><th scope=col>team1_name</th><th scope=col>team1_score</th><th scope=col>team2_name</th><th scope=col>team2_score</th><th scope=col>location</th><th scope=col>nOT</th><th scope=col>game_length</th></tr></thead>\n",
       "<tbody>\n",
       "\t<tr><td>San Antonio Spurs    </td><td> 87                  </td><td>Los Angeles Lakers   </td><td>82                   </td><td>Los Angeles          </td><td>0                    </td><td>48                   </td></tr>\n",
       "\t<tr><td>Orlando Magic        </td><td> 95                  </td><td>Philadelphia 76ers   </td><td>88                   </td><td>Orlando              </td><td>0                    </td><td>48                   </td></tr>\n",
       "\t<tr><td>Sacramento Kings     </td><td> 94                  </td><td>Cleveland Cavaliers  </td><td>67                   </td><td>Sacramento           </td><td>0                    </td><td>48                   </td></tr>\n",
       "\t<tr><td>Chicago Bulls        </td><td> 99                  </td><td>Boston Celtics       </td><td>96                   </td><td>Boston               </td><td>0                    </td><td>48                   </td></tr>\n",
       "\t<tr><td>Detroit Pistons      </td><td> 86                  </td><td>New York Knicks      </td><td>77                   </td><td>Detroit              </td><td>0                    </td><td>48                   </td></tr>\n",
       "\t<tr><td>Golden State Warriors</td><td>106                  </td><td>San Antonio Spurs    </td><td>98                   </td><td>Golden State         </td><td>0                    </td><td>48                   </td></tr>\n",
       "</tbody>\n",
       "</table>\n"
      ],
      "text/latex": [
       "\\begin{tabular}{r|lllllll}\n",
       " team1\\_name & team1\\_score & team2\\_name & team2\\_score & location & nOT & game\\_length\\\\\n",
       "\\hline\n",
       "\t San Antonio Spurs     &  87                   & Los Angeles Lakers    & 82                    & Los Angeles           & 0                     & 48                   \\\\\n",
       "\t Orlando Magic         &  95                   & Philadelphia 76ers    & 88                    & Orlando               & 0                     & 48                   \\\\\n",
       "\t Sacramento Kings      &  94                   & Cleveland Cavaliers   & 67                    & Sacramento            & 0                     & 48                   \\\\\n",
       "\t Chicago Bulls         &  99                   & Boston Celtics        & 96                    & Boston                & 0                     & 48                   \\\\\n",
       "\t Detroit Pistons       &  86                   & New York Knicks       & 77                    & Detroit               & 0                     & 48                   \\\\\n",
       "\t Golden State Warriors & 106                   & San Antonio Spurs     & 98                    & Golden State          & 0                     & 48                   \\\\\n",
       "\\end{tabular}\n"
      ],
      "text/markdown": [
       "\n",
       "team1_name | team1_score | team2_name | team2_score | location | nOT | game_length | \n",
       "|---|---|---|---|---|---|\n",
       "| San Antonio Spurs     |  87                   | Los Angeles Lakers    | 82                    | Los Angeles           | 0                     | 48                    | \n",
       "| Orlando Magic         |  95                   | Philadelphia 76ers    | 88                    | Orlando               | 0                     | 48                    | \n",
       "| Sacramento Kings      |  94                   | Cleveland Cavaliers   | 67                    | Sacramento            | 0                     | 48                    | \n",
       "| Chicago Bulls         |  99                   | Boston Celtics        | 96                    | Boston                | 0                     | 48                    | \n",
       "| Detroit Pistons       |  86                   | New York Knicks       | 77                    | Detroit               | 0                     | 48                    | \n",
       "| Golden State Warriors | 106                   | San Antonio Spurs     | 98                    | Golden State          | 0                     | 48                    | \n",
       "\n",
       "\n"
      ],
      "text/plain": [
       "  team1_name            team1_score team2_name          team2_score\n",
       "1 San Antonio Spurs      87         Los Angeles Lakers  82         \n",
       "2 Orlando Magic          95         Philadelphia 76ers  88         \n",
       "3 Sacramento Kings       94         Cleveland Cavaliers 67         \n",
       "4 Chicago Bulls          99         Boston Celtics      96         \n",
       "5 Detroit Pistons        86         New York Knicks     77         \n",
       "6 Golden State Warriors 106         San Antonio Spurs   98         \n",
       "  location     nOT game_length\n",
       "1 Los Angeles  0   48         \n",
       "2 Orlando      0   48         \n",
       "3 Sacramento   0   48         \n",
       "4 Boston       0   48         \n",
       "5 Detroit      0   48         \n",
       "6 Golden State 0   48         "
      ]
     },
     "metadata": {},
     "output_type": "display_data"
    }
   ],
   "source": [
    "head(dat)"
   ]
  },
  {
   "cell_type": "code",
   "execution_count": 6,
   "metadata": {
    "collapsed": true
   },
   "outputs": [],
   "source": [
    "\n",
    "team_names <- unique(c(dat$team1_name,dat$team2_name))\n",
    "n_team <- length(team_names)\n"
   ]
  },
  {
   "cell_type": "markdown",
   "metadata": {},
   "source": [
    "## Model Prep\n",
    "\n",
    "Before fitting the model, we convert the information in the data frame into matrices. This leads to much faster code than for loops. There is also less code."
   ]
  },
  {
   "cell_type": "code",
   "execution_count": 12,
   "metadata": {
    "collapsed": true
   },
   "outputs": [],
   "source": [
    "\n",
    "\n",
    "##### STEP 1: PUT DATA IN NICE MATRICES\n",
    "## T = t_ij = total time (across all games) \n",
    "##            team i played team j (symmetric)\n",
    "## P = p_ij = total points (across all games)\n",
    "##            i scores on j (not symmetric)\n",
    "T <- matrix(0,nrow=n_team,ncol=n_team,dimnames=list(team_names,team_names))\n",
    "P <- matrix(0,nrow=n_team,ncol=n_team,dimnames=list(team_names,team_names))\n",
    "for(ii in 1:nrow(T)){\n",
    "    ## find opponent and game length of opponents for particular row\n",
    "    out <- subset(dat,team1_name==rownames(T)[ii],select=c(\"team2_name\",\"team1_score\",\"team2_score\",\"game_length\"))\n",
    "    ## calculate total minutes, points scored, points allowed\n",
    "    mins <- tapply(out[,4],out[,1],sum)\n",
    "    ps <- tapply(out[,2],out[,1],sum)\n",
    "    pg <- tapply(out[,3],out[,1],sum)\n",
    "    ## record data in matrices\n",
    "    T[ii,names(mins)] <- mins\n",
    "    P[ii,names(ps)] <- P[ii,names(ps)] + ps\n",
    "    P[names(ps),ii] <- P[names(ps),ii] + pg\n",
    "}\n",
    "## right now t_ij is time team i played j when team i won\n",
    "##      thus t_ji is time team i played j when team j won\n",
    "## by adding transpose we get total time i played j\n",
    "T <- T + t(T) \n",
    "\n",
    "\n",
    "Prs <- rowSums(P) ## \\sum_j p_ij\n",
    "Pcs <- colSums(P) ## \\sum_j p_j"
   ]
  },
  {
   "cell_type": "markdown",
   "metadata": {},
   "source": [
    "## Fit Model with Block Relaxation"
   ]
  },
  {
   "cell_type": "code",
   "execution_count": 13,
   "metadata": {
    "collapsed": true
   },
   "outputs": [],
   "source": [
    "## od is matrix of parameter fits for o and d\n",
    "od <- matrix(0,nrow=n_team,ncol=2)\n",
    "colnames(od) <- c(\"o\",\"d\")\n",
    "rownames(od) <- colnames(T)\n",
    "\n",
    "## N iterations\n",
    "N <- 1000\n",
    "for(jj in 1:N){\n",
    "    od[,2] <- -log(Pcs / colSums(T*exp(od[,1])))\n",
    "    od[1,2] <- 0 ## force d_1 = 0 for identifiability\n",
    "    od[,1] <- log(Prs / colSums(t(T)*exp(-od[,2])))\n",
    "}\n",
    "## normalize od to 0\n",
    "od <- od - mean(od)\n",
    "\n",
    "\n"
   ]
  },
  {
   "cell_type": "markdown",
   "metadata": {},
   "source": [
    "## Explore Model Output"
   ]
  },
  {
   "cell_type": "code",
   "execution_count": 14,
   "metadata": {
    "collapsed": false
   },
   "outputs": [
    {
     "data": {
      "text/html": [
       "<table>\n",
       "<thead><tr><th></th><th scope=col>o</th><th scope=col>d</th><th scope=col>rank</th></tr></thead>\n",
       "<tbody>\n",
       "\t<tr><th scope=row>Dallas Mavericks</th><td>0.4215041   </td><td>-0.3411479  </td><td> 0.080356174</td></tr>\n",
       "\t<tr><th scope=row>Sacramento Kings</th><td>0.4066285   </td><td>-0.3380678  </td><td> 0.068560677</td></tr>\n",
       "\t<tr><th scope=row>San Antonio Spurs</th><td>0.3439711   </td><td>-0.2828856  </td><td> 0.061085487</td></tr>\n",
       "\t<tr><th scope=row>New Jersey Nets</th><td>0.3414096   </td><td>-0.2932668  </td><td> 0.048142748</td></tr>\n",
       "\t<tr><th scope=row>Detroit Pistons</th><td>0.2901222   </td><td>-0.2564915  </td><td> 0.033630702</td></tr>\n",
       "\t<tr><th scope=row>Portland Trail Blazers</th><td>0.3369430   </td><td>-0.3049073  </td><td> 0.032035695</td></tr>\n",
       "\t<tr><th scope=row>Utah Jazz</th><td>0.3355636   </td><td>-0.3056435  </td><td> 0.029920032</td></tr>\n",
       "\t<tr><th scope=row>Indiana Pacers</th><td>0.3513442   </td><td>-0.3217878  </td><td> 0.029556352</td></tr>\n",
       "\t<tr><th scope=row>Los Angeles Lakers</th><td>0.3891876   </td><td>-0.3614755  </td><td> 0.027712080</td></tr>\n",
       "\t<tr><th scope=row>Minnesota Timberwolves</th><td>0.3721519   </td><td>-0.3462022  </td><td> 0.025949777</td></tr>\n",
       "\t<tr><th scope=row>Houston Rockets</th><td>0.3179905   </td><td>-0.2975185  </td><td> 0.020471997</td></tr>\n",
       "\t<tr><th scope=row>Philadelphia 76ers</th><td>0.3545459   </td><td>-0.3358894  </td><td> 0.018656467</td></tr>\n",
       "\t<tr><th scope=row>New Orleans Hornets</th><td>0.3196252   </td><td>-0.3027203  </td><td> 0.016904962</td></tr>\n",
       "\t<tr><th scope=row>Phoenix Suns</th><td>0.3445226   </td><td>-0.3278788  </td><td> 0.016643832</td></tr>\n",
       "\t<tr><th scope=row>Seattle Supersonics</th><td>0.3044337   </td><td>-0.3004859  </td><td> 0.003947781</td></tr>\n",
       "\t<tr><th scope=row>Milwaukee Bucks</th><td>0.3807191   </td><td>-0.3834438  </td><td>-0.002724775</td></tr>\n",
       "\t<tr><th scope=row>Orlando Magic</th><td>0.3760295   </td><td>-0.3799111  </td><td>-0.003881568</td></tr>\n",
       "\t<tr><th scope=row>Golden State Warriors</th><td>0.4217077   </td><td>-0.4268428  </td><td>-0.005135118</td></tr>\n",
       "\t<tr><th scope=row>Boston Celtics</th><td>0.3118542   </td><td>-0.3195907  </td><td>-0.007736417</td></tr>\n",
       "\t<tr><th scope=row>Washington Wizards</th><td>0.2985172   </td><td>-0.3138184  </td><td>-0.015301148</td></tr>\n",
       "\t<tr><th scope=row>New York Knicks</th><td>0.3473324   </td><td>-0.3637768  </td><td>-0.016444431</td></tr>\n",
       "\t<tr><th scope=row>Memphis Grizzlies</th><td>0.3619419   </td><td>-0.3874427  </td><td>-0.025500871</td></tr>\n",
       "\t<tr><th scope=row>Los Angeles Clippers</th><td>0.3308846   </td><td>-0.3664018  </td><td>-0.035517171</td></tr>\n",
       "\t<tr><th scope=row>Atlanta Hawks</th><td>0.3253284   </td><td>-0.3655148  </td><td>-0.040186369</td></tr>\n",
       "\t<tr><th scope=row>Chicago Bulls</th><td>0.3338552   </td><td>-0.3882767  </td><td>-0.054421477</td></tr>\n",
       "\t<tr><th scope=row>Miami Heat</th><td>0.2312901   </td><td>-0.2893856  </td><td>-0.058095460</td></tr>\n",
       "\t<tr><th scope=row>Toronto Raptors</th><td>0.2945670   </td><td>-0.3592565  </td><td>-0.064689568</td></tr>\n",
       "\t<tr><th scope=row>Denver Nuggets</th><td>0.2203934   </td><td>-0.3048968  </td><td>-0.084503351</td></tr>\n",
       "\t<tr><th scope=row>Cleveland Cavaliers</th><td>0.3012796   </td><td>-0.4007167  </td><td>-0.099437038</td></tr>\n",
       "</tbody>\n",
       "</table>\n"
      ],
      "text/latex": [
       "\\begin{tabular}{r|lll}\n",
       "  & o & d & rank\\\\\n",
       "\\hline\n",
       "\tDallas Mavericks & 0.4215041    & -0.3411479   &  0.080356174\\\\\n",
       "\tSacramento Kings & 0.4066285    & -0.3380678   &  0.068560677\\\\\n",
       "\tSan Antonio Spurs & 0.3439711    & -0.2828856   &  0.061085487\\\\\n",
       "\tNew Jersey Nets & 0.3414096    & -0.2932668   &  0.048142748\\\\\n",
       "\tDetroit Pistons & 0.2901222    & -0.2564915   &  0.033630702\\\\\n",
       "\tPortland Trail Blazers & 0.3369430    & -0.3049073   &  0.032035695\\\\\n",
       "\tUtah Jazz & 0.3355636    & -0.3056435   &  0.029920032\\\\\n",
       "\tIndiana Pacers & 0.3513442    & -0.3217878   &  0.029556352\\\\\n",
       "\tLos Angeles Lakers & 0.3891876    & -0.3614755   &  0.027712080\\\\\n",
       "\tMinnesota Timberwolves & 0.3721519    & -0.3462022   &  0.025949777\\\\\n",
       "\tHouston Rockets & 0.3179905    & -0.2975185   &  0.020471997\\\\\n",
       "\tPhiladelphia 76ers & 0.3545459    & -0.3358894   &  0.018656467\\\\\n",
       "\tNew Orleans Hornets & 0.3196252    & -0.3027203   &  0.016904962\\\\\n",
       "\tPhoenix Suns & 0.3445226    & -0.3278788   &  0.016643832\\\\\n",
       "\tSeattle Supersonics & 0.3044337    & -0.3004859   &  0.003947781\\\\\n",
       "\tMilwaukee Bucks & 0.3807191    & -0.3834438   & -0.002724775\\\\\n",
       "\tOrlando Magic & 0.3760295    & -0.3799111   & -0.003881568\\\\\n",
       "\tGolden State Warriors & 0.4217077    & -0.4268428   & -0.005135118\\\\\n",
       "\tBoston Celtics & 0.3118542    & -0.3195907   & -0.007736417\\\\\n",
       "\tWashington Wizards & 0.2985172    & -0.3138184   & -0.015301148\\\\\n",
       "\tNew York Knicks & 0.3473324    & -0.3637768   & -0.016444431\\\\\n",
       "\tMemphis Grizzlies & 0.3619419    & -0.3874427   & -0.025500871\\\\\n",
       "\tLos Angeles Clippers & 0.3308846    & -0.3664018   & -0.035517171\\\\\n",
       "\tAtlanta Hawks & 0.3253284    & -0.3655148   & -0.040186369\\\\\n",
       "\tChicago Bulls & 0.3338552    & -0.3882767   & -0.054421477\\\\\n",
       "\tMiami Heat & 0.2312901    & -0.2893856   & -0.058095460\\\\\n",
       "\tToronto Raptors & 0.2945670    & -0.3592565   & -0.064689568\\\\\n",
       "\tDenver Nuggets & 0.2203934    & -0.3048968   & -0.084503351\\\\\n",
       "\tCleveland Cavaliers & 0.3012796    & -0.4007167   & -0.099437038\\\\\n",
       "\\end{tabular}\n"
      ],
      "text/markdown": [
       "\n",
       "| <!--/--> | o | d | rank | \n",
       "|---|---|---|---|---|---|---|---|---|---|---|---|---|---|---|---|---|---|---|---|---|---|---|---|---|---|---|---|---|\n",
       "| Dallas Mavericks | 0.4215041    | -0.3411479   |  0.080356174 | \n",
       "| Sacramento Kings | 0.4066285    | -0.3380678   |  0.068560677 | \n",
       "| San Antonio Spurs | 0.3439711    | -0.2828856   |  0.061085487 | \n",
       "| New Jersey Nets | 0.3414096    | -0.2932668   |  0.048142748 | \n",
       "| Detroit Pistons | 0.2901222    | -0.2564915   |  0.033630702 | \n",
       "| Portland Trail Blazers | 0.3369430    | -0.3049073   |  0.032035695 | \n",
       "| Utah Jazz | 0.3355636    | -0.3056435   |  0.029920032 | \n",
       "| Indiana Pacers | 0.3513442    | -0.3217878   |  0.029556352 | \n",
       "| Los Angeles Lakers | 0.3891876    | -0.3614755   |  0.027712080 | \n",
       "| Minnesota Timberwolves | 0.3721519    | -0.3462022   |  0.025949777 | \n",
       "| Houston Rockets | 0.3179905    | -0.2975185   |  0.020471997 | \n",
       "| Philadelphia 76ers | 0.3545459    | -0.3358894   |  0.018656467 | \n",
       "| New Orleans Hornets | 0.3196252    | -0.3027203   |  0.016904962 | \n",
       "| Phoenix Suns | 0.3445226    | -0.3278788   |  0.016643832 | \n",
       "| Seattle Supersonics | 0.3044337    | -0.3004859   |  0.003947781 | \n",
       "| Milwaukee Bucks | 0.3807191    | -0.3834438   | -0.002724775 | \n",
       "| Orlando Magic | 0.3760295    | -0.3799111   | -0.003881568 | \n",
       "| Golden State Warriors | 0.4217077    | -0.4268428   | -0.005135118 | \n",
       "| Boston Celtics | 0.3118542    | -0.3195907   | -0.007736417 | \n",
       "| Washington Wizards | 0.2985172    | -0.3138184   | -0.015301148 | \n",
       "| New York Knicks | 0.3473324    | -0.3637768   | -0.016444431 | \n",
       "| Memphis Grizzlies | 0.3619419    | -0.3874427   | -0.025500871 | \n",
       "| Los Angeles Clippers | 0.3308846    | -0.3664018   | -0.035517171 | \n",
       "| Atlanta Hawks | 0.3253284    | -0.3655148   | -0.040186369 | \n",
       "| Chicago Bulls | 0.3338552    | -0.3882767   | -0.054421477 | \n",
       "| Miami Heat | 0.2312901    | -0.2893856   | -0.058095460 | \n",
       "| Toronto Raptors | 0.2945670    | -0.3592565   | -0.064689568 | \n",
       "| Denver Nuggets | 0.2203934    | -0.3048968   | -0.084503351 | \n",
       "| Cleveland Cavaliers | 0.3012796    | -0.4007167   | -0.099437038 | \n",
       "\n",
       "\n"
      ],
      "text/plain": [
       "                       o         d          rank        \n",
       "Dallas Mavericks       0.4215041 -0.3411479  0.080356174\n",
       "Sacramento Kings       0.4066285 -0.3380678  0.068560677\n",
       "San Antonio Spurs      0.3439711 -0.2828856  0.061085487\n",
       "New Jersey Nets        0.3414096 -0.2932668  0.048142748\n",
       "Detroit Pistons        0.2901222 -0.2564915  0.033630702\n",
       "Portland Trail Blazers 0.3369430 -0.3049073  0.032035695\n",
       "Utah Jazz              0.3355636 -0.3056435  0.029920032\n",
       "Indiana Pacers         0.3513442 -0.3217878  0.029556352\n",
       "Los Angeles Lakers     0.3891876 -0.3614755  0.027712080\n",
       "Minnesota Timberwolves 0.3721519 -0.3462022  0.025949777\n",
       "Houston Rockets        0.3179905 -0.2975185  0.020471997\n",
       "Philadelphia 76ers     0.3545459 -0.3358894  0.018656467\n",
       "New Orleans Hornets    0.3196252 -0.3027203  0.016904962\n",
       "Phoenix Suns           0.3445226 -0.3278788  0.016643832\n",
       "Seattle Supersonics    0.3044337 -0.3004859  0.003947781\n",
       "Milwaukee Bucks        0.3807191 -0.3834438 -0.002724775\n",
       "Orlando Magic          0.3760295 -0.3799111 -0.003881568\n",
       "Golden State Warriors  0.4217077 -0.4268428 -0.005135118\n",
       "Boston Celtics         0.3118542 -0.3195907 -0.007736417\n",
       "Washington Wizards     0.2985172 -0.3138184 -0.015301148\n",
       "New York Knicks        0.3473324 -0.3637768 -0.016444431\n",
       "Memphis Grizzlies      0.3619419 -0.3874427 -0.025500871\n",
       "Los Angeles Clippers   0.3308846 -0.3664018 -0.035517171\n",
       "Atlanta Hawks          0.3253284 -0.3655148 -0.040186369\n",
       "Chicago Bulls          0.3338552 -0.3882767 -0.054421477\n",
       "Miami Heat             0.2312901 -0.2893856 -0.058095460\n",
       "Toronto Raptors        0.2945670 -0.3592565 -0.064689568\n",
       "Denver Nuggets         0.2203934 -0.3048968 -0.084503351\n",
       "Cleveland Cavaliers    0.3012796 -0.4007167 -0.099437038"
      ]
     },
     "metadata": {},
     "output_type": "display_data"
    }
   ],
   "source": [
    "## team rankings\n",
    "out <- data.frame(o=od[,1],d=od[,2],rank=rowSums(od))\n",
    "out[order(out$rank,decreasing=TRUE),]"
   ]
  },
  {
   "cell_type": "code",
   "execution_count": 15,
   "metadata": {
    "collapsed": false
   },
   "outputs": [],
   "source": [
    "## MAKE PROBABILISTIC PREDICTIONS: DALLAS versus HOUSTON\n",
    "min <- 48 ## game length\n",
    "dallas_rate <- min*exp(od[\"Dallas Mavericks\",1] - od[\"Houston Rockets\",2])\n",
    "houston_rate <- min*exp(od[\"Houston Rockets\",1] - od[\"Dallas Mavericks\",2])\n",
    "## random draw of scores\n",
    "n <- 1000\n",
    "d_score <- rpois(n,lambda=dallas_rate)\n",
    "h_score <- rpois(n,lambda=houston_rate)\n",
    "\n",
    "\n",
    "scores <- data.frame(c(rep(\"dallas\",n),rep(\"houston\",n)),c(d_score,h_score))\n",
    "colnames(scores) <- c(\"team\",\"points\")\n",
    "\n",
    "\n"
   ]
  },
  {
   "cell_type": "code",
   "execution_count": 16,
   "metadata": {
    "collapsed": false
   },
   "outputs": [
    {
     "data": {},
     "metadata": {},
     "output_type": "display_data"
    },
    {
     "data": {
      "text/html": [
       "0.663"
      ],
      "text/latex": [
       "0.663"
      ],
      "text/markdown": [
       "0.663"
      ],
      "text/plain": [
       "[1] 0.663"
      ]
     },
     "metadata": {},
     "output_type": "display_data"
    },
    {
     "data": {
      "image/png": "[encoded data removed]",
      "text/plain": [
       "plot without title"
      ]
     },
     "metadata": {},
     "output_type": "display_data"
    }
   ],
   "source": [
    "\n",
    "## plot\n",
    "library(ggplot2)\n",
    "options(repr.plot.width=6,repr.plot.height=4)\n",
    "g <- ggplot(scores, aes(points))\n",
    "g + geom_density(aes(fill=factor(team)), alpha=0.8) + \n",
    "    labs(title=\"Density plot\", \n",
    "         subtitle=\"Team Scores\",\n",
    "         caption=\"Source: scores\",\n",
    "         x=\"Points Scored\",\n",
    "         fill=\"Team\")\n",
    "## distributions appear normal because normal approximation to poisson\n",
    "\n",
    "\n",
    "## fraction of time dallas wins in head to head\n",
    "## could also compute analytically\n",
    "mean(d_score > h_score) \n"
   ]
  },
  {
   "cell_type": "markdown",
   "metadata": {},
   "source": [
    "## Model Performance\n",
    "\n",
    "Is this model any good? It is important to have\n",
    "* criteria by which a model can be judged\n",
    "* models (in addition to your own) on which you can make the comparison\n",
    "\n",
    "For example:\n",
    "* criteria: absolute error in game score prediction\n",
    "* simple model: for the next game, predict team X will score whatever its average score has been for all previous games.\n",
    "\n",
    "Test: Compare the simple model to the Poisson model using a set of games which has not been used to fit the models (i.e. a test set).\n",
    "\n",
    "[The Signal and the Noise](https://www.amazon.com/Signal-Noise-Many-Predictions-Fail-but/dp/0143125087/ref=sr_1_1?ie=UTF8&qid=1518143380&sr=8-1&keywords=signal+and+the+noise) has some nice discussion on this."
   ]
  },
  {
   "cell_type": "code",
   "execution_count": null,
   "metadata": {
    "collapsed": true
   },
   "outputs": [],
   "source": []
  }
 ],
 "metadata": {
  "kernelspec": {
   "display_name": "R",
   "language": "R",
   "name": "ir"
  },
  "language_info": {
   "codemirror_mode": "r",
   "file_extension": ".r",
   "mimetype": "text/x-r-source",
   "name": "R",
   "pygments_lexer": "r",
   "version": "3.4.3"
  }
 },
 "nbformat": 4,
 "nbformat_minor": 1
}
